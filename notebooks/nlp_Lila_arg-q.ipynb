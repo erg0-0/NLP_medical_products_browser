{
 "cells": [
  {
   "cell_type": "code",
   "execution_count": 35,
   "metadata": {},
   "outputs": [],
   "source": [
    "import os\n",
    "import fitz\n",
    "import spacy\n",
    "import re\n",
    "import pandas as pd\n",
    "from sklearn.feature_extraction.text import TfidfVectorizer\n",
    "from sklearn.metrics.pairwise import cosine_similarity\n",
    "from datetime import datetime\n",
    "from sentence_transformers import SentenceTransformer\n",
    "import numpy as np\n",
    "import faiss\n",
    "\n",
    "import argparse\n",
    "\n",
    "pd.set_option('display.max_colwidth', None)\n"
   ]
  },
  {
   "cell_type": "code",
   "execution_count": 36,
   "metadata": {},
   "outputs": [
    {
     "name": "stdout",
     "output_type": "stream",
     "text": [
      "Input path: /Users/lili/Projects_studia/_PORTFOLIO/REMOTE/nlp-group2/src/data\n"
     ]
    }
   ],
   "source": [
    "input_path = os.path.join(os.getcwd(), '..', 'src', 'data')\n",
    "input_path = os.path.normpath(input_path)\n",
    "\n",
    "print(f\"Input path: {input_path}\")"
   ]
  },
  {
   "cell_type": "markdown",
   "metadata": {},
   "source": [
    "# utils_dataprep.py - bez zmian"
   ]
  },
  {
   "cell_type": "markdown",
   "metadata": {},
   "source": [
    "Testing data preparation functions"
   ]
  },
  {
   "cell_type": "code",
   "execution_count": 37,
   "metadata": {},
   "outputs": [],
   "source": [
    "#branch 12\n",
    "import os\n",
    "import fitz\n",
    "\n",
    "def read_documents(input_path):\n",
    "    \"\"\"\n",
    "    Read text content from the first four pages of each PDF document in the specified folder.\n",
    "\n",
    "    Args:\n",
    "    - input_path (str): The path to the folder containing the PDF documents.\n",
    "\n",
    "    Returns:\n",
    "    - documents (list): A list of lists, where each inner list contains the filename\n",
    "      and \"CHCPL\" - the combined text content of the first four pages of the corresponding PDF document.\n",
    "    \"\"\"\n",
    "    documents = []\n",
    "    if os.path.isdir(input_path):\n",
    "        for filename in sorted(os.listdir(input_path)):  # Sort to ensure consistent order\n",
    "            file_path = os.path.join(input_path, filename)\n",
    "            if filename.endswith('.pdf'):\n",
    "                try:\n",
    "                    with fitz.open(file_path) as pdf:\n",
    "                        combined_text = \"\"\n",
    "                        for page_number in range(min(4, pdf.page_count)):\n",
    "                            try:\n",
    "                                page = pdf.load_page(page_number)\n",
    "                                footer = 80  \n",
    "                                page_text = page.get_text(\"text\", clip=(0, 0, page.rect.width, page.rect.height - footer))\n",
    "                                combined_text += page_text + \" \"\n",
    "                            except Exception as e:\n",
    "                                pass \n",
    "                        combined_text = combined_text.replace(\"\\n\", \"\")\n",
    "                        documents.append([filename, combined_text])\n",
    "                except Exception as e:\n",
    "                    pass \n",
    "    else:\n",
    "        print(\"Invalid input path. Please provide a valid folder path.\")\n",
    "    return documents\n"
   ]
  },
  {
   "cell_type": "code",
   "execution_count": 38,
   "metadata": {},
   "outputs": [],
   "source": [
    "def load_to_pd(input_path):\n",
    "    \"\"\"\n",
    "    Load text data from PDF documents in the specified folder into a pandas DataFrame.\n",
    "\n",
    "    Args:\n",
    "    - input_folder (str): The path to the folder containing the PDF documents.\n",
    "\n",
    "    Returns:\n",
    "    - text_df (DataFrame): A pandas DataFrame containing the text data from the PDF documents.\n",
    "      The DataFrame has two columns: \"filename\" and \"CHPCL\". Each row corresponds to a PDF document,\n",
    "      where \"filename\" contains the name of the PDF file, and \"CHPCL\" contains the combined text content\n",
    "      of the first four pages of the PDF.\n",
    "\n",
    "    \"\"\"\n",
    "    text = read_documents(input_path)\n",
    "    text_df = pd.DataFrame(text)\n",
    "    current_columns = text_df.columns\n",
    "    new_columns = [f\"column{i+1}\" for i in range(len(current_columns))]\n",
    "    text_df.columns = new_columns\n",
    "    text_df.rename(columns={\"column1\": \"filename\", \"column2\":\"CHPCL\"}, inplace=True)\n",
    "    return text_df"
   ]
  },
  {
   "cell_type": "code",
   "execution_count": 39,
   "metadata": {},
   "outputs": [],
   "source": [
    "text_df = load_to_pd(input_path)"
   ]
  },
  {
   "cell_type": "code",
   "execution_count": 40,
   "metadata": {},
   "outputs": [
    {
     "data": {
      "text/html": [
       "<div>\n",
       "<style scoped>\n",
       "    .dataframe tbody tr th:only-of-type {\n",
       "        vertical-align: middle;\n",
       "    }\n",
       "\n",
       "    .dataframe tbody tr th {\n",
       "        vertical-align: top;\n",
       "    }\n",
       "\n",
       "    .dataframe thead th {\n",
       "        text-align: right;\n",
       "    }\n",
       "</style>\n",
       "<table border=\"1\" class=\"dataframe\">\n",
       "  <thead>\n",
       "    <tr style=\"text-align: right;\">\n",
       "      <th></th>\n",
       "      <th>filename</th>\n",
       "      <th>CHPCL</th>\n",
       "    </tr>\n",
       "  </thead>\n",
       "  <tbody>\n",
       "    <tr>\n",
       "      <th>0</th>\n",
       "      <td>Charakterystyka-10025-2021-12-22-8574_N-2022-01-05.pdf</td>\n",
       "      <td>CHARAKTERYSTYKA PRODUKTU LECZNICZEGO  1. NAZWA PRODUKTU LECZNICZEGO   Metazydyna, 20 mg, tabletki powlekane   2. SKŁAD JAKOŚCIOWY I ILOŚCIOWY   1 tabletka zawiera 20 mg trimetazydyny dichlorowodorku (Trimetazidini dihydrochloridum).  Substancje pomocnicze o znanym działaniu: 0,05 mg czerwieni koszenilowej. Pełny wykaz substancji pomocniczych, patrz: punkt 6.1.   3. POSTAĆ FARMACEUTYCZNA   Tabletki powlekane. Tabletki barwy czerwonej, okrągłe, obustronnie wypukłe, gładkie.   4. SZCZEGÓŁOWE DANE KLINICZNE   4.1  Wskazania do stosowania   Trimetazydyna jest wskazana u dorosłych w terapii skojarzonej w objawowym leczeniu pacjentów ze stabilną dławicą piersiową, u których leczenie przeciwdławicowe pierwszego rzutu jest niewystarczające lub nie jest tolerowane.   4.2  Dawkowanie i sposób podawania   Dawka wynosi jedną tabletkę 20 mg  trimetazydyny (w postaci dichlorowodorku) trzy razy na dobę, podczas posiłków.   Szczególne grupy pacjentów  Pacjenci z zaburzeniami czynności nerek U pacjentów z umiarkowanym zaburzeniem czynności nerek (klirens kreatyniny 30-60 ml/min; patrz punkty 4.4 i 5.2), zalecana dawka wynosi 1 tabletkę 20 mg dwa razy na dobę, tzn. raz rano i raz wieczorem, podczas posiłków.   Pacjenci w podeszłym wieku U pacjentów w podeszłym wieku ekspozycja na trimetazydynę może być zwiększona wskutek  związanego z wiekiem pogorszenia czynności nerek (patrz punkt 5.2). U pacjentów  z umiarkowanym zaburzeniem czynności nerek (klirens kreatyniny 30-60 ml/min) zalecana dawka  wynosi 1 tabletkę 20 mg dwa razy na dobę, tzn. raz rano i raz wieczorem, podczas posiłków.  Ustalanie dawki u pacjentów w podeszłym wieku należy przeprowadzać z zachowaniem ostrożności  (patrz punkt 4.4).  Dzieci i młodzież  Nie ustalono bezpieczeństwa stosowania ani skuteczności trimetazydyny u dzieci w wieku poniżej 18 lat. Brak dostępnych danych.  4.3  Przeciwwskazania   Nadwrażliwość na substancję czynną lub którąkolwiek substancję pomocniczą wymienioną  - Choroba Parkinsona, objawy parkinsonizmu, drżenia, zespół niespokojnych nóg oraz inne powiązane zaburzenia ruchowe.  - Ciężkie zaburzenia czynności nerek (klirens kreatyniny &lt;30 ml/min).    4.4  Specjalne ostrzeżenia i środki ostrożności dotyczące stosowania  Produkt leczniczy Metazydyna nie służy do leczenia napadów dławicy piersiowej, ani też leczenia początkowego niestabilnej dławicy piersiowej lub zawału mięśnia sercowego. Nie należy stosować produktu leczniczego Metazydyna w okresie poprzedzającym hospitalizację ani też na jej początku.   W przypadku napadu dławicy piersiowej należy rozważyć wykonanie koronarografii oraz dostosować sposób leczenia (leczenie farmakologiczne i możliwość wykonania rewaskularyzacji).  U pacjentów z ciężką niewydolnością nerek (klirens kreatyniny mniejszy niż 15 ml/min.) nie zaleca się stosowania produktu leczniczego Metazydyna.  Trimetazydyna może powodować lub nasilać objawy parkinsonizmu (drżenie, bezruch, hipertonia),  co należy systematycznie sprawdzać, zwłaszcza u pacjentów w podeszłym wieku. W przypadkach budzących wątpliwości pacjentów należy skierować do neurologa w celu odpowiedniego zbadania.   Wystąpienie zaburzeń ruchowych, takich jak objawy parkinsonizmu, zespół niespokojnych nóg, drżenia, niestabilny chód, powinny prowadzić do definitywnego odstawienia trimetazydyny.   Przypadki te występują rzadko i są zwykle odwracalne po przerwaniu leczenia. Większość pacjentów wyzdrowiała w ciągu 4 miesięcy po odstawieniu trimetazydyny. Jeśli objawy parkinsonizmu utrzymują się dłużej niż przez 4 miesiące po odstawieniu leku, potrzebna jest ocena neurologa.   Może dochodzić do upadków związanych z niestabilnym chodem lub niedociśnieniem, zwłaszcza  u pacjentów przyjmujących leki przeciwnadciśnieniowe (patrz punkt 4.8).   Należy zachować ostrożność podczas przepisywania trimetazydyny pacjentom, u których można spodziewać się zwiększonej ekspozycji:  - z umiarkowanym zaburzeniem czynności nerek (patrz punkty 4.2 i 5.2);  - w podeszłym wieku powyżej 75 lat (patrz punkt 4.2).  Lek zawiera czerwień koszenilową (E 124), która może powodować reakcje alergiczne.  Metazydyna zawiera mniej niż 1 mmol (23 mg) sodu na tabletkę, to znaczy produkt uznaje się za ‘wolny od sodu’.  Sportowcy Lek ten zawiera substancję czynną, która może dawać pozytywną reakcję w testach antydopingowych.   4.5  Interakcje z innymi produktami leczniczymi i inne rodzaje interakcji  Nie stwierdzono występowania interakcji z innymi lekami lub substancjami.  4.6  Wpływ na płodność, ciążę i laktację   W badaniach doświadczalnych na zwierzętach nie stwierdzono bezpośredniego lub pośredniego toksycznego wpływu trimetazydyny na reprodukcję, jednak nie wykonano odpowiednio liczebnych, kontrolowanych badań u kobiet w ciąży, dlatego nie można wykluczyć ryzyka wystąpienia wad rozwojowych u płodu. Zaleca się unikanie stosowania trimetazydyny u kobiet w czasie ciąży.   Nie wiadomo czy lek przenika do mleka kobiecego. Nie można wykluczyć toksycznego wpływu na noworodka/dziecko karmione piersią. Nie należy stosować produktu w okresie karmienia piersią.  4.7  Wpływ na zdolność prowadzenia pojazdów i obsługiwania maszyn  W badaniach klinicznych trimetazydyna nie wykazywała działania hemodynamicznego, jednak po wprowadzeniu produktu do obrotu obserwowano przypadki zawrotów głowy i senności (patrz punkt 4.8), co może wpływać na zdolność prowadzenia pojazdów i obsługiwania maszyn.  4.8  Działania niepożądane   Produkt leczniczy Metazydyna jest na ogół dobrze tolerowany  Częstość występowania działań niepożądanych wymienionych poniżej określono następująco: bardzo często (≥ 1/10); często (≥ 1/100 do &lt; 1/10); niezbyt często (≥ 1/1 000 do &lt; 1/100); rzadko  (≥ 1/10 000 do &lt; 1/1 000); bardzo rzadko (&lt; 1/10 000), nieznana (częstość nie może być określona na podstawie dostępnych danych).  Klasyfikacja układów i narządów  Częstość występowania Zalecane określenie  Zaburzenia układu nerwowego  Często  Zawroty głowy, ból głowy  Częstość nieznana  Objawy parkinsonizmu (drżenie, bezruch, hipertonia), niestabilny chód, zespół niespokojnych nóg, inne powiązane zaburzenia ruchowe, zwykle przemijające po przerwaniu leczenia  Częstość nieznana  Zaburzenia snu (bezsenność, senność)  Zaburzenia serca  Rzadko  Palpitacje, skurcze dodatkowe, tachykardia  Zaburzenia naczyniowe  Rzadko  Niedociśnienie tętnicze, niedociśnienie ortostatyczne, które może być związane ze złym samopoczuciem, zawrotami głowy lub upadkami, zwłaszcza u pacjentów przyjmujących leki przeciwnadciśnieniowe, zaczerwienienie twarzy  Zaburzenia żołądka i jelit   Często  Ból brzucha, biegunka, niestrawność, nudności i wymioty  Częstość nieznana  Zaparcia  Zaburzenia skóry i tkanki podskórnej   Często  Wysypka, świąd, pokrzywka  Częstość nieznana  Ostra uogólniona osutka krostkowa (ang. acute generalized exanthematous pustulosis, AGEP), obrzęk naczynioruchowy  Zaburzenia ogólne i stany w miejscu podania  Często  Astenia  Zaburzenia krwi i układu chłonnego   Częstość nieznana  Agranulocytoza  Małopłytkowość  Plamica małopłytkowa  Zaburzenia wątroby i dróg żółciowych  Częstość nieznana  Zapalenie wątroby  Zaburzenia ucha i błędnika Częstość nieznana Zawroty głowy pochodzenia błędnikowego  Zgłaszanie podejrzewanych działań niepożądanych Po dopuszczeniu produktu leczniczego do obrotu istotne jest zgłaszanie podejrzewanych działań niepożądanych. Umożliwia to nieprzerwane monitorowanie stosunku korzyści do ryzyka stosowania produktu leczniczego. Osoby należące do fachowego personelu medycznego powinny zgłaszać wszelkie podejrzewane działania niepożądane bezpośrednio do Departamentu Monitorowania Niepożądanych Działań Produktów Leczniczych Urzędu Rejestracji Produktów Leczniczych, WbóM dh i Pd k óBi bójh Al Jliki 181C 02 222 Wl  Działania niepożądane można zgłaszać również podmiotowi odpowiedzialnemu.  4.9  Przedawkowanie   Dostępne są ograniczone informacje na temat przedawkowania trimetazydyny. Leczenie powinno być objawowe.   5. WŁAŚCIWOŚCI FARMAKOLOGICZNE   5.1  Właściwości farmakodynamiczne  Grupa farmakoterapeutyczna: leki stosowane w chorobach serca, kod ATC: C01 EB15  Mechanizm działania  Zachowując metabolizm energetyczny w komórkach narażonych na niedotlenienie lub niedokrwienie, trimetazydyna zapobiega spadkowi wewnątrzkomórkowego poziomu ATP, zapewniając tym samym prawidłowe funkcjonowanie pomp jonowych i transbłonowego przepływu sodowo-potasowego zachowując homeostazę komórkową.   Trimetazydyna hamuje β-oksydację kwasów tłuszczowych przez zablokowanie tiolazy długołańcuchowego 3-ketoacylokoenzymu A, co nasila utlenianie glukozy. W niedokrwionej komórce energia uzyskiwana w procesie utleniania glukozy wymaga mniejszego zużycia tlenu niż w procesie β-oksydacji. Nasilenie utlenienia glukozy prowadzi do optymalizacji procesów energetycznych w komórkach, co warunkuje utrzymanie ich prawidłowego metabolizmu podczas niedokrwienia.   Działanie farmakodynamiczne  U pacjentów z chorobą niedokrwienną trimetazydyna działa jak czynnik metaboliczny, zachowując  w mięśniu sercowym wewnątrzkomórkowe stężenie wysokoenergetycznych fosforanów. Działanie przeciwniedokrwienne jest osiągane bez jednoczesnego wpływu na parametry hemodynamiczne.   Skuteczność kliniczna i bezpieczeństwo stosowania  Badania kliniczne wykazały skuteczność i bezpieczeństwo trimetazydyny w leczeniu pacjentów  z przewlekłą dławicą piersiową, zarówno jako jedynego leku jak i wówczas, gdy korzyść ze stosowania innych produktów leczniczych przeciw niedokrwieniu była niewystarczająca.   W randomizowanym, podwójnie zaślepionym, kontrolowanym placebo badaniu u 426 pacjentów (TRIMPOL-II), trimetazydyna (60 mg/dobę) dodana do metoprololu 100 mg na dobę (50 mg dwa razy na dobę) podawanego przez 12 tygodni spowodowała znaczącą statystycznie poprawę parametrów elektrokardiograficznej próby wysiłkowej oraz objawów klinicznych w porównaniu z placebo: wydłużenie całkowitego czas trwania wysiłku o 20,1 s, p=0,023, zwiększenie całkowitej wartości wykonanej pracy o 0,54 METs, p=0,001, wydłużenie czasu do obniżenia odcinka ST o 1 mm o 33,4 s, p=0,003, wydłużenie czasu do wystąpienia bólu dławicowego o 33,9 s, p&lt;0,001, zmniejszenie częstości bólów dławicowych o 0,73/tydzień, p=0,014 i zmniejszenie liczby przyjmowanych tabletek krótko działających azotanów o 0,63/tydzień, p=0,032, nie powodując przy tym zmian parametrów hemodynamicznych.   W randomizowanym, podwójnie zaślepionym, kontrolowanym placebo badaniu u 223 pacjentów (Sellier) jedna tabletka o zmodyfikowanym uwalnianiu trimetazydyny (w postaci dichlorowodorku) 35 mg (dwa razy na dobę) dodana do atenololu 50 mg (raz na dobę) przez 8 tygodni powodowała w 12 godzin po przyjęciu znaczące statystycznie wydłużenie (o 34,4 s, p=0,03) czasu do obniżenia odcinka ST o 1 mm podczas próby wysiłkowej w podgrupie pacjentów (n=173), w porównaniu z placebo. Stwierdzono także znaczącą różnicę odnośnie czasu do wystąpienia bólu dławicowego (p=0,049).  Nie znaleziono znaczących różnic między grupami odnośnie innych wtórnych punktów końcowych (całkowity czas trwania wysiłku, całkowita wartość wykonanej pracy i kliniczne punkty końcowe).</td>\n",
       "    </tr>\n",
       "    <tr>\n",
       "      <th>1</th>\n",
       "      <td>Charakterystyka-10062-2023-01-11-11269_A-2023-01-22.pdf</td>\n",
       "      <td>CHARAKTERYSTYKA PRODUKTU LECZNICZEGO  1. NAZWA PRODUKTU LECZNICZEGO  GALPENT, 100 mg, tabletki   2. SKŁAD JAKOŚCIOWY I ILOŚCIOWY  Jedna tabletka zawiera 100 mg pentaerytrytylu tetraazotanu (Pentaerythrityli tetranitras) w postaci 33,3% rozcierki laktozowej. Substancje pomocnicze o znanym działaniu: sacharoza 3,5 mg i laktoza jednowodna 214,7 mg. Pełny wykaz substancji pomocniczych, patrz punkt 6.1.   3. POSTAĆ FARMACEUTYCZNA  Tabletka Białe, okrągłe, obustronnie lekko wypukłe tabletki.   4. SZCZEGÓŁOWE DANE KLINICZNE  4.1 Wskazania do stosowania  Stabilna choroba niedokrwienna serca.  4.2 Dawkowanie i sposób podawania  Dawkowanie U dorosłych zaleca się stosowanie dawki 100 mg 1 raz na dobę, rano lub wieczorem. U niektórych pacjentów może być wskazane zwiększenie dawki do 2 razy na dobę po 100 mg. W piśmiennictwie stosowane są dawki 2 do 3 razy na dobę (co 12 do 8 godzin) po 50 do 80 mg, rzadziej 3 razy na dobę po 100 mg. U pacjentów z niewydolnością wątroby, nerek oraz u pacjentów w podeszłym wieku może zwiększyć się biodostępność pentaerytrytylu tetraazotanu. Brak jest jednoznacznych danych wskazujących, że u pacjentów w podeszłym wieku oraz z niewydolnością nerek i wątroby występuje zwiększenie biodostępności azotanów. Zaleca się ostrożność i odpowiednie zmniejszenie dawek indywidualnie dla każdego pacjenta, zależnie od zaawansowania niewydolności tych narządów. Należy unikać nagłego odstawienia produktu leczniczego (poza występującą bardzo rzadko alergią). W razie konieczności odstawienia produktu leczniczego zaleca się stopniowe zmniejszanie dawek. Produktu leczniczego Galpent nie stosuje się u dzieci.  Szczególne grupy pacjentów U osób w podeszłym wieku oraz u pacjentów z zaawansowaną niewydolnością wątroby lub nerek, wskazane jest rozpoczęcie terapii, jak podaje piśmiennictwo, od dawki 50 mg i zwiększanie dawki pod kontrolą lekarza.  Sposób podawania Podanie doustne. Ponieważ wchłanianie produktu leczniczego i czynnych metabolitów zmniejsza się w obecności pokarmu w jelitach, zaleca się przyjmowanie produktu leczniczego co najmniej pół godziny przed jedzeniem lub jedną godzinę po jedzeniu.  4.3 Przeciwwskazania  Nadwrażliwość na pentaerytrytylu tetraazotan lub inne azotany lub na którąkolwiek substancję pomocniczą wymienioną w punkcie 6.1. Wstrząs, hipotonia – w tym związana z hipowolemią. Zawał mięśnia sercowego z niskim ciśnieniem napełniania – szczególnie prawej komory. Kardiomiopatia przerostowa zawężająca drogę odpływu z lewej komory. Zwężenie zastawki mitralnej, zwężenie lewego ujścia tętniczego. Tamponada serca. Zaciskające zapalenie osierdzia. Serce płucne. Zwiększone ciśnienie śródczaszkowe, w tym udar mózgu i uraz czaszki. Znaczna niedokrwistość. Jaskra z wąskim kątem przesączania.  Produktu leczniczego nie stosuje się u kobiet w ciąży i w okresie karmienia piersią. Produktu leczniczego nie stosuje się u dzieci.  U osób przyjmujących pentaerytrytylu tetraazotan i inne azotany bezwzględnie przeciwwskazany jest syldenafil ze względu na występowanie działań niepożądanych, z ciężką redukcją ciśnienia tętniczego, stanowiących zagrożenie życia.  4.4 Specjalne ostrzeżenia i środki ostrożności dotyczące stosowania  Jednoczesne stosowanie pentaerytrytylu tetraazotanu i innych leków rozszerzających naczynia krwionośne, leków beta-adrenolitycznych, antagonistów wapnia, inhibitorów ACE i antagonistów receptora AT1, leków diuretycznych, innych leków hipotensyjnych, neuroleptyków i trójpierścieniowych leków przeciwdepresyjnych, może powodować niepożądane, nagłe zmniejszenie ciśnienia tętniczego z klinicznymi objawami hipotonii. W przypadku konieczności leczenia skojarzonego należy rozpoczynać od małych dawek, stopniowo zwiększanych pod ścisłą kontrolą. Alkohol nasila działanie azotanów polegające na obniżaniu ciśnienia tętniczego. Produkt leczniczy należy stosować ostrożnie u pacjentów z niedoczynnością tarczycy. Konieczne jest zachowanie ostrożności przy stopniowym zwiększaniu dawki u osób w podeszłym wieku oraz u pacjentów z zaawansowaną niewydolnością wątroby lub nerek, ze względu na mniejszy metabolizm pentaerytrytylu tetraazotanu w czasie pierwszego przejścia wątrobowego, a także zmniejszenie wydalania czynnych metabolitów produktu leczniczego: pentaerytrytylu diazotanu i pentaerytrytylu monoazotanu przez nerki – ze zwiększeniem biodostępności produktu leczniczego i możliwością wystąpienia działań niepożądanych – przede wszystkim hipotonii.  Produkt leczniczy zawiera laktozę Produkt leczniczy nie powinien być stosowany u pacjentów z rzadko występującą dziedziczną nietolerancją galaktozy, brakiem laktazy lub zespołem złego wchłaniania glukozy-galaktozy.  Produkt leczniczy zawiera sacharozę Pacjenci z rzadkimi dziedzicznymi zaburzeniami związanymi z nietolerancją fruktozy, zespołem złego wchłaniania glukozy-galaktozy lub niedoborem sacharazy-izomaltazy, nie powinni przyjmować produktu leczniczego.  4.5 Interakcje z innymi produktami leczniczymi i inne rodzaje interakcji  Jednoczesne podawanie difenhydraminy z pentaerytrytylu tetraazotanem zwiększa znacznie (6-krotnie) stężenie czynnego metabolitu – pentaerytrytylu monoazotanu. Pentaerytrytylu tetraazotan stosowany z dihydroergotaminą zwiększa jej stężenie w osoczu – powodując zwiększenie ciśnienia tętniczego. Nitidl kiilb iż ć k tść d i łitó Bezwzględnie przeciwwskazane jest przyjmowanie syldenafilu i innych inhibitorów 5-fosfodiesterazy podczas stosowania pentaerytrytylu tetraazotanu i innych azotanów (z nitrogliceryną podjęzykową włącznie), ze względu na potęgowanie działania azotanów organicznych i innych donorów NO, z ciężkimi następstwami hipotonii (zawał mięśnia sercowego, udar mózgowy, nagły zgon), zwłaszcza u chorych po zawale mięśnia sercowego, udarze, z zaburzeniami rytmu serca.  4.6 Wpływ na płodność, ciążę i laktację  U kobiet w ciąży i okresie karmienia piersią bezpieczeństwo stosowania nie zostało określone i dlatego nie należy stosować produktu leczniczego u tych pacjentek.  4.7 Wpływ na zdolność prowadzenia pojazdów i obsługiwania maszyn  U niektórych pacjentów istnieje możliwość występowania (najczęściej na początku terapii) bólów i zawrotów głowy oraz hipotonii ortostatycznej i omdleń. U tych pacjentów zalecana jest szczególna ostrożność i kontrola reakcji (po podaniu dawki jednorazowej). Pacjenta należy poinformować, że w przypadku wystąpienia takich objawów nie należy prowadzić pojazdów mechanicznych i obsługiwać maszyn.  4.8 Działania niepożądane  Częstość występowania działań niepożądanych: - bardzo często (1/10), - często (1/100 do &lt;1/10), - niezbyt często (1/1 000 do &lt;1/100), - rzadko (1/10 000 do &lt;1/1 000), - bardzo rzadko (&lt; 1/10 000), - nieznana (częstość nie może być określona na podstawie dostępnych danych).  Działania niepożądane pentaerytrytylu tetraazotanu są charakterystyczne dla całej grupy azotanów organicznych. Częstość ich występowania i nasilenie zależą od rodzaju produktu leczniczego i jego dawki, stanu i wrażliwości pacjenta na azotany oraz leczenia towarzyszącego.  W czasie leczenia pentaerytrytylu tetraazotanem mogą wystąpić niżej wymienione działania niepożądane.  Zaburzenia układu nerwowego Bardzo często: bóle głowy (zwykle o niewielkim nasileniu, obserwowane w ciągu pierwszych kilku - kilkunastu dni leczenia, występowały u 4,9% - 25% leczonych pacjentów). Często: zawroty głowy (występowały u 0,8% - 7% leczonych pacjentów).  Zaburzenia żołądka i jelit Rzadko: nudności, wymioty, bóle brzucha.  Zaburzenia serca Rzadko: odruchowa tachykardia.  Zaburzenia skóry Rzadko: przemijające zaczerwienienie skóry twarzy. Bardzo rzadko: skórne reakcje alergiczne. Nieznana częstość: trądzik różowaty oraz erytrodermia (zlewne zaczerwienienie i zazwyczaj obfite złuszczanie).    Zaburzenia naczyniowe Często: hipotonia ortostatyczna (nagłe zmniejszenie ciśnienia tętniczego u pacjentów po zmianie z pozycji leżącej na stojącą, występowała u 0,8% - 2,3% leczonych pacjentów). Zmniejszenie ciśnienia tętniczego (stwierdzono głównie u chorych z nadciśnieniem tętniczym). Istnieje możliwość wystąpienia zwiększonego ciśnienia śródczaszkowego oraz śródgałkowego. Bardzo rzadko: u osób szczególnie wrażliwych, pod wpływem alkoholu, a także po jednoczesnym podawaniu leków rozszerzających naczynia mogą wystąpić epizody niedociśnienia tętniczego z zasłabnięciem bądź omdleniem oraz odruchową bradykardią – głównie po nitroglicerynie.  Zaburzenia krwi Methemoglobinemię obserwowano wyłącznie po dożylnym podawaniu azotanów.  Zaburzenia układu immunologicznego Rzadko: reakcja nadwrażliwości na azotany.  Zaburzenia ogólne Często: osłabienie (występowało u 0,8% - 2,3% leczonych pacjentów).  Po zastosowaniu terapeutycznej dawki nitrogliceryny podanej podjęzykowo lub dożylnie obserwowano w początkowym okresie leczenia nagłe zmniejszenie ciśnienia tętniczego i zasłabnięcie do utraty przytomności oraz bradykardię, która może prowadzić do zatrzymania czynności serca. Reakcja ta nie była obserwowana po podaniu pentaerytrytylu tetraazotanu.  Zgłaszanie podejrzewanych działań niepożądanych Po dopuszczeniu produktu leczniczego do obrotu istotne jest zgłaszanie podejrzewanych działań niepożądanych. Umożliwia to nieprzerwane monitorowanie stosunku korzyści do ryzyka stosowania produktu leczniczego. Osoby należące do fachowego personelu medycznego powinny zgłaszać wszelkie podejrzewane działania niepożądane za pośrednictwem Departamentu Monitorowania Niepożądanych Działań Produktów Leczniczych Urzędu Rejestracji Produktów Leczniczych, Wyrobów Medycznych i Produktów Biobójczych Al. Jerozolimskie 181C 02-222 Warszawa Tel.: +48 22 49 21 301 Faks: +48 22 49 21 309 Strona internetowa: https://smz.ezdrowie.gov.pl  Działania niepożądane można zgłaszać również podmiotowi odpowiedzialnemu.  4.9 Przedawkowanie  Przedawkowanie produktu leczniczego Galpent nie było opisywane. W warunkach eksperymentalnych produkt leczniczy nie wykazywał działania toksycznego w dawce  400 mg/kg (LD50 wynosi &gt; 6 g/kg masy ciała zwierząt). U ludzi stosowano doustnie 600 mg na dobę produktu leczniczego bez objawów przedawkowania. Objawy ewentualnego przedawkowania produktu leczniczego są podobne do objawów obserwowanych po podaniu nitrogliceryny. Stopień nasilenia objawów klinicznych przedawkowania zależny jest od dawki produktu leczniczego, leków jednocześnie podawanych oraz stanu pacjenta: niewydolności serca, ostrych zespołów wieńcowych, a zwłaszcza zawału z obniżonym ciśnieniem napływu krwi do lewej komory serca. Leczenie łagodnych postaci przedawkowania jest objawowe. Hipotonię daje się zwykle opanować ułożeniem chorego na plecach z uniesieniem nóg powyżej klatki piersiowej, a w przypadku braku szybkiej poprawy – wlewem dożylnym płynów infuzyjnych. Wskazane jest podawanie tlenu. W przypadku bradykardii z reguły stosuje się 1 mg atropiny podawanej dożylnie. Leczenie ciężkich postaci przedawkowania azotanów musi odbywać się na oddziale intensywnej terapii z monitorowaniem stanu pacjenta</td>\n",
       "    </tr>\n",
       "    <tr>\n",
       "      <th>2</th>\n",
       "      <td>Charakterystyka-10088-20200721000000-6861_N-20200916000402.pdf</td>\n",
       "      <td>CHARAKTERYSTYKA PRODUKTU LECZNICZEGO   1. NAZWA PRODUKTU LECZNICZEGO  Teveten, 600 mg, tabletki powlekane   2. SKŁAD JAKOŚCIOWY I ILOŚCIOWY   Każda tabletka powlekana zawiera 600 mg eprosartanu (Eprosartanum) w postaci eprosartanu mezylanu.  Substancja pomocnicza o znanym działaniu: Każda tabletka powlekana zawiera 43,3 mg laktozy jednowodnej. Pełny wykaz substancji pomocniczych, patrz punkt 6.1.   3. POSTAĆ FARMACEUTYCZNA  Tabletki powlekane, o kształcie kapsułki, białe, oznaczone „5046” na jednej stronie.   4. SZCZEGÓŁOWE DANE KLINICZNE  4.1 Wskazania do stosowania  Eprosartan jest wskazany w leczeniu nadciśnienia tętniczego pierwotnego.  4.2 Dawkowanie i sposób podawania  Zalecana dawka wynosi 600 mg eprosartanu raz na dobę.  U większości pacjentów maksymalne działanie obniżające ciśnienie tętnicze uzyskuje się po 2-3 tygodniach leczenia.  Eprosartan może być stosowany w monoterapii lub w skojarzeniu z innymi lekami przeciwnadciśnieniowymi (patrz punkty 4.3, 4.4, 4.5 i 5.1). Zwłaszcza skojarzenie z tiazydowymi lekami moczopędnymi, takimi jak hydrochlorotiazyd lub antagonistami wapnia, takimi jak nifedypina o przedłużonym uwalnianiu wykazało działanie addytywne z eprosartanem.  Eprosartan można przyjmować podczas posiłku lub niezależnie od posiłku.  Pacjenci w podeszłym wieku Nie jest wymagana modyfikacja dawki u osób w podeszłym wieku.  Dawkowanie u pacjentów z zaburzeniami czynności wątroby Doświadczenie u pacjentów z niewydolnością wątroby jest ograniczone (patrz punkt 4.3).  Dawkowanie u osób z zaburzeniami czynności nerek U pacjentów z umiarkowanymi lub ciężkimi zaburzeniami czynności nerek (klirens kreatyniny &lt;60 ml/min) dawka dobowa nie może być większa niż 600 mg.  Dzieci i młodzież Nie zaleca się podawania produktu Teveten dzieciom i młodzieży, ponieważ brak danych dotyczących bezpieczeństwa i skuteczności stosowania w tej grupie wiekowej.   Znana nadwrażliwość na eprosartan lub którąkolwiek substancję pomocniczą. Ciężka niewydolność wątroby. Drugi i trzeci trymestr ciąży (patrz punkty 4.4 i 4.6). Istotne hemodynamicznie obustronne zwężenie tętnic nerkowych lub znaczne zwężenie tętnicy jedynej czynnej nerki. Jednoczesne stosowanie produktu leczniczego Teveten z produktami zawierającymi aliskiren jest przeciwwskazane u pacjentów z cukrzycą lub zaburzeniem czynności nerek (współczynnik filtracji kłębuszkowej, GFR&lt;60 ml/min/1,73 m2) (patrz punkty 4.5 i 5.1).  4.4 Specjalne ostrzeżenia i środki ostrożności dotyczące stosowania  Niewydolność wątroby Należy zachować szczególną ostrożność podczas stosowania eprosartanu u pacjentów z łagodnymi do umiarkowanych zaburzeniami czynności wątroby, ponieważ istnieje ograniczone doświadczenie w tej grupie pacjentów.   Niewydolność nerek Nie ma konieczności dostosowania dawki u pacjentów z łagodną do umiarkowanej niewydolnością nerek (klirens kreatyniny ≥ 30 ml/min). Zaleca się ostrożność w przypadku stosowania u pacjentów z klirensem kreatyniny &lt; 30 ml/min lub pacjentów dializowanych.  Pacjenci z grupy ryzyka wystąpienia zaburzeń czynności nerek U niektórych pacjentów z czynnością nerek zależną od nasilonej aktywności układu renina-angiotensyna-aldosteron (np. pacjenci z ciężką niewydolnością serca [klasa IV wg NYHA], obustronnym zwężeniem tętnic nerkowych lub zwężeniem tętnicy nerkowej jedynej czynnej nerki), w trakcie leczenia inhibitorami konwertazy angiotensyny (ACE) istnieje ryzyko wystąpienia skąpomoczu i (lub) postępującej azotemii oraz, rzadko, ostrej niewydolności nerek. Prawdopodobieństwo wystąpienia takich zaburzeń jest większe u pacjentów leczonych jednocześnie lekami moczopędnymi. Brak wystarczającego doświadczenia klinicznego w stosowaniu antagonistów receptora angiotensyny II, takich jak eprosartan, aby określić czy podobne ryzyko wystąpienia zaburzeń czynności nerek u podatnych pacjentów istnieje w odniesieniu do tej grupy leków. W przypadku stosowania eprosartanu u pacjentów z zaburzeniami czynności nerek należy ocenić czynność nerek przed rozpoczęciem leczenia i okresowo w trakcie leczenia. W przypadku pogorszenia czynności nerek podczas terapii, należy ponownie ocenić leczenie eprosartanem.  Na podstawie doświadczenia z innymi substancjami z tej grupy leków oraz inhibitorami ACE wyszczególniono następujące środki ostrożności, jakie należy zastosować:  Hiperkaliemia Podczas leczenia innymi produktami wpływającymi na układ renina-angiotensyna-aldosteron istnieje możliwość wystąpienia hiperkaliemii, zwłaszcza u pacjentów z niewydolnością nerek i (lub) serca. Zaleca się monitorowanie stężenia potasu w surowicy u pacjentów z grupy ryzyka.  Doświadczenie z innymi produktami wpływającymi na układ renina-angiotensyna-aldosteron wskazuje, że jednoczesne stosowanie eprosartanu z lekami moczopędnymi oszczędzającymi potas, suplementami potasu, substytutami soli zawierającymi potas lub innymi produktami, które mogą zwiększać stężenie potasu (np. heparyna, leki zawierające trimetoprim), może prowadzić do zwiększenia stężenia potasu w surowicy. Z tego powodu należy zachować ostrożność podczas jednoczesnego ich stosowania z produktem Teveten.  Podwójna blokada układu renina-angiotensyna-aldosteron (RAA) (ang. Renin-Angiotensin-Aldosterone-system, RAAS)  Istnieją dowody, iż jednoczesne stosowanie inhibitorów konwertazy angiotensyny (ACE) (ang. Angiotensin Converting Enzyme Inhibitors, ACEi), antagonistów receptora angiotensyny II (ang. Angiotensin Receptor Blockers, ARB) lub aliskirenu zwiększa ryzyko niedociśnienia, hiperkaliemii podwójnego blokowania układu RAA poprzez jednoczesne zastosowanie inhibitorów ACE, antagonistów receptora angiotensyny II lub aliskirenu (patrz punkty 4.5 i 5.1).  Jeśli zastosowanie podwójnej blokady układu RAA jest absolutnie konieczne, powinno być prowadzone wyłącznie pod nadzorem specjalisty, a parametry życiowe pacjenta, takie jak: czynność nerek, stężenie elektrolitów oraz ciśnienie krwi powinny być ściśle monitorowane.  U pacjentów z nefropatią cukrzycową nie należy stosować jednocześnie inhibitorów ACE oraz antagonistów receptora angiotensyny II.  Hiperaldosteronizm pierwotny Nie zaleca się stosowania produktu Teveten u pacjentów z hiperaldosteronizmem pierwotnym.  Niedociśnienie U pacjentów ze znaczną hipowolemią i (lub) niedoborem soli (np. podczas stosowania leków moczopędnych w dużych dawkach) może wystąpić objawowe niedociśnienie. Stany te należy skorygować przed rozpoczęciem leczenia.  Choroba wieńcowa serca Doświadczenie u pacjentów z chorobą wieńcową serca jest ograniczone.  Zwężenie zastawki aorty lub zastawki dwudzielnej/ kardiomiopatia przerostowa Podobnie jak w przypadku wszystkich leków rozszerzających naczynia krwionośne, należy zachować ostrożność podczas stosowania eprosartanu u pacjentów ze zwężeniem zastawki aorty lub zastawki dwudzielnej albo z kardiomiopatią przerostową.  Przeszczepienie nerki Brak doświadczenia u pacjentów po niedawno przebytym przeszczepieniu nerki.  Ciąża Nie należy rozpoczynać podawania antagonistów receptora angiotensyny II w trakcie ciąży. Z wyjątkiem konieczności kontynuowania leczenia antagonistą receptora angiotensyny II, u pacjentek planujących ciążę należy zastosować alternatywne leczenie przeciwnadciśnieniowe, o ustalonym profilu bezpieczeństwa stosowania w ciąży. W przypadku potwierdzenia ciąży należy natychmiast przerwać podawanie antagonisty receptora angiotensyny II i jeśli jest to wskazane, należy rozpocząć leczenie alternatywne (patrz punkty 4.3 i 4.6).   Inne ostrzeżenia i środki ostrożności Z obserwacji wynika, że inhibitory konwertazy angiotensyny, eprosartan i inni antagoniści receptora angiotensyny II są wyraźnie mniej skuteczne w obniżaniu ciśnienia tętniczego krwi u osób rasy czarnej w porównaniu z osobami innych ras. Prawdopodobnie jest to spowodowane częstszym występowaniem małej aktywności reniny u pacjentów rasy czarnej z nadciśnieniem.  Produkt leczniczy nie powinien być stosowany u pacjentów z rzadko występującą dziedziczną nietolerancją galaktozy, brakiem laktazy lub zespołem złego wchłaniania glukozy-galaktozy.  4.5 Interakcje z innymi produktami leczniczymi i inne rodzaje interakcji  Ponieważ w badaniach klinicznych kontrolowanych placebo obserwowano znaczne zwiększenie stężenia potasu w surowicy, oraz jak wynika z doświadczeń w stosowaniu innych leków wpływających na układ renina-angiotensyna, jednoczesne stosowanie leków moczopędnych oszczędzających potas, suplementów potasu, substytutów soli zawierających potas lub innych produktów leczniczych, które mogą zwiększać stężenie potasu w surowicy (np. heparyna, leki zawierające trimetoprim) może prowadzić do zwiększenia stężenia potasu w surowicy.  Dane badania klinicznego wykazały, że podwójna blokada układu renina-angiotensyna-aldosteron (RAA) w wyniku jednoczesnego zastosowania inhibitorów ACE, antagonistów receptora angiotensyny II lub aliskirenu jest związana z większą częstością występowania zdarzeń niepożądanych, takich jak: w porównaniu z zastosowaniem leku z grupy antagonistów układu RAA w monoterapii (patrz punkty 4.3, 4.4 i 5.1).  Jednoczesne stosowanie innych leków przeciwnadciśnieniowych może nasilić działanie hipotensyjne.  Podczas jednoczesnego stosowania litu z inhibitorami ACE obserwowano odwracalne zwiększenie stężenia litu w surowicy krwi i objawy jego toksyczności. Nie można wykluczyć podobnego skutku w przypadku stosowania eprosartanu, dlatego zaleca się dokładne kontrolowanie stężenia litu w surowicy w trakcie leczenia skojarzonego.  Wykazano, że eprosartan nie hamuje in vitro ludzkich izoenzymów CYP1A, 2A6, 2C9/8, 2C19, 2D6, 2E i 3A cytochromu P450.  Podobnie jak w przypadku inhibitorów ACE, jednoczesne stosowanie antagonistów angiotensyny II i niesteroidowych leków przeciwzapalnych (NLPZ) może prowadzić do pogorszenia czynności nerek z możliwością wystąpienia ostrej niewydolności nerek i zwiększenia stężenia potasu w surowicy, zwłaszcza u pacjentów z istniejącymi już zaburzeniami czynności nerek. Leczenie skojarzone należy stosować ostrożnie, zwłaszcza u pacjentów w podeszłym wieku. Należy odpowiednio nawodnić pacjentów oraz rozważyć monitorowanie czynności nerek po rozpoczęciu terapii skojarzonej i okresowo w późniejszym czasie.  Jednoczesne stosowanie losartanu i indometacyny prowadziło do zmniejszenia skuteczności antagonisty receptora angiotensyny II. Nie można wykluczyć takiego działania w odniesieniu do innych substancji z tej grupy.  4.6 Wpływ na płodność, ciążę i laktację  Ciąża Nie zaleca się stosowania antagonistów receptora angiotensyny II w pierwszym trymestrze ciąży (patrz punkt 4.4). Stosowanie antagonistów receptora angiotensyny II w drugim i trzecim trymestrze ciąży jest przeciwwskazane (patrz punkty 4.3 i 4.4).  Dane epidemiologiczne dotyczące ryzyka działania teratogennego inhibitorów ACE stosowanych w pierwszym trymestrze ciąży nie są rozstrzygające; jednak nie można wykluczyć niewielkiego zwiększenia ryzyka. Chociaż brak kontrolowanych danych epidemiologicznych dotyczących ryzyka stosowania antagonistów receptora angiotensyny II, podobne ryzyko może dotyczyć tej grupy leków. Z wyjątkiem konieczności kontynuowania leczenia antagonistą receptora angiotensyny II, u pacjentek planujących ciążę należy zastosować alternatywne leczenie przeciwnadciśnieniowe, o ustalonym profilu bezpieczeństwa stosowania w ciąży. W przypadku stwierdzenia ciąży należy natychmiast przerwać leczenie antagonistą receptora angiotensyny II i jeśli jest to wskazane, należy rozpocząć leczenie alternatywne.  Narażenie na antagonistę receptora angiotensyny II w drugim i trzecim trymestrze ciąży powoduje toksyczne działanie na ludzki płód (pogorszenie czynności nerek, małowodzie, opóźnienie kostnienia czaszki) i noworodka (niewydolność nerek, niedociśnienie tętnicze, hiperkaliemia).  Jeśli narażenie na antagonistę receptora angiotensyny IImiało miejsce od drugiego trymestru ciąży, zaleca się badanie ultrasonograficzne nerek i czaszki. Noworodki, których matki przyjmowały antagonistę receptora angiotensyny II  należy dokładnie obserwować ze względu na możliwość wystąpienia niedociśnienia (patrz punkty 4.3 i 4.4).  Laktacja Ze względu na brak danych odnośnie stosowania produktu Teveten podczas karmienia piersią, nie zaleca się jego stosowania. Zalecane jest alternatywne leczenie o lepiej ustalonym profilu bezpieczeństwa podczas karmienia piersią, zwłaszcza w przypadku karmienia piersią noworodka lub wcześniaka.  4.7 Wpływ na zdolność prowadzenia pojazdów i obsługiwania maszyn</td>\n",
       "    </tr>\n",
       "    <tr>\n",
       "      <th>3</th>\n",
       "      <td>Charakterystyka-10174-2023-04-12-13484_A-2023-04-29.pdf</td>\n",
       "      <td>CHARAKTERYSTYKA PRODUKTU LECZNICZEGO   1. NAZWA PRODUKTU LECZNICZEGO  0,9% Sodium Chloride–Braun, 9 mg/ml, roztwór do infuzji   2. SKŁAD JAKOŚCIOWY I ILOŚCIOWY   1 ml roztworu zawiera  Sodu chlorek  9,0 mg  Stężenia elektrolitów: Sód    154 mmol/l Chlorek   154 mmol/l  Pełny wykaz substancji pomocniczych, patrz punkt 6.1.   3. POSTAĆ FARMACEUTYCZNA  Roztwór do infuzji Roztwór wodny przezroczysty, bezbarwny  Osmolarność teoretyczna 308 mOsm/l Kwasowość miareczkowa &lt; 0,3 mmol/l pH    4,5 – 7,0   4. SZCZEGÓŁOWE DANE KLINICZNE  4.1. Wskazania do stosowania  • Uzupełnianie płynów i elektrolitów w alkalozie hipochloremicznej • Niedobór chlorków • Krótkoterminowe uzupełnianie objętości śródnaczyniowej • Odwodnienie hipotoniczne lub izotoniczne • Roztwór do rozpuszczania stężonych elektrolitów i leków nie wykazujących niezgodności farmaceutycznych • Zewnętrznie do płukania ran oraz nawilżania opatrunków i tamponów na ranach  4.2. Dawkowanie i sposób podawania  Dawkowanie  Dorośli Dawkę ustala się w zależności od aktualnego zapotrzebowania na wodę i elektrolity.  Maksymalna dawka dobowa: 40 ml/kg mc. na dobę, co odpowiada 6 mmol sodu na kg mc. Wszelkie inne ubytki (np. wskutek gorączki, biegunki, wymiotów itd.) należy uzupełniać zgodnie z objętością i składem utraconych płynów.  W przypadku leczenia ostrego niedoboru płynów, np. w sytuacji zagrożenia lub wystąpienia wstrząsu hipowolemicznego, stosować można wyższe dawki, podawane np. w infuzji ciśnieniowej.  Szybkość infuzji Szybkość infuzji uzależniona jest od stanu zdrowia pacjenta (patrz punkt 4.4).  Pacjenci w podeszłym wieku Zwykle stosuje sie taki sam schemat dawkowania jak dla pacjentów dorosłych. Należy jednak zachować ostrożność podając ten produkt leczniczy pacjentom z chorobami takimi jak niewydolność serca lub nerek, często występującymi u osób w podeszłym wieku.  Dzieci Dawkę ustala się indywidualnie w zależności od zapotrzebowania na wodę i elektrolity, a także od wieku, masy ciała i stanu klinicznego pacjenta.  W sytuacji ciężkiego odwodnienia, w pierwszej godzinie leczenia zaleca się podawanie bolusa 20 ml/kg mc. W przypadku podawania tego leku należy wziąć pod uwagę całkowitą dobową ilość przyjmowanych płynów.  Rozpuszczalnik W przypadku stosowania roztworu 0,9% Sodium Chloride–Braun jako rozpuszczalnika, dawkowanie i szybkość infuzji należy przede wszystkim dostosować do schematu dawkowania dodawanego produktu leczniczego.  Płukanie ran Ilość roztworu stosowanego do płukania ran lub nawilżania uzależniona jest od rzeczywistego zapotrzebowania.  Sposób podawania Infuzja dożylna lub płukanie i nawilżanie. W przypadku infuzji pod ciśnieniem, która może okazać się niezbędna w nagłych przypadkach, konieczne jest całkowite usunięcie powietrza z pojemnika oraz zestawu do infuzji przed rozpoczęciem podawania roztworu.  4.3. Przeciwwskazania  Roztworu 0,9% Sodium Chloride–Braun nie należy podawać pacjentom w stanie: • przewodnienia, • ciężkiej hipernatremii, • ciężkiej hiperchloremii.  4.4. Specjalne ostrzeżenia i środki ostrożności dotyczące stosowania  Należy zachować ostrożność podając roztwór do infuzji dożylnych 0,9% Sodium Chloride–Braun w przypadkach: • hipokaliemii, • hipernatriemii, • hiperchloremii, • zaburzeń, w których wskazane jest ograniczenie ilości przyjmowanego sodu, takich jak niewydolność serca, uogólnione obrzęki, obrzęk płuc, nadciśnienie, rzucawka lub ciężka niewydolność nerek.   Aby zapobiec wystąpieniu zespołu demielinizacji osmotycznej, stężenie sodu w osoczu nie powinno przekraczać wartości 9 mmol/l/dobę. W większości przypadków, uwzględniając stan pacjenta i współwystępujące czynniki ryzyka, uzasadnione jest skorygowania prędkości o 4 do 6 mmol/l/dobę.  Monitorowanie parametrów klinicznych powinno obejmować stężenie elektrolitów w surowicy oraz ogólną ocenę równowagi płynowej i kwasowo-zasadowej.  W sytuacji, kiedy wymagane jest przeprowadzenie szybkiej infuzji roztworu 0,9% Sodium Chloride–Braun, należy monitorować stan układu sercowo-naczyniowego i czynności oddechowe.  Uwaga: W sytuacji, gdy ten produkt leczniczy stosowany jest jako rozpuszczalnik dla innego leku, należy przestrzegać informacji dotyczących bezpieczeństwa, dostarczonych przez wytwórcę dodawanego leku.  Dzieci Ponieważ nerki wcześniaków i niemowląt nie są w pełni rozwinięte, w przypadku tych pacjentów może dojść do zatrzymania nadmiernej ilości sodu. W związku z powyższym, przed ponowną infuzją chlorku sodu u wcześniaków i niemowląt, należy określić stężenie chlorku sodu w organizmie pacjenta.  4.5. Interakcje z innymi produktami leczniczymi i inne rodzaje interakcji  Produkty lecznicze zatrzymujące sód Równoczesne stosowanie leków zatrzymujących sód (jak kortykosteroidy i niesteroidowe leki przeciwzapalne) może prowadzić do obrzęku.  4.6. Wpływ na płodność, ciążę i laktację  Ciąża Brak lub dostępne są ograniczone dane dotyczące stosowania produktu leczniczego 0,9% Sodium Chloride-Braun u kobiet w ciąży. Dane te nie potwierdzają pośredniego ani bezpośredniego szkodliwego wpływu roztworu chlorku sodu 0,9% na reprodukcję (patrz punkt 5.3).  W związku z tym, że stężenia sodu i chloru są zbliżone do naturalnie występujących w organizmie człowieka, nie należy spodziewać się szkodliwego działania, pod warunkiem, że lek jest stosowany zgodnie ze wskazaniami.  W związku z powyższym produkt leczniczy 0,9% Sodium Chloride-Braun można stosować zgodnie ze wskazaniami.   Niemniej jednak, należy zachować ostrożność w przypadku występowania rzucawki (patrz punkt 4.4).  Karmienie piersią W związku z tym, że stężenia sodu i chloru są zbliżone do naturalnie występujących w organizmie człowieka, nie należy spodziewać się szkodliwego działania, pod warunkiem, że lek jest stosowany zgodnie ze wskazaniami  Produkt leczniczy 0,9% Sodium Chloride-Braun może być stosowany w trakcie karmienia piersią.  Płodność Brak danych.   4.7. Wpływ na zdolność prowadzenia pojazdów i obsługiwania maszyn  Produkt leczniczy 0,9% Sodium Chloride-Braun nie wywiera lub wywiera niewielki wpływ na zdolność prowadzenia pojazdów i obsługiwania maszyn.  4.8. Działania niepożądane  Nie należy spodziewać się występowania działań niepożądanych w sytuacji, kiedy lek stosowany jest zgodnie z zaleceniami.  Zgłaszanie podejrzewanych działań niepożądanych Po dopuszczeniu produktu leczniczego do obrotu istotne jest zgłaszanie podejrzewanych działań niepożądanych. Umożliwia to nieprzerwane monitorowanie stosunku korzyści do ryzyka stosowania produktu leczniczego. Osoby należące do fachowego personelu medycznego powinny zgłaszać wszelkie podejrzewane działania niepożądane za pośrednictwem Departamentu Monitorowania Niepożądanych Działań Produktów Leczniczych Urzędu Rejestracji Produktów Leczniczych, Wyrobów Medycznych i Produktów Biobójczych: Al. Jerozolimskie 181C 02-222 Warszawa tel.: + 48 22 49-21-301 fax: +48 22 49-21-309 strona internetowa: https://smz.ezdrowie.gov.pl  Działania niepożądane można zgłaszać również podmiotowi odpowiedzialnemu.  4.9. Przedawkowanie  Objawy Przedawkowanie może prowadzić do hipernatriemii, hiperchloremii, przewodnienia, ostrego przeciążenia płynami, obrzęku, hiperosmolarności surowicy i kwasicy hiperchloremicznej.  Nagłe zwiększenie stężenia sodu w osoczu pacjentów z przewlekłą hipernatriemią może prowadzić do wystąpienia zespołu demielinizacji osmotycznej (patrz punkt 4.4).  Pierwszymi objawami przedawkowania mogą być uczucie pragnienia, zagubienie, pocenie się, ból głowy, osłabienie, senność lub tachykardia. W przypadku ciężkiej hipernatriemii pojawić się może nadciśnienie lub niedociśnienie, zaburzenia oddychania lub śpiączka.  Leczenie  W zależności od ciężkości zaburzeń, konieczne może być natychmiastowe zaprzestanie infuzji, podanie diuretyków z ciągłym monitorowaniem stężenia elektrolitów w surowicy, skorygowanie zaburzeń równowagi elektrolitowej i kwasowo-zasadowej.  W ciężkim przedawkowaniu lub w przypadku oligo- lub anurii, konieczne może okazać sie przeprowadzenie dializy.   5. WŁAŚCIWOŚCI FARMAKOLOGICZNE  5.1. Właściwości farmakodynamiczne  Grupa terapeutyczna: roztwory regulujące równowagę elektrolitów, roztwory elektrolitów Kod ATC: B05B B01</td>\n",
       "    </tr>\n",
       "    <tr>\n",
       "      <th>4</th>\n",
       "      <td>Charakterystyka-10252-2022-06-17-10632_A-2022-06-24.pdf</td>\n",
       "      <td>CHARAKTERYSTYKA PRODUKTU LECZNICZEGO    1. NAZWA PRODUKTU LECZNICZEGO  CERUTIN, 100 mg + 25 mg, tabletki powlekane    2. SKŁAD JAKOŚCIOWY I ILOŚCIOWY  Jedna tabletka powlekana zawiera 100 mg kwasu askorbowego (Acidum ascorbicum) i 25 mg rutozydu trójwodnego (Rutosidum trihydricum).  Substancja pomocnicza o znanym działaniu: laktoza jednowodna, 1,90 mg w tabletce Pełny wykaz substancji pomocniczych, patrz punkt 6.1.   3. POSTAĆ FARMACEUTYCZNA  Tabletka powlekana.  Tabletki powlekane barwy żółtej, obustronnie wypukłe.    4. SZCZEGÓŁOWE DANE KLINICZNE  4.1 Wskazania do stosowania  − w stanach niedoboru witaminy C i rutozydu – wspomaganie odporności,  − uszczelnienie naczyń włosowatych – zapobieganie przeziębieniom i łagodzenie objawów grypy.   4.2 Dawkowanie i sposób podawania  Dawkowanie Doustnie.  Dorośli  Profilaktycznie       1 do 2 tabletek na dobę W stanach niedoboru witaminy C:    1 do 2 tabletek 4 razy na dobę  Dzieci i młodzież  Profilaktycznie:     w wieku do 12 lat: 1 tabletka na dobę        w wieku od 12 do 18 lat: 1 do 2 tabletek na dobę  W stanach niedoboru witaminy C:  w wieku do 12 lat: 1 do 2 labletek 2 razy na dobę                                                                  w wieku od 12 do 18 lat: 1 do 2 tabletek 2 do 4 razy na dobę  Należy stosować wyłącznie u dzieci, które potrafią połknąć tabletkę.    4.3 Przeciwwskazania  Nadwrażliwość na  substancje czynne lub na którąkolwiek substancję pomocniczą wymienioną w punkcie 6.1   4.4 Specjalne ostrzeżenia i środki ostrożności dotyczące stosowania  Produkt leczniczy należy ostrożnie stosować u pacjentów z zaburzeniami syntezy hemoglobiny i hemochromatozą. Witamina C w dużych dawkach może powodować nasilenie wydalania kwasu szczawiowego, dny, kamicy moczanowej, cystynurię, hipokaliemię, hiperkalcemię. Należy unikać stosowania dużych dawek kwasu askorbowego u pacjentów z nadmiernym wchłanianiem żelaza z przewodu pokarmowego.  Nie zaleca się równoczesnego stosowania rutyny i suflatiazolu z uwagi na zwiększenie ryzyka uszkodzenia naczyń krwionośnych i krwotoków. Produkt leczniczy zawiera laktozę. Lek nie powinien być stosowany u pacjentów z rzadko występującą dziedziczną nietolerancją galaktozy, brakiem laktazy lub zespołem złego wchłaniania glukozy-galaktozy.   4.5 Interakcje z innymi produktami leczniczymi i inne rodzaje interakcji  Nasilenie działania toksyczności doustnych leków przeciwkrzepliwych pochodnych warfaryny oraz sulfonamidów (m.in. możliwość krystalurii). Witamina C w dawkach większych niż 1 g na dobę może zmniejszyć skuteczność trójpierścieniowych leków przeciwdepresyjnych i amnioglikozydów. Długotrwałe stosowanie rutyny nasila działanie niesteroidowych leków przeciwzapalnych. Witamina C zwiększa wchłanianie żelaza z przewodu pokarmowego. Długotrwałe (&gt;7 dni) podawanie kwasu acetylosalicylowego w dawce &gt;600 mg/dobę powoduje zmniejszenie stężenia kwasu askorbowego w surowicy i krwinkach białych oraz nasilone jego wydalanie z moczem. Kwas askorbowy wpływa na wyniki testów biochemicznych, opierających się na reakcjach oksydacyjno-redukcyjnych (fałszywie dodatnie wyniki z odczynnikiem Benedicta i fałszywie ujemnie wyniki badań na obecność glukozy w moczu, wykonanych w przypadku użycia testów z oksydazą glukozową).   4.6 Wpływ na płodność, ciążę i laktację  Brak w pełni udokumentowanych badań prowadzonych u ludzi. Badania na zwierzętach (szczury) wskazują, że kwas askorbowy przenika przez barierę łożyska do płodu. Ujemny wpływ na płód ludzki, w przypadku przyjmowania dawek witaminy C zgodnie z zalecanym dziennym spożyciem, nie został udokumentowany. Kwas askorbowy przenika do mleka kobiecego. Nie zaleca się stosowania produktu leczniczego w okresie ciąży i karmienia piersią, chyba, że lekarz uzna to za konieczne.   4.7 Wpływ na zdolność prowadzenia pojazdów i obsługiwania maszyn  Produkt nie powoduje upośledzenia sprawności psychofizycznej, zdolności prowadzenia pojazdów i obsługiwania maszyn,   4.8 Działania niepożądane  Duże dawki witaminy C (więcej niż 500 mg na dobę) wywierają działanie moczopędne, mogą powodować zakwaszenie moczu, a w konsekwencji krystalizację szczawianów, moczanów, cytrynianów wapnia w drogach moczowych. Po stosowaniu dużych dawek witaminy C mogą również wystąpić: nudności, wymioty, niestrawność, biegunka, wysypka, ból głowy.   Zgłaszanie podejrzewanych działań niepożądanych Po dopuszczeniu produktu leczniczego do obrotu istotne jest zgłaszanie podejrzewanych działań  produktu leczniczego. Osoby należące do fachowego personelu medycznego powinny zgłaszać wszelkie podejrzewane działania niepożądane za pośrednictwem Departamentu Monitorowania Niepożądanych Działań Produktów Leczniczych Urzędu Rejestracji Produktów Leczniczych, Wyrobów Medycznych i Produktów Biobójczych Al. Jerozolimskie 181 C 02-222 Warszawa Tel.:  +48 22 49 21 301 Faks:  +48 22 49 21 309 Strona internetowa: https://smz.ezdrowie.gov.pl Działania niepożądane można zgłaszać również podmiotowi odpowiedzialnemu.   4.9 Przedawkowanie  Nie odnotowano przypadków przedawkowania rutyny i kwasu askorbowego.    5. WŁAŚCIWOŚCI FARMAKOLOGICZNE  5.1 Właściwości farmakodynamiczne  Grupa farmakoterapeutyczna: biofalwonoidy; rutozyd; mieszaniny Kod ATC: C06CA51  Kwas askorbowy (witamina C) pełni ważną rolę w procesach oksydoredukcyjnych, wpływa na przemianę aminokwasów aromatycznych, m.in. hydroksylację proliny, utlenianie fenyloalaniny, metabolizm tyroksyny oraz syntezę katecholamin, hormonów steroidowych i insuliny. Uczestniczy w procesie fosforylacji glukozy i syntezy glikogenu, zapewnia zachowanie prawidłowej budowy i funkcji włókien kolagenowych, substancji międzykomórkowej tkanki łącznej oraz utrzymanie mechanicznej odporności naczyń krwionośnych włosowatych. Ułatwia wchłanianie żelaza i bierze udział w syntezie hemoglobiny, wywiera także stymulujący wpływ na procesy odpornościowe organizmu, prawdopodobnie poprzez wpływ na syntezę interferonu i przeciwciał. Rutyna jest glikozydem z grupy flawonoli, którego część cukrową stanowi dwucukier - rutynoza, natomiast część niecukrową - kwercetyna. W skojarzeniu z kwasem askorbowym wykazuje właściwości przeciwszkorbutowe. Rutyna hamuje aktywność hialuronidazy, może zatem wpływać na regulację przepuszczalności ściany komórki. Rutyna wpływa na przemianę jodową i wapniową, powodując zwiększenie stężenia wapnia we krwi i zmniejszenie wydalania jodu. Wykazuje również działanie odtruwające w zatruciach alkoholem metylowym. Funkcja odtruwająca działania flawonoidu wiąże się z jego budową chemiczną. Stwierdzono, że połączenia flawonoidowe działają moczopędnie u człowieka  5.2 Właściwości farmakokinetyczne  Kwas askorbowy podany doustnie całkowicie wchłania się z przewodu pokarmowego, głównie w jelicie cienkim i jest rozprowadzany do wszystkich tkanek. Stopień wiązania kwasu askorbowego z białkami surowicy krwi jest mały i wynosi około 25%. Okres półtrwania wynosi 16 dni. Kwas askorbowy wydalany jest przez nerki w postaci niezmienionej lub w postaci metabolitów, tj. kwasu dehydroaskorbowego i kwasu szczawiowego. Okres półtrwania rutyny wynosi 11h. We krwi rutyna występuje w postaci czterech metabolitów: 3,4- dihydroksytoluenu (DTH); kwasu 3-hydroksyfenylooctowego (mPHAA); kwasu 3,4- dihydroksyfenylooctowego (HVA) i kwasu 3-metoksy-4-hydroksyfenylooctowego. Stężenie powyższych związków we krwi zaczyna zwiększać się od 4 do 8 godzin od chwili podania doustnego rutyny. Stężenie maksymalne we krwi występuje po 8 do 12 godzin po przyjęciu produktu i charakteryzuje się 2 do 3-krotnym zwiększeniem stężenia w stosunku do stanu tuż po zażyciu leku. Po tym okresie stężenia ulegają stopniowemu zmniejszeniu. Rutyna i jej metabolity wydalane są przez nerki (ok. 50% dawki) przez okres 20 do 48 godzin.     6. DANE FARMACEUTYCZNE  6.1 Wykaz substancji pomocniczych  Celuloza mikrokrystaliczna Skrobia kukurydziana Powidon Magnezu stearynian Skład otoczki: Laktoza jednowodna Hypromeloza Tytanu dwutlenek (E 171) Makrogol 6000 Żelaza tlenek żółty (E 172)  6.2 Niezgodności farmaceutyczne  Nie dotyczy.   6.3 Okres ważności  Blistry z folii PVC/Aluminium: 3 lata  Pojemniki z tworzywa sztucznego: 2 lata   6.4 Specjalne środki ostrożności podczas przechowywania  Przechowywać w temperaturze poniżej 25 0C. Nie należy stosować produktu leczniczego po upływie terminu ważności zamieszczonego na opakowaniu.   6.5 Rodzaj i zawartość opakowania   Blistry z folii PVC/Aluminium lub pojemniki z tworzywa sztucznego w tekturowym pudełku  25 tabletek powlekanych (1 blister po 25 szt.) 100 tabletek powlekanych (4 blistry po 25 szt.) 125 tabletek powlekanych (5 bistrów po 25 szt.) 150 tabletek powlekanych (6 blistrów po 25 szt.) 25 tabletek powlekanych (1 pojemnik po 25 szt.) 100 tabletek powlekanych (1 pojemnik po 100 szt.)  6.6 Specjalne środki ostrożności dotyczące usuwania i przygotowania produktu leczniczego do stosowania  Wszelkie niewykorzystane resztki produktu leczniczego lub jego odpady należy usunąć zgodnie z lokalnymi przepisami.   7. PODMIOT ODPOWIEDZIALNY POSIADAJĄCY POZWOLENIE NA DOPUSZCZENIE DO OBROTU  POLFARMEX S.A.</td>\n",
       "    </tr>\n",
       "  </tbody>\n",
       "</table>\n",
       "</div>"
      ],
      "text/plain": [
       "                                                         filename  \\\n",
       "0          Charakterystyka-10025-2021-12-22-8574_N-2022-01-05.pdf   \n",
       "1         Charakterystyka-10062-2023-01-11-11269_A-2023-01-22.pdf   \n",
       "2  Charakterystyka-10088-20200721000000-6861_N-20200916000402.pdf   \n",
       "3         Charakterystyka-10174-2023-04-12-13484_A-2023-04-29.pdf   \n",
       "4         Charakterystyka-10252-2022-06-17-10632_A-2022-06-24.pdf   \n",
       "\n",
       "                                                                                                                                                                                                                                                                                                                                                                                                                                                                                                                                                                                                                                                                                                                                                                                                                                                                                                                                                                                                                                                                                                                                                                                                                                                                                                                                                                                                                                                                                                                                                                                                                                                                                                                                                                                                                                                                                                                                                                                                                                                                                                                                                                                                                                                                                                                                                                                                                                                                                                                                                                                                                                                                                                                                                                                                                                                                                                                                                                                                                                                                                                                                                                                                                                                                                                                                                                                                                                                                                                                                                                                                                                                                                                                                                                                                                                                                                                                                                                                                                                                                                                                                                                                                                                                                                                                                                                                                                                                                                                                                                                                                                                                                                                                                                                                                                                                                                                                                                                                                                                                                                                                                                                                                                                                                                                                                                                                                                                                                                                                                                                                                                                                                                                                                                                                                                                                                                                                                                                                                                                                                                                                                                                                                                                                                                                                                                                                                                                                                                                                                                                                                                                                                                                                                                                                                                                                                                                                                                                                                                                                                                                                                                                                                                                                                                                                                                                                                                                                                                                                                                                                                                                                                                                                                                                                                                                                                                                                                                                                                                                                                                                                                                                                                                                                                                                                                                                                                                                                                                                                                                                                                                                                                                                                                                                                                                                                                                                                                                                                                                                                                                                                                                                                                                                                                                                                                                                                                                                                                                                                                                                                                                                                                                                                                                                                                                                                                                                                                                                                                                                                                                                                                                                                                                                                                                                                                                                                                                                                                                                                                                                                                                                                                                                                                                                                                                                                                                                                                                                                                                                                                                                                                                                                                                                                                                                                                                                                                                                                                                                                                                                                                                                                                                                                                                                                                                                                                                                                                                                                                                                                                                                                                                                                                                                                                                                                                                                                                                                                                                                                                                                                                                                                                                                                                                                                                                                                                                                                                   CHPCL  \n",
       "0                                                                                                                                                                                                                                                                                                                                                                                                                                                                                                                                                                                                                                                                                                                                                                                                                                                                                                                                                                                                                                                                                                                                                                                                                                                                                                                                                                                                 CHARAKTERYSTYKA PRODUKTU LECZNICZEGO  1. NAZWA PRODUKTU LECZNICZEGO   Metazydyna, 20 mg, tabletki powlekane   2. SKŁAD JAKOŚCIOWY I ILOŚCIOWY   1 tabletka zawiera 20 mg trimetazydyny dichlorowodorku (Trimetazidini dihydrochloridum).  Substancje pomocnicze o znanym działaniu: 0,05 mg czerwieni koszenilowej. Pełny wykaz substancji pomocniczych, patrz: punkt 6.1.   3. POSTAĆ FARMACEUTYCZNA   Tabletki powlekane. Tabletki barwy czerwonej, okrągłe, obustronnie wypukłe, gładkie.   4. SZCZEGÓŁOWE DANE KLINICZNE   4.1  Wskazania do stosowania   Trimetazydyna jest wskazana u dorosłych w terapii skojarzonej w objawowym leczeniu pacjentów ze stabilną dławicą piersiową, u których leczenie przeciwdławicowe pierwszego rzutu jest niewystarczające lub nie jest tolerowane.   4.2  Dawkowanie i sposób podawania   Dawka wynosi jedną tabletkę 20 mg  trimetazydyny (w postaci dichlorowodorku) trzy razy na dobę, podczas posiłków.   Szczególne grupy pacjentów  Pacjenci z zaburzeniami czynności nerek U pacjentów z umiarkowanym zaburzeniem czynności nerek (klirens kreatyniny 30-60 ml/min; patrz punkty 4.4 i 5.2), zalecana dawka wynosi 1 tabletkę 20 mg dwa razy na dobę, tzn. raz rano i raz wieczorem, podczas posiłków.   Pacjenci w podeszłym wieku U pacjentów w podeszłym wieku ekspozycja na trimetazydynę może być zwiększona wskutek  związanego z wiekiem pogorszenia czynności nerek (patrz punkt 5.2). U pacjentów  z umiarkowanym zaburzeniem czynności nerek (klirens kreatyniny 30-60 ml/min) zalecana dawka  wynosi 1 tabletkę 20 mg dwa razy na dobę, tzn. raz rano i raz wieczorem, podczas posiłków.  Ustalanie dawki u pacjentów w podeszłym wieku należy przeprowadzać z zachowaniem ostrożności  (patrz punkt 4.4).  Dzieci i młodzież  Nie ustalono bezpieczeństwa stosowania ani skuteczności trimetazydyny u dzieci w wieku poniżej 18 lat. Brak dostępnych danych.  4.3  Przeciwwskazania   Nadwrażliwość na substancję czynną lub którąkolwiek substancję pomocniczą wymienioną  - Choroba Parkinsona, objawy parkinsonizmu, drżenia, zespół niespokojnych nóg oraz inne powiązane zaburzenia ruchowe.  - Ciężkie zaburzenia czynności nerek (klirens kreatyniny <30 ml/min).    4.4  Specjalne ostrzeżenia i środki ostrożności dotyczące stosowania  Produkt leczniczy Metazydyna nie służy do leczenia napadów dławicy piersiowej, ani też leczenia początkowego niestabilnej dławicy piersiowej lub zawału mięśnia sercowego. Nie należy stosować produktu leczniczego Metazydyna w okresie poprzedzającym hospitalizację ani też na jej początku.   W przypadku napadu dławicy piersiowej należy rozważyć wykonanie koronarografii oraz dostosować sposób leczenia (leczenie farmakologiczne i możliwość wykonania rewaskularyzacji).  U pacjentów z ciężką niewydolnością nerek (klirens kreatyniny mniejszy niż 15 ml/min.) nie zaleca się stosowania produktu leczniczego Metazydyna.  Trimetazydyna może powodować lub nasilać objawy parkinsonizmu (drżenie, bezruch, hipertonia),  co należy systematycznie sprawdzać, zwłaszcza u pacjentów w podeszłym wieku. W przypadkach budzących wątpliwości pacjentów należy skierować do neurologa w celu odpowiedniego zbadania.   Wystąpienie zaburzeń ruchowych, takich jak objawy parkinsonizmu, zespół niespokojnych nóg, drżenia, niestabilny chód, powinny prowadzić do definitywnego odstawienia trimetazydyny.   Przypadki te występują rzadko i są zwykle odwracalne po przerwaniu leczenia. Większość pacjentów wyzdrowiała w ciągu 4 miesięcy po odstawieniu trimetazydyny. Jeśli objawy parkinsonizmu utrzymują się dłużej niż przez 4 miesiące po odstawieniu leku, potrzebna jest ocena neurologa.   Może dochodzić do upadków związanych z niestabilnym chodem lub niedociśnieniem, zwłaszcza  u pacjentów przyjmujących leki przeciwnadciśnieniowe (patrz punkt 4.8).   Należy zachować ostrożność podczas przepisywania trimetazydyny pacjentom, u których można spodziewać się zwiększonej ekspozycji:  - z umiarkowanym zaburzeniem czynności nerek (patrz punkty 4.2 i 5.2);  - w podeszłym wieku powyżej 75 lat (patrz punkt 4.2).  Lek zawiera czerwień koszenilową (E 124), która może powodować reakcje alergiczne.  Metazydyna zawiera mniej niż 1 mmol (23 mg) sodu na tabletkę, to znaczy produkt uznaje się za ‘wolny od sodu’.  Sportowcy Lek ten zawiera substancję czynną, która może dawać pozytywną reakcję w testach antydopingowych.   4.5  Interakcje z innymi produktami leczniczymi i inne rodzaje interakcji  Nie stwierdzono występowania interakcji z innymi lekami lub substancjami.  4.6  Wpływ na płodność, ciążę i laktację   W badaniach doświadczalnych na zwierzętach nie stwierdzono bezpośredniego lub pośredniego toksycznego wpływu trimetazydyny na reprodukcję, jednak nie wykonano odpowiednio liczebnych, kontrolowanych badań u kobiet w ciąży, dlatego nie można wykluczyć ryzyka wystąpienia wad rozwojowych u płodu. Zaleca się unikanie stosowania trimetazydyny u kobiet w czasie ciąży.   Nie wiadomo czy lek przenika do mleka kobiecego. Nie można wykluczyć toksycznego wpływu na noworodka/dziecko karmione piersią. Nie należy stosować produktu w okresie karmienia piersią.  4.7  Wpływ na zdolność prowadzenia pojazdów i obsługiwania maszyn  W badaniach klinicznych trimetazydyna nie wykazywała działania hemodynamicznego, jednak po wprowadzeniu produktu do obrotu obserwowano przypadki zawrotów głowy i senności (patrz punkt 4.8), co może wpływać na zdolność prowadzenia pojazdów i obsługiwania maszyn.  4.8  Działania niepożądane   Produkt leczniczy Metazydyna jest na ogół dobrze tolerowany  Częstość występowania działań niepożądanych wymienionych poniżej określono następująco: bardzo często (≥ 1/10); często (≥ 1/100 do < 1/10); niezbyt często (≥ 1/1 000 do < 1/100); rzadko  (≥ 1/10 000 do < 1/1 000); bardzo rzadko (< 1/10 000), nieznana (częstość nie może być określona na podstawie dostępnych danych).  Klasyfikacja układów i narządów  Częstość występowania Zalecane określenie  Zaburzenia układu nerwowego  Często  Zawroty głowy, ból głowy  Częstość nieznana  Objawy parkinsonizmu (drżenie, bezruch, hipertonia), niestabilny chód, zespół niespokojnych nóg, inne powiązane zaburzenia ruchowe, zwykle przemijające po przerwaniu leczenia  Częstość nieznana  Zaburzenia snu (bezsenność, senność)  Zaburzenia serca  Rzadko  Palpitacje, skurcze dodatkowe, tachykardia  Zaburzenia naczyniowe  Rzadko  Niedociśnienie tętnicze, niedociśnienie ortostatyczne, które może być związane ze złym samopoczuciem, zawrotami głowy lub upadkami, zwłaszcza u pacjentów przyjmujących leki przeciwnadciśnieniowe, zaczerwienienie twarzy  Zaburzenia żołądka i jelit   Często  Ból brzucha, biegunka, niestrawność, nudności i wymioty  Częstość nieznana  Zaparcia  Zaburzenia skóry i tkanki podskórnej   Często  Wysypka, świąd, pokrzywka  Częstość nieznana  Ostra uogólniona osutka krostkowa (ang. acute generalized exanthematous pustulosis, AGEP), obrzęk naczynioruchowy  Zaburzenia ogólne i stany w miejscu podania  Często  Astenia  Zaburzenia krwi i układu chłonnego   Częstość nieznana  Agranulocytoza  Małopłytkowość  Plamica małopłytkowa  Zaburzenia wątroby i dróg żółciowych  Częstość nieznana  Zapalenie wątroby  Zaburzenia ucha i błędnika Częstość nieznana Zawroty głowy pochodzenia błędnikowego  Zgłaszanie podejrzewanych działań niepożądanych Po dopuszczeniu produktu leczniczego do obrotu istotne jest zgłaszanie podejrzewanych działań niepożądanych. Umożliwia to nieprzerwane monitorowanie stosunku korzyści do ryzyka stosowania produktu leczniczego. Osoby należące do fachowego personelu medycznego powinny zgłaszać wszelkie podejrzewane działania niepożądane bezpośrednio do Departamentu Monitorowania Niepożądanych Działań Produktów Leczniczych Urzędu Rejestracji Produktów Leczniczych, WbóM dh i Pd k óBi bójh Al Jliki 181C 02 222 Wl  Działania niepożądane można zgłaszać również podmiotowi odpowiedzialnemu.  4.9  Przedawkowanie   Dostępne są ograniczone informacje na temat przedawkowania trimetazydyny. Leczenie powinno być objawowe.   5. WŁAŚCIWOŚCI FARMAKOLOGICZNE   5.1  Właściwości farmakodynamiczne  Grupa farmakoterapeutyczna: leki stosowane w chorobach serca, kod ATC: C01 EB15  Mechanizm działania  Zachowując metabolizm energetyczny w komórkach narażonych na niedotlenienie lub niedokrwienie, trimetazydyna zapobiega spadkowi wewnątrzkomórkowego poziomu ATP, zapewniając tym samym prawidłowe funkcjonowanie pomp jonowych i transbłonowego przepływu sodowo-potasowego zachowując homeostazę komórkową.   Trimetazydyna hamuje β-oksydację kwasów tłuszczowych przez zablokowanie tiolazy długołańcuchowego 3-ketoacylokoenzymu A, co nasila utlenianie glukozy. W niedokrwionej komórce energia uzyskiwana w procesie utleniania glukozy wymaga mniejszego zużycia tlenu niż w procesie β-oksydacji. Nasilenie utlenienia glukozy prowadzi do optymalizacji procesów energetycznych w komórkach, co warunkuje utrzymanie ich prawidłowego metabolizmu podczas niedokrwienia.   Działanie farmakodynamiczne  U pacjentów z chorobą niedokrwienną trimetazydyna działa jak czynnik metaboliczny, zachowując  w mięśniu sercowym wewnątrzkomórkowe stężenie wysokoenergetycznych fosforanów. Działanie przeciwniedokrwienne jest osiągane bez jednoczesnego wpływu na parametry hemodynamiczne.   Skuteczność kliniczna i bezpieczeństwo stosowania  Badania kliniczne wykazały skuteczność i bezpieczeństwo trimetazydyny w leczeniu pacjentów  z przewlekłą dławicą piersiową, zarówno jako jedynego leku jak i wówczas, gdy korzyść ze stosowania innych produktów leczniczych przeciw niedokrwieniu była niewystarczająca.   W randomizowanym, podwójnie zaślepionym, kontrolowanym placebo badaniu u 426 pacjentów (TRIMPOL-II), trimetazydyna (60 mg/dobę) dodana do metoprololu 100 mg na dobę (50 mg dwa razy na dobę) podawanego przez 12 tygodni spowodowała znaczącą statystycznie poprawę parametrów elektrokardiograficznej próby wysiłkowej oraz objawów klinicznych w porównaniu z placebo: wydłużenie całkowitego czas trwania wysiłku o 20,1 s, p=0,023, zwiększenie całkowitej wartości wykonanej pracy o 0,54 METs, p=0,001, wydłużenie czasu do obniżenia odcinka ST o 1 mm o 33,4 s, p=0,003, wydłużenie czasu do wystąpienia bólu dławicowego o 33,9 s, p<0,001, zmniejszenie częstości bólów dławicowych o 0,73/tydzień, p=0,014 i zmniejszenie liczby przyjmowanych tabletek krótko działających azotanów o 0,63/tydzień, p=0,032, nie powodując przy tym zmian parametrów hemodynamicznych.   W randomizowanym, podwójnie zaślepionym, kontrolowanym placebo badaniu u 223 pacjentów (Sellier) jedna tabletka o zmodyfikowanym uwalnianiu trimetazydyny (w postaci dichlorowodorku) 35 mg (dwa razy na dobę) dodana do atenololu 50 mg (raz na dobę) przez 8 tygodni powodowała w 12 godzin po przyjęciu znaczące statystycznie wydłużenie (o 34,4 s, p=0,03) czasu do obniżenia odcinka ST o 1 mm podczas próby wysiłkowej w podgrupie pacjentów (n=173), w porównaniu z placebo. Stwierdzono także znaczącą różnicę odnośnie czasu do wystąpienia bólu dławicowego (p=0,049).  Nie znaleziono znaczących różnic między grupami odnośnie innych wtórnych punktów końcowych (całkowity czas trwania wysiłku, całkowita wartość wykonanej pracy i kliniczne punkty końcowe).     \n",
       "1                                                                                                                                                                                                                                                                                                                                                                                                                                                                                                                                                                                                                                                                                                                                                                                                                                                                                                                                                                                                                                                                                                                                                                                                                                                                                                                                                                                                                                                                                                                                                                      CHARAKTERYSTYKA PRODUKTU LECZNICZEGO  1. NAZWA PRODUKTU LECZNICZEGO  GALPENT, 100 mg, tabletki   2. SKŁAD JAKOŚCIOWY I ILOŚCIOWY  Jedna tabletka zawiera 100 mg pentaerytrytylu tetraazotanu (Pentaerythrityli tetranitras) w postaci 33,3% rozcierki laktozowej. Substancje pomocnicze o znanym działaniu: sacharoza 3,5 mg i laktoza jednowodna 214,7 mg. Pełny wykaz substancji pomocniczych, patrz punkt 6.1.   3. POSTAĆ FARMACEUTYCZNA  Tabletka Białe, okrągłe, obustronnie lekko wypukłe tabletki.   4. SZCZEGÓŁOWE DANE KLINICZNE  4.1 Wskazania do stosowania  Stabilna choroba niedokrwienna serca.  4.2 Dawkowanie i sposób podawania  Dawkowanie U dorosłych zaleca się stosowanie dawki 100 mg 1 raz na dobę, rano lub wieczorem. U niektórych pacjentów może być wskazane zwiększenie dawki do 2 razy na dobę po 100 mg. W piśmiennictwie stosowane są dawki 2 do 3 razy na dobę (co 12 do 8 godzin) po 50 do 80 mg, rzadziej 3 razy na dobę po 100 mg. U pacjentów z niewydolnością wątroby, nerek oraz u pacjentów w podeszłym wieku może zwiększyć się biodostępność pentaerytrytylu tetraazotanu. Brak jest jednoznacznych danych wskazujących, że u pacjentów w podeszłym wieku oraz z niewydolnością nerek i wątroby występuje zwiększenie biodostępności azotanów. Zaleca się ostrożność i odpowiednie zmniejszenie dawek indywidualnie dla każdego pacjenta, zależnie od zaawansowania niewydolności tych narządów. Należy unikać nagłego odstawienia produktu leczniczego (poza występującą bardzo rzadko alergią). W razie konieczności odstawienia produktu leczniczego zaleca się stopniowe zmniejszanie dawek. Produktu leczniczego Galpent nie stosuje się u dzieci.  Szczególne grupy pacjentów U osób w podeszłym wieku oraz u pacjentów z zaawansowaną niewydolnością wątroby lub nerek, wskazane jest rozpoczęcie terapii, jak podaje piśmiennictwo, od dawki 50 mg i zwiększanie dawki pod kontrolą lekarza.  Sposób podawania Podanie doustne. Ponieważ wchłanianie produktu leczniczego i czynnych metabolitów zmniejsza się w obecności pokarmu w jelitach, zaleca się przyjmowanie produktu leczniczego co najmniej pół godziny przed jedzeniem lub jedną godzinę po jedzeniu.  4.3 Przeciwwskazania  Nadwrażliwość na pentaerytrytylu tetraazotan lub inne azotany lub na którąkolwiek substancję pomocniczą wymienioną w punkcie 6.1. Wstrząs, hipotonia – w tym związana z hipowolemią. Zawał mięśnia sercowego z niskim ciśnieniem napełniania – szczególnie prawej komory. Kardiomiopatia przerostowa zawężająca drogę odpływu z lewej komory. Zwężenie zastawki mitralnej, zwężenie lewego ujścia tętniczego. Tamponada serca. Zaciskające zapalenie osierdzia. Serce płucne. Zwiększone ciśnienie śródczaszkowe, w tym udar mózgu i uraz czaszki. Znaczna niedokrwistość. Jaskra z wąskim kątem przesączania.  Produktu leczniczego nie stosuje się u kobiet w ciąży i w okresie karmienia piersią. Produktu leczniczego nie stosuje się u dzieci.  U osób przyjmujących pentaerytrytylu tetraazotan i inne azotany bezwzględnie przeciwwskazany jest syldenafil ze względu na występowanie działań niepożądanych, z ciężką redukcją ciśnienia tętniczego, stanowiących zagrożenie życia.  4.4 Specjalne ostrzeżenia i środki ostrożności dotyczące stosowania  Jednoczesne stosowanie pentaerytrytylu tetraazotanu i innych leków rozszerzających naczynia krwionośne, leków beta-adrenolitycznych, antagonistów wapnia, inhibitorów ACE i antagonistów receptora AT1, leków diuretycznych, innych leków hipotensyjnych, neuroleptyków i trójpierścieniowych leków przeciwdepresyjnych, może powodować niepożądane, nagłe zmniejszenie ciśnienia tętniczego z klinicznymi objawami hipotonii. W przypadku konieczności leczenia skojarzonego należy rozpoczynać od małych dawek, stopniowo zwiększanych pod ścisłą kontrolą. Alkohol nasila działanie azotanów polegające na obniżaniu ciśnienia tętniczego. Produkt leczniczy należy stosować ostrożnie u pacjentów z niedoczynnością tarczycy. Konieczne jest zachowanie ostrożności przy stopniowym zwiększaniu dawki u osób w podeszłym wieku oraz u pacjentów z zaawansowaną niewydolnością wątroby lub nerek, ze względu na mniejszy metabolizm pentaerytrytylu tetraazotanu w czasie pierwszego przejścia wątrobowego, a także zmniejszenie wydalania czynnych metabolitów produktu leczniczego: pentaerytrytylu diazotanu i pentaerytrytylu monoazotanu przez nerki – ze zwiększeniem biodostępności produktu leczniczego i możliwością wystąpienia działań niepożądanych – przede wszystkim hipotonii.  Produkt leczniczy zawiera laktozę Produkt leczniczy nie powinien być stosowany u pacjentów z rzadko występującą dziedziczną nietolerancją galaktozy, brakiem laktazy lub zespołem złego wchłaniania glukozy-galaktozy.  Produkt leczniczy zawiera sacharozę Pacjenci z rzadkimi dziedzicznymi zaburzeniami związanymi z nietolerancją fruktozy, zespołem złego wchłaniania glukozy-galaktozy lub niedoborem sacharazy-izomaltazy, nie powinni przyjmować produktu leczniczego.  4.5 Interakcje z innymi produktami leczniczymi i inne rodzaje interakcji  Jednoczesne podawanie difenhydraminy z pentaerytrytylu tetraazotanem zwiększa znacznie (6-krotnie) stężenie czynnego metabolitu – pentaerytrytylu monoazotanu. Pentaerytrytylu tetraazotan stosowany z dihydroergotaminą zwiększa jej stężenie w osoczu – powodując zwiększenie ciśnienia tętniczego. Nitidl kiilb iż ć k tść d i łitó Bezwzględnie przeciwwskazane jest przyjmowanie syldenafilu i innych inhibitorów 5-fosfodiesterazy podczas stosowania pentaerytrytylu tetraazotanu i innych azotanów (z nitrogliceryną podjęzykową włącznie), ze względu na potęgowanie działania azotanów organicznych i innych donorów NO, z ciężkimi następstwami hipotonii (zawał mięśnia sercowego, udar mózgowy, nagły zgon), zwłaszcza u chorych po zawale mięśnia sercowego, udarze, z zaburzeniami rytmu serca.  4.6 Wpływ na płodność, ciążę i laktację  U kobiet w ciąży i okresie karmienia piersią bezpieczeństwo stosowania nie zostało określone i dlatego nie należy stosować produktu leczniczego u tych pacjentek.  4.7 Wpływ na zdolność prowadzenia pojazdów i obsługiwania maszyn  U niektórych pacjentów istnieje możliwość występowania (najczęściej na początku terapii) bólów i zawrotów głowy oraz hipotonii ortostatycznej i omdleń. U tych pacjentów zalecana jest szczególna ostrożność i kontrola reakcji (po podaniu dawki jednorazowej). Pacjenta należy poinformować, że w przypadku wystąpienia takich objawów nie należy prowadzić pojazdów mechanicznych i obsługiwać maszyn.  4.8 Działania niepożądane  Częstość występowania działań niepożądanych: - bardzo często (1/10), - często (1/100 do <1/10), - niezbyt często (1/1 000 do <1/100), - rzadko (1/10 000 do <1/1 000), - bardzo rzadko (< 1/10 000), - nieznana (częstość nie może być określona na podstawie dostępnych danych).  Działania niepożądane pentaerytrytylu tetraazotanu są charakterystyczne dla całej grupy azotanów organicznych. Częstość ich występowania i nasilenie zależą od rodzaju produktu leczniczego i jego dawki, stanu i wrażliwości pacjenta na azotany oraz leczenia towarzyszącego.  W czasie leczenia pentaerytrytylu tetraazotanem mogą wystąpić niżej wymienione działania niepożądane.  Zaburzenia układu nerwowego Bardzo często: bóle głowy (zwykle o niewielkim nasileniu, obserwowane w ciągu pierwszych kilku - kilkunastu dni leczenia, występowały u 4,9% - 25% leczonych pacjentów). Często: zawroty głowy (występowały u 0,8% - 7% leczonych pacjentów).  Zaburzenia żołądka i jelit Rzadko: nudności, wymioty, bóle brzucha.  Zaburzenia serca Rzadko: odruchowa tachykardia.  Zaburzenia skóry Rzadko: przemijające zaczerwienienie skóry twarzy. Bardzo rzadko: skórne reakcje alergiczne. Nieznana częstość: trądzik różowaty oraz erytrodermia (zlewne zaczerwienienie i zazwyczaj obfite złuszczanie).    Zaburzenia naczyniowe Często: hipotonia ortostatyczna (nagłe zmniejszenie ciśnienia tętniczego u pacjentów po zmianie z pozycji leżącej na stojącą, występowała u 0,8% - 2,3% leczonych pacjentów). Zmniejszenie ciśnienia tętniczego (stwierdzono głównie u chorych z nadciśnieniem tętniczym). Istnieje możliwość wystąpienia zwiększonego ciśnienia śródczaszkowego oraz śródgałkowego. Bardzo rzadko: u osób szczególnie wrażliwych, pod wpływem alkoholu, a także po jednoczesnym podawaniu leków rozszerzających naczynia mogą wystąpić epizody niedociśnienia tętniczego z zasłabnięciem bądź omdleniem oraz odruchową bradykardią – głównie po nitroglicerynie.  Zaburzenia krwi Methemoglobinemię obserwowano wyłącznie po dożylnym podawaniu azotanów.  Zaburzenia układu immunologicznego Rzadko: reakcja nadwrażliwości na azotany.  Zaburzenia ogólne Często: osłabienie (występowało u 0,8% - 2,3% leczonych pacjentów).  Po zastosowaniu terapeutycznej dawki nitrogliceryny podanej podjęzykowo lub dożylnie obserwowano w początkowym okresie leczenia nagłe zmniejszenie ciśnienia tętniczego i zasłabnięcie do utraty przytomności oraz bradykardię, która może prowadzić do zatrzymania czynności serca. Reakcja ta nie była obserwowana po podaniu pentaerytrytylu tetraazotanu.  Zgłaszanie podejrzewanych działań niepożądanych Po dopuszczeniu produktu leczniczego do obrotu istotne jest zgłaszanie podejrzewanych działań niepożądanych. Umożliwia to nieprzerwane monitorowanie stosunku korzyści do ryzyka stosowania produktu leczniczego. Osoby należące do fachowego personelu medycznego powinny zgłaszać wszelkie podejrzewane działania niepożądane za pośrednictwem Departamentu Monitorowania Niepożądanych Działań Produktów Leczniczych Urzędu Rejestracji Produktów Leczniczych, Wyrobów Medycznych i Produktów Biobójczych Al. Jerozolimskie 181C 02-222 Warszawa Tel.: +48 22 49 21 301 Faks: +48 22 49 21 309 Strona internetowa: https://smz.ezdrowie.gov.pl  Działania niepożądane można zgłaszać również podmiotowi odpowiedzialnemu.  4.9 Przedawkowanie  Przedawkowanie produktu leczniczego Galpent nie było opisywane. W warunkach eksperymentalnych produkt leczniczy nie wykazywał działania toksycznego w dawce  400 mg/kg (LD50 wynosi > 6 g/kg masy ciała zwierząt). U ludzi stosowano doustnie 600 mg na dobę produktu leczniczego bez objawów przedawkowania. Objawy ewentualnego przedawkowania produktu leczniczego są podobne do objawów obserwowanych po podaniu nitrogliceryny. Stopień nasilenia objawów klinicznych przedawkowania zależny jest od dawki produktu leczniczego, leków jednocześnie podawanych oraz stanu pacjenta: niewydolności serca, ostrych zespołów wieńcowych, a zwłaszcza zawału z obniżonym ciśnieniem napływu krwi do lewej komory serca. Leczenie łagodnych postaci przedawkowania jest objawowe. Hipotonię daje się zwykle opanować ułożeniem chorego na plecach z uniesieniem nóg powyżej klatki piersiowej, a w przypadku braku szybkiej poprawy – wlewem dożylnym płynów infuzyjnych. Wskazane jest podawanie tlenu. W przypadku bradykardii z reguły stosuje się 1 mg atropiny podawanej dożylnie. Leczenie ciężkich postaci przedawkowania azotanów musi odbywać się na oddziale intensywnej terapii z monitorowaniem stanu pacjenta   \n",
       "2  CHARAKTERYSTYKA PRODUKTU LECZNICZEGO   1. NAZWA PRODUKTU LECZNICZEGO  Teveten, 600 mg, tabletki powlekane   2. SKŁAD JAKOŚCIOWY I ILOŚCIOWY   Każda tabletka powlekana zawiera 600 mg eprosartanu (Eprosartanum) w postaci eprosartanu mezylanu.  Substancja pomocnicza o znanym działaniu: Każda tabletka powlekana zawiera 43,3 mg laktozy jednowodnej. Pełny wykaz substancji pomocniczych, patrz punkt 6.1.   3. POSTAĆ FARMACEUTYCZNA  Tabletki powlekane, o kształcie kapsułki, białe, oznaczone „5046” na jednej stronie.   4. SZCZEGÓŁOWE DANE KLINICZNE  4.1 Wskazania do stosowania  Eprosartan jest wskazany w leczeniu nadciśnienia tętniczego pierwotnego.  4.2 Dawkowanie i sposób podawania  Zalecana dawka wynosi 600 mg eprosartanu raz na dobę.  U większości pacjentów maksymalne działanie obniżające ciśnienie tętnicze uzyskuje się po 2-3 tygodniach leczenia.  Eprosartan może być stosowany w monoterapii lub w skojarzeniu z innymi lekami przeciwnadciśnieniowymi (patrz punkty 4.3, 4.4, 4.5 i 5.1). Zwłaszcza skojarzenie z tiazydowymi lekami moczopędnymi, takimi jak hydrochlorotiazyd lub antagonistami wapnia, takimi jak nifedypina o przedłużonym uwalnianiu wykazało działanie addytywne z eprosartanem.  Eprosartan można przyjmować podczas posiłku lub niezależnie od posiłku.  Pacjenci w podeszłym wieku Nie jest wymagana modyfikacja dawki u osób w podeszłym wieku.  Dawkowanie u pacjentów z zaburzeniami czynności wątroby Doświadczenie u pacjentów z niewydolnością wątroby jest ograniczone (patrz punkt 4.3).  Dawkowanie u osób z zaburzeniami czynności nerek U pacjentów z umiarkowanymi lub ciężkimi zaburzeniami czynności nerek (klirens kreatyniny <60 ml/min) dawka dobowa nie może być większa niż 600 mg.  Dzieci i młodzież Nie zaleca się podawania produktu Teveten dzieciom i młodzieży, ponieważ brak danych dotyczących bezpieczeństwa i skuteczności stosowania w tej grupie wiekowej.   Znana nadwrażliwość na eprosartan lub którąkolwiek substancję pomocniczą. Ciężka niewydolność wątroby. Drugi i trzeci trymestr ciąży (patrz punkty 4.4 i 4.6). Istotne hemodynamicznie obustronne zwężenie tętnic nerkowych lub znaczne zwężenie tętnicy jedynej czynnej nerki. Jednoczesne stosowanie produktu leczniczego Teveten z produktami zawierającymi aliskiren jest przeciwwskazane u pacjentów z cukrzycą lub zaburzeniem czynności nerek (współczynnik filtracji kłębuszkowej, GFR<60 ml/min/1,73 m2) (patrz punkty 4.5 i 5.1).  4.4 Specjalne ostrzeżenia i środki ostrożności dotyczące stosowania  Niewydolność wątroby Należy zachować szczególną ostrożność podczas stosowania eprosartanu u pacjentów z łagodnymi do umiarkowanych zaburzeniami czynności wątroby, ponieważ istnieje ograniczone doświadczenie w tej grupie pacjentów.   Niewydolność nerek Nie ma konieczności dostosowania dawki u pacjentów z łagodną do umiarkowanej niewydolnością nerek (klirens kreatyniny ≥ 30 ml/min). Zaleca się ostrożność w przypadku stosowania u pacjentów z klirensem kreatyniny < 30 ml/min lub pacjentów dializowanych.  Pacjenci z grupy ryzyka wystąpienia zaburzeń czynności nerek U niektórych pacjentów z czynnością nerek zależną od nasilonej aktywności układu renina-angiotensyna-aldosteron (np. pacjenci z ciężką niewydolnością serca [klasa IV wg NYHA], obustronnym zwężeniem tętnic nerkowych lub zwężeniem tętnicy nerkowej jedynej czynnej nerki), w trakcie leczenia inhibitorami konwertazy angiotensyny (ACE) istnieje ryzyko wystąpienia skąpomoczu i (lub) postępującej azotemii oraz, rzadko, ostrej niewydolności nerek. Prawdopodobieństwo wystąpienia takich zaburzeń jest większe u pacjentów leczonych jednocześnie lekami moczopędnymi. Brak wystarczającego doświadczenia klinicznego w stosowaniu antagonistów receptora angiotensyny II, takich jak eprosartan, aby określić czy podobne ryzyko wystąpienia zaburzeń czynności nerek u podatnych pacjentów istnieje w odniesieniu do tej grupy leków. W przypadku stosowania eprosartanu u pacjentów z zaburzeniami czynności nerek należy ocenić czynność nerek przed rozpoczęciem leczenia i okresowo w trakcie leczenia. W przypadku pogorszenia czynności nerek podczas terapii, należy ponownie ocenić leczenie eprosartanem.  Na podstawie doświadczenia z innymi substancjami z tej grupy leków oraz inhibitorami ACE wyszczególniono następujące środki ostrożności, jakie należy zastosować:  Hiperkaliemia Podczas leczenia innymi produktami wpływającymi na układ renina-angiotensyna-aldosteron istnieje możliwość wystąpienia hiperkaliemii, zwłaszcza u pacjentów z niewydolnością nerek i (lub) serca. Zaleca się monitorowanie stężenia potasu w surowicy u pacjentów z grupy ryzyka.  Doświadczenie z innymi produktami wpływającymi na układ renina-angiotensyna-aldosteron wskazuje, że jednoczesne stosowanie eprosartanu z lekami moczopędnymi oszczędzającymi potas, suplementami potasu, substytutami soli zawierającymi potas lub innymi produktami, które mogą zwiększać stężenie potasu (np. heparyna, leki zawierające trimetoprim), może prowadzić do zwiększenia stężenia potasu w surowicy. Z tego powodu należy zachować ostrożność podczas jednoczesnego ich stosowania z produktem Teveten.  Podwójna blokada układu renina-angiotensyna-aldosteron (RAA) (ang. Renin-Angiotensin-Aldosterone-system, RAAS)  Istnieją dowody, iż jednoczesne stosowanie inhibitorów konwertazy angiotensyny (ACE) (ang. Angiotensin Converting Enzyme Inhibitors, ACEi), antagonistów receptora angiotensyny II (ang. Angiotensin Receptor Blockers, ARB) lub aliskirenu zwiększa ryzyko niedociśnienia, hiperkaliemii podwójnego blokowania układu RAA poprzez jednoczesne zastosowanie inhibitorów ACE, antagonistów receptora angiotensyny II lub aliskirenu (patrz punkty 4.5 i 5.1).  Jeśli zastosowanie podwójnej blokady układu RAA jest absolutnie konieczne, powinno być prowadzone wyłącznie pod nadzorem specjalisty, a parametry życiowe pacjenta, takie jak: czynność nerek, stężenie elektrolitów oraz ciśnienie krwi powinny być ściśle monitorowane.  U pacjentów z nefropatią cukrzycową nie należy stosować jednocześnie inhibitorów ACE oraz antagonistów receptora angiotensyny II.  Hiperaldosteronizm pierwotny Nie zaleca się stosowania produktu Teveten u pacjentów z hiperaldosteronizmem pierwotnym.  Niedociśnienie U pacjentów ze znaczną hipowolemią i (lub) niedoborem soli (np. podczas stosowania leków moczopędnych w dużych dawkach) może wystąpić objawowe niedociśnienie. Stany te należy skorygować przed rozpoczęciem leczenia.  Choroba wieńcowa serca Doświadczenie u pacjentów z chorobą wieńcową serca jest ograniczone.  Zwężenie zastawki aorty lub zastawki dwudzielnej/ kardiomiopatia przerostowa Podobnie jak w przypadku wszystkich leków rozszerzających naczynia krwionośne, należy zachować ostrożność podczas stosowania eprosartanu u pacjentów ze zwężeniem zastawki aorty lub zastawki dwudzielnej albo z kardiomiopatią przerostową.  Przeszczepienie nerki Brak doświadczenia u pacjentów po niedawno przebytym przeszczepieniu nerki.  Ciąża Nie należy rozpoczynać podawania antagonistów receptora angiotensyny II w trakcie ciąży. Z wyjątkiem konieczności kontynuowania leczenia antagonistą receptora angiotensyny II, u pacjentek planujących ciążę należy zastosować alternatywne leczenie przeciwnadciśnieniowe, o ustalonym profilu bezpieczeństwa stosowania w ciąży. W przypadku potwierdzenia ciąży należy natychmiast przerwać podawanie antagonisty receptora angiotensyny II i jeśli jest to wskazane, należy rozpocząć leczenie alternatywne (patrz punkty 4.3 i 4.6).   Inne ostrzeżenia i środki ostrożności Z obserwacji wynika, że inhibitory konwertazy angiotensyny, eprosartan i inni antagoniści receptora angiotensyny II są wyraźnie mniej skuteczne w obniżaniu ciśnienia tętniczego krwi u osób rasy czarnej w porównaniu z osobami innych ras. Prawdopodobnie jest to spowodowane częstszym występowaniem małej aktywności reniny u pacjentów rasy czarnej z nadciśnieniem.  Produkt leczniczy nie powinien być stosowany u pacjentów z rzadko występującą dziedziczną nietolerancją galaktozy, brakiem laktazy lub zespołem złego wchłaniania glukozy-galaktozy.  4.5 Interakcje z innymi produktami leczniczymi i inne rodzaje interakcji  Ponieważ w badaniach klinicznych kontrolowanych placebo obserwowano znaczne zwiększenie stężenia potasu w surowicy, oraz jak wynika z doświadczeń w stosowaniu innych leków wpływających na układ renina-angiotensyna, jednoczesne stosowanie leków moczopędnych oszczędzających potas, suplementów potasu, substytutów soli zawierających potas lub innych produktów leczniczych, które mogą zwiększać stężenie potasu w surowicy (np. heparyna, leki zawierające trimetoprim) może prowadzić do zwiększenia stężenia potasu w surowicy.  Dane badania klinicznego wykazały, że podwójna blokada układu renina-angiotensyna-aldosteron (RAA) w wyniku jednoczesnego zastosowania inhibitorów ACE, antagonistów receptora angiotensyny II lub aliskirenu jest związana z większą częstością występowania zdarzeń niepożądanych, takich jak: w porównaniu z zastosowaniem leku z grupy antagonistów układu RAA w monoterapii (patrz punkty 4.3, 4.4 i 5.1).  Jednoczesne stosowanie innych leków przeciwnadciśnieniowych może nasilić działanie hipotensyjne.  Podczas jednoczesnego stosowania litu z inhibitorami ACE obserwowano odwracalne zwiększenie stężenia litu w surowicy krwi i objawy jego toksyczności. Nie można wykluczyć podobnego skutku w przypadku stosowania eprosartanu, dlatego zaleca się dokładne kontrolowanie stężenia litu w surowicy w trakcie leczenia skojarzonego.  Wykazano, że eprosartan nie hamuje in vitro ludzkich izoenzymów CYP1A, 2A6, 2C9/8, 2C19, 2D6, 2E i 3A cytochromu P450.  Podobnie jak w przypadku inhibitorów ACE, jednoczesne stosowanie antagonistów angiotensyny II i niesteroidowych leków przeciwzapalnych (NLPZ) może prowadzić do pogorszenia czynności nerek z możliwością wystąpienia ostrej niewydolności nerek i zwiększenia stężenia potasu w surowicy, zwłaszcza u pacjentów z istniejącymi już zaburzeniami czynności nerek. Leczenie skojarzone należy stosować ostrożnie, zwłaszcza u pacjentów w podeszłym wieku. Należy odpowiednio nawodnić pacjentów oraz rozważyć monitorowanie czynności nerek po rozpoczęciu terapii skojarzonej i okresowo w późniejszym czasie.  Jednoczesne stosowanie losartanu i indometacyny prowadziło do zmniejszenia skuteczności antagonisty receptora angiotensyny II. Nie można wykluczyć takiego działania w odniesieniu do innych substancji z tej grupy.  4.6 Wpływ na płodność, ciążę i laktację  Ciąża Nie zaleca się stosowania antagonistów receptora angiotensyny II w pierwszym trymestrze ciąży (patrz punkt 4.4). Stosowanie antagonistów receptora angiotensyny II w drugim i trzecim trymestrze ciąży jest przeciwwskazane (patrz punkty 4.3 i 4.4).  Dane epidemiologiczne dotyczące ryzyka działania teratogennego inhibitorów ACE stosowanych w pierwszym trymestrze ciąży nie są rozstrzygające; jednak nie można wykluczyć niewielkiego zwiększenia ryzyka. Chociaż brak kontrolowanych danych epidemiologicznych dotyczących ryzyka stosowania antagonistów receptora angiotensyny II, podobne ryzyko może dotyczyć tej grupy leków. Z wyjątkiem konieczności kontynuowania leczenia antagonistą receptora angiotensyny II, u pacjentek planujących ciążę należy zastosować alternatywne leczenie przeciwnadciśnieniowe, o ustalonym profilu bezpieczeństwa stosowania w ciąży. W przypadku stwierdzenia ciąży należy natychmiast przerwać leczenie antagonistą receptora angiotensyny II i jeśli jest to wskazane, należy rozpocząć leczenie alternatywne.  Narażenie na antagonistę receptora angiotensyny II w drugim i trzecim trymestrze ciąży powoduje toksyczne działanie na ludzki płód (pogorszenie czynności nerek, małowodzie, opóźnienie kostnienia czaszki) i noworodka (niewydolność nerek, niedociśnienie tętnicze, hiperkaliemia).  Jeśli narażenie na antagonistę receptora angiotensyny IImiało miejsce od drugiego trymestru ciąży, zaleca się badanie ultrasonograficzne nerek i czaszki. Noworodki, których matki przyjmowały antagonistę receptora angiotensyny II  należy dokładnie obserwować ze względu na możliwość wystąpienia niedociśnienia (patrz punkty 4.3 i 4.4).  Laktacja Ze względu na brak danych odnośnie stosowania produktu Teveten podczas karmienia piersią, nie zaleca się jego stosowania. Zalecane jest alternatywne leczenie o lepiej ustalonym profilu bezpieczeństwa podczas karmienia piersią, zwłaszcza w przypadku karmienia piersią noworodka lub wcześniaka.  4.7 Wpływ na zdolność prowadzenia pojazdów i obsługiwania maszyn    \n",
       "3                                                                                                                                                                                                                                                                                                                                                                                                                                                                                                                                                                                                                                                                                                                                                                                                                                                                                                                                                                                                                                                                                                                                                                                                                                                                                                                                                                                                                                                                                                                                                                                                                                                                                                                                                                                                                                                                                                                                                                                                                                                                                                                                                                                                                                                                                                                                                                                                                                                                                                                                                                                                                                                                                                                                                                                                                                                                                                                                                                                                                                                                                                                                                                                                                                                                                                                                                                                                                                                                                                                                                                                                                                                                                                                                                                                                                                                                                                                                                                                                                                                                                                                                                                                                                                                                                                                                                                                                                                                                     CHARAKTERYSTYKA PRODUKTU LECZNICZEGO   1. NAZWA PRODUKTU LECZNICZEGO  0,9% Sodium Chloride–Braun, 9 mg/ml, roztwór do infuzji   2. SKŁAD JAKOŚCIOWY I ILOŚCIOWY   1 ml roztworu zawiera  Sodu chlorek  9,0 mg  Stężenia elektrolitów: Sód    154 mmol/l Chlorek   154 mmol/l  Pełny wykaz substancji pomocniczych, patrz punkt 6.1.   3. POSTAĆ FARMACEUTYCZNA  Roztwór do infuzji Roztwór wodny przezroczysty, bezbarwny  Osmolarność teoretyczna 308 mOsm/l Kwasowość miareczkowa < 0,3 mmol/l pH    4,5 – 7,0   4. SZCZEGÓŁOWE DANE KLINICZNE  4.1. Wskazania do stosowania  • Uzupełnianie płynów i elektrolitów w alkalozie hipochloremicznej • Niedobór chlorków • Krótkoterminowe uzupełnianie objętości śródnaczyniowej • Odwodnienie hipotoniczne lub izotoniczne • Roztwór do rozpuszczania stężonych elektrolitów i leków nie wykazujących niezgodności farmaceutycznych • Zewnętrznie do płukania ran oraz nawilżania opatrunków i tamponów na ranach  4.2. Dawkowanie i sposób podawania  Dawkowanie  Dorośli Dawkę ustala się w zależności od aktualnego zapotrzebowania na wodę i elektrolity.  Maksymalna dawka dobowa: 40 ml/kg mc. na dobę, co odpowiada 6 mmol sodu na kg mc. Wszelkie inne ubytki (np. wskutek gorączki, biegunki, wymiotów itd.) należy uzupełniać zgodnie z objętością i składem utraconych płynów.  W przypadku leczenia ostrego niedoboru płynów, np. w sytuacji zagrożenia lub wystąpienia wstrząsu hipowolemicznego, stosować można wyższe dawki, podawane np. w infuzji ciśnieniowej.  Szybkość infuzji Szybkość infuzji uzależniona jest od stanu zdrowia pacjenta (patrz punkt 4.4).  Pacjenci w podeszłym wieku Zwykle stosuje sie taki sam schemat dawkowania jak dla pacjentów dorosłych. Należy jednak zachować ostrożność podając ten produkt leczniczy pacjentom z chorobami takimi jak niewydolność serca lub nerek, często występującymi u osób w podeszłym wieku.  Dzieci Dawkę ustala się indywidualnie w zależności od zapotrzebowania na wodę i elektrolity, a także od wieku, masy ciała i stanu klinicznego pacjenta.  W sytuacji ciężkiego odwodnienia, w pierwszej godzinie leczenia zaleca się podawanie bolusa 20 ml/kg mc. W przypadku podawania tego leku należy wziąć pod uwagę całkowitą dobową ilość przyjmowanych płynów.  Rozpuszczalnik W przypadku stosowania roztworu 0,9% Sodium Chloride–Braun jako rozpuszczalnika, dawkowanie i szybkość infuzji należy przede wszystkim dostosować do schematu dawkowania dodawanego produktu leczniczego.  Płukanie ran Ilość roztworu stosowanego do płukania ran lub nawilżania uzależniona jest od rzeczywistego zapotrzebowania.  Sposób podawania Infuzja dożylna lub płukanie i nawilżanie. W przypadku infuzji pod ciśnieniem, która może okazać się niezbędna w nagłych przypadkach, konieczne jest całkowite usunięcie powietrza z pojemnika oraz zestawu do infuzji przed rozpoczęciem podawania roztworu.  4.3. Przeciwwskazania  Roztworu 0,9% Sodium Chloride–Braun nie należy podawać pacjentom w stanie: • przewodnienia, • ciężkiej hipernatremii, • ciężkiej hiperchloremii.  4.4. Specjalne ostrzeżenia i środki ostrożności dotyczące stosowania  Należy zachować ostrożność podając roztwór do infuzji dożylnych 0,9% Sodium Chloride–Braun w przypadkach: • hipokaliemii, • hipernatriemii, • hiperchloremii, • zaburzeń, w których wskazane jest ograniczenie ilości przyjmowanego sodu, takich jak niewydolność serca, uogólnione obrzęki, obrzęk płuc, nadciśnienie, rzucawka lub ciężka niewydolność nerek.   Aby zapobiec wystąpieniu zespołu demielinizacji osmotycznej, stężenie sodu w osoczu nie powinno przekraczać wartości 9 mmol/l/dobę. W większości przypadków, uwzględniając stan pacjenta i współwystępujące czynniki ryzyka, uzasadnione jest skorygowania prędkości o 4 do 6 mmol/l/dobę.  Monitorowanie parametrów klinicznych powinno obejmować stężenie elektrolitów w surowicy oraz ogólną ocenę równowagi płynowej i kwasowo-zasadowej.  W sytuacji, kiedy wymagane jest przeprowadzenie szybkiej infuzji roztworu 0,9% Sodium Chloride–Braun, należy monitorować stan układu sercowo-naczyniowego i czynności oddechowe.  Uwaga: W sytuacji, gdy ten produkt leczniczy stosowany jest jako rozpuszczalnik dla innego leku, należy przestrzegać informacji dotyczących bezpieczeństwa, dostarczonych przez wytwórcę dodawanego leku.  Dzieci Ponieważ nerki wcześniaków i niemowląt nie są w pełni rozwinięte, w przypadku tych pacjentów może dojść do zatrzymania nadmiernej ilości sodu. W związku z powyższym, przed ponowną infuzją chlorku sodu u wcześniaków i niemowląt, należy określić stężenie chlorku sodu w organizmie pacjenta.  4.5. Interakcje z innymi produktami leczniczymi i inne rodzaje interakcji  Produkty lecznicze zatrzymujące sód Równoczesne stosowanie leków zatrzymujących sód (jak kortykosteroidy i niesteroidowe leki przeciwzapalne) może prowadzić do obrzęku.  4.6. Wpływ na płodność, ciążę i laktację  Ciąża Brak lub dostępne są ograniczone dane dotyczące stosowania produktu leczniczego 0,9% Sodium Chloride-Braun u kobiet w ciąży. Dane te nie potwierdzają pośredniego ani bezpośredniego szkodliwego wpływu roztworu chlorku sodu 0,9% na reprodukcję (patrz punkt 5.3).  W związku z tym, że stężenia sodu i chloru są zbliżone do naturalnie występujących w organizmie człowieka, nie należy spodziewać się szkodliwego działania, pod warunkiem, że lek jest stosowany zgodnie ze wskazaniami.  W związku z powyższym produkt leczniczy 0,9% Sodium Chloride-Braun można stosować zgodnie ze wskazaniami.   Niemniej jednak, należy zachować ostrożność w przypadku występowania rzucawki (patrz punkt 4.4).  Karmienie piersią W związku z tym, że stężenia sodu i chloru są zbliżone do naturalnie występujących w organizmie człowieka, nie należy spodziewać się szkodliwego działania, pod warunkiem, że lek jest stosowany zgodnie ze wskazaniami  Produkt leczniczy 0,9% Sodium Chloride-Braun może być stosowany w trakcie karmienia piersią.  Płodność Brak danych.   4.7. Wpływ na zdolność prowadzenia pojazdów i obsługiwania maszyn  Produkt leczniczy 0,9% Sodium Chloride-Braun nie wywiera lub wywiera niewielki wpływ na zdolność prowadzenia pojazdów i obsługiwania maszyn.  4.8. Działania niepożądane  Nie należy spodziewać się występowania działań niepożądanych w sytuacji, kiedy lek stosowany jest zgodnie z zaleceniami.  Zgłaszanie podejrzewanych działań niepożądanych Po dopuszczeniu produktu leczniczego do obrotu istotne jest zgłaszanie podejrzewanych działań niepożądanych. Umożliwia to nieprzerwane monitorowanie stosunku korzyści do ryzyka stosowania produktu leczniczego. Osoby należące do fachowego personelu medycznego powinny zgłaszać wszelkie podejrzewane działania niepożądane za pośrednictwem Departamentu Monitorowania Niepożądanych Działań Produktów Leczniczych Urzędu Rejestracji Produktów Leczniczych, Wyrobów Medycznych i Produktów Biobójczych: Al. Jerozolimskie 181C 02-222 Warszawa tel.: + 48 22 49-21-301 fax: +48 22 49-21-309 strona internetowa: https://smz.ezdrowie.gov.pl  Działania niepożądane można zgłaszać również podmiotowi odpowiedzialnemu.  4.9. Przedawkowanie  Objawy Przedawkowanie może prowadzić do hipernatriemii, hiperchloremii, przewodnienia, ostrego przeciążenia płynami, obrzęku, hiperosmolarności surowicy i kwasicy hiperchloremicznej.  Nagłe zwiększenie stężenia sodu w osoczu pacjentów z przewlekłą hipernatriemią może prowadzić do wystąpienia zespołu demielinizacji osmotycznej (patrz punkt 4.4).  Pierwszymi objawami przedawkowania mogą być uczucie pragnienia, zagubienie, pocenie się, ból głowy, osłabienie, senność lub tachykardia. W przypadku ciężkiej hipernatriemii pojawić się może nadciśnienie lub niedociśnienie, zaburzenia oddychania lub śpiączka.  Leczenie  W zależności od ciężkości zaburzeń, konieczne może być natychmiastowe zaprzestanie infuzji, podanie diuretyków z ciągłym monitorowaniem stężenia elektrolitów w surowicy, skorygowanie zaburzeń równowagi elektrolitowej i kwasowo-zasadowej.  W ciężkim przedawkowaniu lub w przypadku oligo- lub anurii, konieczne może okazać sie przeprowadzenie dializy.   5. WŁAŚCIWOŚCI FARMAKOLOGICZNE  5.1. Właściwości farmakodynamiczne  Grupa terapeutyczna: roztwory regulujące równowagę elektrolitów, roztwory elektrolitów Kod ATC: B05B B01    \n",
       "4                                                                                                                                                                                                                                                                                                                                                                                                                                                                                                                                                                                                                                                                                                                                                                                                                                                                                                                                                                                                                                                                                                                                                                                                                                                                                                                                                                                                                                                                                                                                                                                                                                                                                                                                                                                                                                                                                                                                                                                                                                                                                                                                                                                                                                                                                                                                                                                                                                                                                                                                                                                                                                                                                                                                                                                                                                                                                                                                                                                                                                                                                                                                                                                                                                                                                                                                                                                                                                                                                                             CHARAKTERYSTYKA PRODUKTU LECZNICZEGO    1. NAZWA PRODUKTU LECZNICZEGO  CERUTIN, 100 mg + 25 mg, tabletki powlekane    2. SKŁAD JAKOŚCIOWY I ILOŚCIOWY  Jedna tabletka powlekana zawiera 100 mg kwasu askorbowego (Acidum ascorbicum) i 25 mg rutozydu trójwodnego (Rutosidum trihydricum).  Substancja pomocnicza o znanym działaniu: laktoza jednowodna, 1,90 mg w tabletce Pełny wykaz substancji pomocniczych, patrz punkt 6.1.   3. POSTAĆ FARMACEUTYCZNA  Tabletka powlekana.  Tabletki powlekane barwy żółtej, obustronnie wypukłe.    4. SZCZEGÓŁOWE DANE KLINICZNE  4.1 Wskazania do stosowania  − w stanach niedoboru witaminy C i rutozydu – wspomaganie odporności,  − uszczelnienie naczyń włosowatych – zapobieganie przeziębieniom i łagodzenie objawów grypy.   4.2 Dawkowanie i sposób podawania  Dawkowanie Doustnie.  Dorośli  Profilaktycznie       1 do 2 tabletek na dobę W stanach niedoboru witaminy C:    1 do 2 tabletek 4 razy na dobę  Dzieci i młodzież  Profilaktycznie:     w wieku do 12 lat: 1 tabletka na dobę        w wieku od 12 do 18 lat: 1 do 2 tabletek na dobę  W stanach niedoboru witaminy C:  w wieku do 12 lat: 1 do 2 labletek 2 razy na dobę                                                                  w wieku od 12 do 18 lat: 1 do 2 tabletek 2 do 4 razy na dobę  Należy stosować wyłącznie u dzieci, które potrafią połknąć tabletkę.    4.3 Przeciwwskazania  Nadwrażliwość na  substancje czynne lub na którąkolwiek substancję pomocniczą wymienioną w punkcie 6.1   4.4 Specjalne ostrzeżenia i środki ostrożności dotyczące stosowania  Produkt leczniczy należy ostrożnie stosować u pacjentów z zaburzeniami syntezy hemoglobiny i hemochromatozą. Witamina C w dużych dawkach może powodować nasilenie wydalania kwasu szczawiowego, dny, kamicy moczanowej, cystynurię, hipokaliemię, hiperkalcemię. Należy unikać stosowania dużych dawek kwasu askorbowego u pacjentów z nadmiernym wchłanianiem żelaza z przewodu pokarmowego.  Nie zaleca się równoczesnego stosowania rutyny i suflatiazolu z uwagi na zwiększenie ryzyka uszkodzenia naczyń krwionośnych i krwotoków. Produkt leczniczy zawiera laktozę. Lek nie powinien być stosowany u pacjentów z rzadko występującą dziedziczną nietolerancją galaktozy, brakiem laktazy lub zespołem złego wchłaniania glukozy-galaktozy.   4.5 Interakcje z innymi produktami leczniczymi i inne rodzaje interakcji  Nasilenie działania toksyczności doustnych leków przeciwkrzepliwych pochodnych warfaryny oraz sulfonamidów (m.in. możliwość krystalurii). Witamina C w dawkach większych niż 1 g na dobę może zmniejszyć skuteczność trójpierścieniowych leków przeciwdepresyjnych i amnioglikozydów. Długotrwałe stosowanie rutyny nasila działanie niesteroidowych leków przeciwzapalnych. Witamina C zwiększa wchłanianie żelaza z przewodu pokarmowego. Długotrwałe (>7 dni) podawanie kwasu acetylosalicylowego w dawce >600 mg/dobę powoduje zmniejszenie stężenia kwasu askorbowego w surowicy i krwinkach białych oraz nasilone jego wydalanie z moczem. Kwas askorbowy wpływa na wyniki testów biochemicznych, opierających się na reakcjach oksydacyjno-redukcyjnych (fałszywie dodatnie wyniki z odczynnikiem Benedicta i fałszywie ujemnie wyniki badań na obecność glukozy w moczu, wykonanych w przypadku użycia testów z oksydazą glukozową).   4.6 Wpływ na płodność, ciążę i laktację  Brak w pełni udokumentowanych badań prowadzonych u ludzi. Badania na zwierzętach (szczury) wskazują, że kwas askorbowy przenika przez barierę łożyska do płodu. Ujemny wpływ na płód ludzki, w przypadku przyjmowania dawek witaminy C zgodnie z zalecanym dziennym spożyciem, nie został udokumentowany. Kwas askorbowy przenika do mleka kobiecego. Nie zaleca się stosowania produktu leczniczego w okresie ciąży i karmienia piersią, chyba, że lekarz uzna to za konieczne.   4.7 Wpływ na zdolność prowadzenia pojazdów i obsługiwania maszyn  Produkt nie powoduje upośledzenia sprawności psychofizycznej, zdolności prowadzenia pojazdów i obsługiwania maszyn,   4.8 Działania niepożądane  Duże dawki witaminy C (więcej niż 500 mg na dobę) wywierają działanie moczopędne, mogą powodować zakwaszenie moczu, a w konsekwencji krystalizację szczawianów, moczanów, cytrynianów wapnia w drogach moczowych. Po stosowaniu dużych dawek witaminy C mogą również wystąpić: nudności, wymioty, niestrawność, biegunka, wysypka, ból głowy.   Zgłaszanie podejrzewanych działań niepożądanych Po dopuszczeniu produktu leczniczego do obrotu istotne jest zgłaszanie podejrzewanych działań  produktu leczniczego. Osoby należące do fachowego personelu medycznego powinny zgłaszać wszelkie podejrzewane działania niepożądane za pośrednictwem Departamentu Monitorowania Niepożądanych Działań Produktów Leczniczych Urzędu Rejestracji Produktów Leczniczych, Wyrobów Medycznych i Produktów Biobójczych Al. Jerozolimskie 181 C 02-222 Warszawa Tel.:  +48 22 49 21 301 Faks:  +48 22 49 21 309 Strona internetowa: https://smz.ezdrowie.gov.pl Działania niepożądane można zgłaszać również podmiotowi odpowiedzialnemu.   4.9 Przedawkowanie  Nie odnotowano przypadków przedawkowania rutyny i kwasu askorbowego.    5. WŁAŚCIWOŚCI FARMAKOLOGICZNE  5.1 Właściwości farmakodynamiczne  Grupa farmakoterapeutyczna: biofalwonoidy; rutozyd; mieszaniny Kod ATC: C06CA51  Kwas askorbowy (witamina C) pełni ważną rolę w procesach oksydoredukcyjnych, wpływa na przemianę aminokwasów aromatycznych, m.in. hydroksylację proliny, utlenianie fenyloalaniny, metabolizm tyroksyny oraz syntezę katecholamin, hormonów steroidowych i insuliny. Uczestniczy w procesie fosforylacji glukozy i syntezy glikogenu, zapewnia zachowanie prawidłowej budowy i funkcji włókien kolagenowych, substancji międzykomórkowej tkanki łącznej oraz utrzymanie mechanicznej odporności naczyń krwionośnych włosowatych. Ułatwia wchłanianie żelaza i bierze udział w syntezie hemoglobiny, wywiera także stymulujący wpływ na procesy odpornościowe organizmu, prawdopodobnie poprzez wpływ na syntezę interferonu i przeciwciał. Rutyna jest glikozydem z grupy flawonoli, którego część cukrową stanowi dwucukier - rutynoza, natomiast część niecukrową - kwercetyna. W skojarzeniu z kwasem askorbowym wykazuje właściwości przeciwszkorbutowe. Rutyna hamuje aktywność hialuronidazy, może zatem wpływać na regulację przepuszczalności ściany komórki. Rutyna wpływa na przemianę jodową i wapniową, powodując zwiększenie stężenia wapnia we krwi i zmniejszenie wydalania jodu. Wykazuje również działanie odtruwające w zatruciach alkoholem metylowym. Funkcja odtruwająca działania flawonoidu wiąże się z jego budową chemiczną. Stwierdzono, że połączenia flawonoidowe działają moczopędnie u człowieka  5.2 Właściwości farmakokinetyczne  Kwas askorbowy podany doustnie całkowicie wchłania się z przewodu pokarmowego, głównie w jelicie cienkim i jest rozprowadzany do wszystkich tkanek. Stopień wiązania kwasu askorbowego z białkami surowicy krwi jest mały i wynosi około 25%. Okres półtrwania wynosi 16 dni. Kwas askorbowy wydalany jest przez nerki w postaci niezmienionej lub w postaci metabolitów, tj. kwasu dehydroaskorbowego i kwasu szczawiowego. Okres półtrwania rutyny wynosi 11h. We krwi rutyna występuje w postaci czterech metabolitów: 3,4- dihydroksytoluenu (DTH); kwasu 3-hydroksyfenylooctowego (mPHAA); kwasu 3,4- dihydroksyfenylooctowego (HVA) i kwasu 3-metoksy-4-hydroksyfenylooctowego. Stężenie powyższych związków we krwi zaczyna zwiększać się od 4 do 8 godzin od chwili podania doustnego rutyny. Stężenie maksymalne we krwi występuje po 8 do 12 godzin po przyjęciu produktu i charakteryzuje się 2 do 3-krotnym zwiększeniem stężenia w stosunku do stanu tuż po zażyciu leku. Po tym okresie stężenia ulegają stopniowemu zmniejszeniu. Rutyna i jej metabolity wydalane są przez nerki (ok. 50% dawki) przez okres 20 do 48 godzin.     6. DANE FARMACEUTYCZNE  6.1 Wykaz substancji pomocniczych  Celuloza mikrokrystaliczna Skrobia kukurydziana Powidon Magnezu stearynian Skład otoczki: Laktoza jednowodna Hypromeloza Tytanu dwutlenek (E 171) Makrogol 6000 Żelaza tlenek żółty (E 172)  6.2 Niezgodności farmaceutyczne  Nie dotyczy.   6.3 Okres ważności  Blistry z folii PVC/Aluminium: 3 lata  Pojemniki z tworzywa sztucznego: 2 lata   6.4 Specjalne środki ostrożności podczas przechowywania  Przechowywać w temperaturze poniżej 25 0C. Nie należy stosować produktu leczniczego po upływie terminu ważności zamieszczonego na opakowaniu.   6.5 Rodzaj i zawartość opakowania   Blistry z folii PVC/Aluminium lub pojemniki z tworzywa sztucznego w tekturowym pudełku  25 tabletek powlekanych (1 blister po 25 szt.) 100 tabletek powlekanych (4 blistry po 25 szt.) 125 tabletek powlekanych (5 bistrów po 25 szt.) 150 tabletek powlekanych (6 blistrów po 25 szt.) 25 tabletek powlekanych (1 pojemnik po 25 szt.) 100 tabletek powlekanych (1 pojemnik po 100 szt.)  6.6 Specjalne środki ostrożności dotyczące usuwania i przygotowania produktu leczniczego do stosowania  Wszelkie niewykorzystane resztki produktu leczniczego lub jego odpady należy usunąć zgodnie z lokalnymi przepisami.   7. PODMIOT ODPOWIEDZIALNY POSIADAJĄCY POZWOLENIE NA DOPUSZCZENIE DO OBROTU  POLFARMEX S.A.   "
      ]
     },
     "execution_count": 40,
     "metadata": {},
     "output_type": "execute_result"
    }
   ],
   "source": [
    "text_df.head()"
   ]
  },
  {
   "cell_type": "code",
   "execution_count": 41,
   "metadata": {},
   "outputs": [
    {
     "data": {
      "text/html": [
       "<div>\n",
       "<style scoped>\n",
       "    .dataframe tbody tr th:only-of-type {\n",
       "        vertical-align: middle;\n",
       "    }\n",
       "\n",
       "    .dataframe tbody tr th {\n",
       "        vertical-align: top;\n",
       "    }\n",
       "\n",
       "    .dataframe thead th {\n",
       "        text-align: right;\n",
       "    }\n",
       "</style>\n",
       "<table border=\"1\" class=\"dataframe\">\n",
       "  <thead>\n",
       "    <tr style=\"text-align: right;\">\n",
       "      <th></th>\n",
       "      <th>filename</th>\n",
       "      <th>CHPCL</th>\n",
       "    </tr>\n",
       "  </thead>\n",
       "  <tbody>\n",
       "    <tr>\n",
       "      <th>865</th>\n",
       "      <td>Charakterystyka-47283-2023-10-31-15084_D-2023-11-10.pdf</td>\n",
       "      <td>CHARAKTERYSTYKA PRODUKTU LECZNICZEGO   1. NAZWA PRODUKTU LECZNICZEGO  Ebozan, 2,5 mg, tabletki Ebozan, 5 mg, tabletki Ebozan, 10 mg, tabletki Ebozan 20 mg, tabletki  2. SKŁAD JAKOŚCIOWY I ILOŚCIOWY  Ebozan, 2,5 mg, tabletki Każda tabletka zawiera 2,5 mg torasemidu (Torasemidum). Substancja pomocnicza o znanym działaniu: Każda tabletka zawiera 48 mg laktozy (w postaci laktozy jednowodnej).    Ebozan, 5 mg, tabletki Każda tabletka zawiera 5 mg torasemidu (Torasemidum). Substancja pomocnicza o znanym działaniu: Każda tabletka zawiera 97 mg laktozy (w postaci laktozy jednowodnej).    Ebozan, 10 mg, tabletki Każda tabletka zawiera 10 mg torasemidu (Torasemidum). Substancja pomocnicza o znanym działaniu: Każda tabletka zawiera 193 mg laktozy (w postaci laktozy jednowodnej).    Ebozan, 20 mg, tabletki Każda tabletka zawiera 20 mg torasemidu (Torasemidum).  Substancja pomocnicza o znanym działaniu: Każda tabletka zawiera 386 mg laktozy (w postaci laktozy jednowodnej).    Pełny wykaz substancji pomocniczych, patrz punkt 6.1.  3. POSTAĆ FARMACEUTYCZNA  Tabletka   Ebozan, 2,5 mg, tabletki Biała do prawie białej, okrągła tabletka o średnicy ok. 5 mm.  Ebozan, 5 mg, tabletki Biała do prawie białej, podłużna tabletka o wymiarach ok. 9 × 4 mm z linią podziału po jednej stronie. Tabletkę można podzielić na równe dawki.  Ebozan, 10 mg, tabletki Biała do prawie białej, okrągła tabletka o średnicy ok. 9 mm z wytłoczoną literą \"e\" umieszczoną po jednej stronie na środku.   Ebozan, 20 mg, tabletki Biała do prawie białej, podłużna tabletka o wymiarach ok. 14 × 7 mm.  4. SZCZEGÓŁOWE DANE KLINICZNE  4.1 Wskazania do stosowania  pochodzenia nerkowego.   Ponadto produkt leczniczy Ebozan 2,5 mg i 5 mg, tabletki są wskazane w leczeniu nadciśnienia tętniczego pierwotnego.   Produkt leczniczy Ebozan jest wskazany u dorosłych i młodzieży w wieku powyżej 12 lat.  4.2 Dawkowanie i sposób podawania  Dawkowanie Dorośli i młodzież w wieku powyżej 12 lat Obrzęki w niewydolności serca i wątroby Dawkowanie indywidualne. Zazwyczaj stosowana dawka wynosi 5-10 mg na dobę, najlepiej podczas śniadania. W razie konieczności dawkę można zwiększyć do 20 mg na dobę. W rzadkich przypadkach stosowano 40 mg torasemidu na dobę.  Nadciśnienie tętnicze Zazwyczaj stosowana dawka wynosi 2,5 mg na dobę, najlepiej podczas śniadania. Dawki nie należy zwiększać przed upływem 2 miesięcy, a maksymalna dawka wynosi 5 mg raz na dobę.  Obrzęki w niewydolności nerek Indywidualne dawkowanie w zależności od stopnia zaburzenia czynności nerek. Jeśli zazwyczaj stosowana dawka 20 mg na dobę nie zapewnia wystarczającego działania, dawkę można zwiększyć do 50 mg na dobę, a następnie, jeśli to konieczne, stopniowo zwiększać do 200 mg raz na dobę, najlepiej podczas śniadania. Dawkę 200 mg należy stosować wyłącznie u pacjentów z klirensem kreatyniny &lt;30 mL/min. Maksymalna dawka dobowa stosowana przez długi czas wynosi 200 mg.  Torasemid można podawać w skojarzeniu z lekami blokującymi receptory beta lub inhibitorami ACE, więcej informacji - patrz punkt 4.5.  Dzieci i młodzież Brak danych dotyczących stosowania u dzieci w wieku poniżej 12 lat.  Sposób podawania Produkt leczniczy Ebozan jest przeznaczony do stosowania doustnego. Tabletki należy połykać, popijając niewielką ilością płynu, bez żucia. Tabletki najlepiej przyjmować rano.  4.3 Przeciwwskazania  • Nadwrażliwość na torasemid, pochodne sulfonylomocznika lub na którąkolwiek substancję pomocniczą wymienioną w punkcie 6.1. • Zagrażająca lub jawna śpiączka wątrobowa. • Bezmocz w niewydolności nerek.  • Hipowolemia. • Niedociśnienie tętnicze.  4.4 Specjalne ostrzeżenia i środki ostrożności dotyczące stosowania  Torasemid może prowadzić do nasilonej diurezy z niedoborem soli i płynów. Pacjentów należy bardzo dokładnie kontrolować, szczególnie na początku leczenia i pacjentów w podeszłym wieku.  Przed rozpoczęciem leczenia należy wyrównać hipokaliemię, hiponatremię i hipowolemię.   Przed rozpoczęciem leczenia należy wyeliminować problemy z oddawaniem moczu (np. łagodny rozrost gruczołu krokowego), ponieważ istnieje zwiększone ryzyko ostrego zatrzymania moczu. trzeciego stopnia).  Podczas długotrwałego leczenia torasemidem należy regularnie kontrolować stężenie elektrolitów we krwi, zwłaszcza potasu (szczególnie u pacjentów leczonych jednocześnie glikozydami naparstnicy, glikokortykosteroidami, mineralokortykosteroidami lub środkami przeczyszczającymi), glukozy, kwasu moczowego, kreatyniny i lipidów we krwi.  U pacjentów z marskością wątroby i wodobrzuszem zaleca się rozpoczęcie leczenia diuretykami w szpitalu. Nadmierna diureza u tych pacjentów może wywołać ciężkie zaburzenia elektrolitowe i śpiączkę wątrobową. Należy zachować ostrożność podczas podawania torasemidu pacjentom z encefalopatią wątrobową. Zaleca się jednoczesne stosowanie antagonisty aldosteronu lub leku oszczędzającego potas, aby zapobiec hipokaliemii i zasadowicy metabolicznej.  Zaleca się bardzo dokładne kontrolowanie pacjentów z tendencją do hiperurykemii i dny moczanowej. Należy monitorować metabolizm węglowodanów u pacjentów z utajoną lub jawną cukrzycą. Szczególnie na początku leczenia i u pacjentów w podeszłym wieku należy uważnie monitorować objawy niedoboru elektrolitów i objętości krwi oraz hemokoncentracji.  Ze względu na niewystarczające doświadczenie w leczeniu torasemidem należy zachować ostrożność w przypadku: • Patologicznych zaburzeń równowagi kwasowo-zasadowej. • Jednoczesnego leczenia litem, aminoglikozydami lub cefalosporynami. • Niewydolności nerek spowodowanej stosowaniem substancji nefrotoksycznych. • Dzieci w wieku poniżej 12 lat.  Laktoza Produkt leczniczy Ebozan zawiera laktozę. Pacjenci z rzadkimi dziedzicznymi zaburzeniami związanymi z nietolerancją galaktozy, brakiem laktazy lub zespołem złego wchłaniania glukozy-galaktozy, nie powinni przyjmować tego produktu leczniczego.   4.5 Interakcje z innymi produktami leczniczymi i inne rodzaje interakcji  Wpływ innych produktów leczniczych na torasemid Probenecyd może zmniejszać działanie torasemidu poprzez hamowanie wydzielania kanalikowego.  Jednoczesne leczenie cholestyraminą może osłabiać skuteczność i biodostępność torasemidu.  Niesteroidowe leki przeciwzapalne i (lub) przeciwreumatyczne, NLPZ (np. indometacyna) mogą zmniejszać działanie moczopędne i przeciwnadciśnieniowe torasemidu, prawdopodobnie poprzez hamowanie syntezy prostaglandyn.  Wpływ torasemidu na inne produkty lecznicze U pacjentów przyjmujących duże ilości salicylanów torasemid może powodować zatrucie salicylanami poprzez hamowanie wydalania salicylanów przez nerki.  Istnieją doniesienia o zwiększonej skuteczności warfaryny i innych leków przeciwzakrzepowych z grupy kumaryny podczas jednoczesnego leczenia torasemidem. Pacjenci leczeni jednocześnie lekami przeciwzakrzepowymi i torasemidem powinni być ściśle monitorowani.  Jednoczesne leczenie może nasilać działanie leków przeciwnadciśnieniowych, zwłaszcza inhibitorów ACE. Późniejsze lub skojarzone leczenie lub rozpoczęcie nowego jednoczesnego leczenia inhibitorem ACE może powodować ciężkie niedociśnienie. Można to zminimalizować poprzez zmniejszenie dawki początkowej inhibitora ACE i (lub) zmniejszenie lub czasowe odstawienie torasemidu na 2 lub 3 dni przed rozpoczęciem leczenia inhibitorem ACE.   Działanie ototoksyczne i nefrotoksyczne aminoglikozydów (np. gentamycyny i tobramycyny), cisplatyny i cefalosporyn może być nasilane przez leczenie torasemidem w dużych dawkach.  Podczas jednoczesnego leczenia glikozydami nasercowymi hipokaliemia i (lub) niedobór magnezu mogą powodować zwiększoną wrażliwość mięśnia sercowego na te leki.  Wydalanie potasu z moczem może się zwiększyć podczas leczenia mineralokortykosteroidami, glikokortykosteroidami i środkami przeczyszczającymi.  Stężenie litu w surowicy oraz kardiotoksyczne i neurotoksyczne działanie litu mogą być zwiększone. Działanie leków zwiotczających mięśnie zawierających kurarę i teofiliny mogą być nasilone.  4.6 Wpływ na płodność, ciążę i laktację  Ciąża Brak danych lub istnieją ograniczone dane dotyczące stosowania torasemidu u kobiet w ciąży. Tiazydy, diuretyki tiazydowe i diuretyki pętlowe mogą przenikać do płodu i powodować zaburzenia elektrolitowe. Zgłaszano przypadki małopłytkowości noworodków w związku ze stosowaniem tiazydów i diuretyków tiazydowych. Ryzyko to może również występować w przypadku stosowania diuretyków pętlowych, takich jak furosemid, torasemid i bumetanid.  W okresie ciąży, do czasu uzyskania dodatkowych informacji, torasemid powinien być podawany wyłącznie po szczególnym rozważeniu i w najmniejszej odpowiedniej dawce.  Karmienie piersią Nie ma informacji, czy torasemid przenika do mleka ludzkiego. Nie można wykluczyć ryzyka dla dziecka karmionego piersią. Diuretyki pętlowe mogą zmniejszać laktację. Nie należy stosować torasemidu podczas karmienia piersią.  4.7 Wpływ na zdolność prowadzenia pojazdów i obsługiwania maszyn  Indywidualnie zróżnicowane reakcje mogą zaburzać zdolność reagowania (np. zdolność pacjentów do prowadzenia pojazdów i obsługi maszyn). Dzieje się tak zwłaszcza na początku leczenia lub w przypadku zmiany leczenia.  4.8 Działania niepożądane  Podsumowanie profilu bezpieczeństwa Ogólna częstość działań niepożądanych wynosi około 8%. Najczęstsze działania niepożądane to bóle głowy, zmęczenie i zawroty głowy.  Tabelaryczny wykaz działań niepożądanych Działania niepożądane są wymienione poniżej według klasy układu narządów i częstości występowania. Częstości są zdefiniowane jako: często (≥1/100 do &lt;1/10), niezbyt często (≥1/1 000 do &lt;1/100), rzadko  (≥1/10 000 do &lt;1/1 000), częstość nieznana (nie może być określona na podstawie dostępnych danych).  Klasyfikacja układów i narządów MedDRA Kategoria częstości Działanie niepożądane Zaburzenia krwi i układu chłonnego Rzadko Leukopenia, trombocytopenia Zaburzenia układu immunologicznego Nieznana Ciężkie reakcje skórne (np. zespół Stevensa-Johnsona, toksyczna rozpływna martwica naskórka) Zaburzenia metabolizmu i Niezbyt często Hiperglikemia, hipokaliemia,</td>\n",
       "    </tr>\n",
       "  </tbody>\n",
       "</table>\n",
       "</div>"
      ],
      "text/plain": [
       "                                                    filename  \\\n",
       "865  Charakterystyka-47283-2023-10-31-15084_D-2023-11-10.pdf   \n",
       "\n",
       "                                                                                                                                                                                                                                                                                                                                                                                                                                                                                                                                                                                                                                                                                                                                                                                                                                                                                                                                                                                                                                                                                                                                                                                                                                                                                                                                                                                                                                                                                                                                                                                                                                                                                                                                                                                                                                                                                                                                                                                                                                                                                                                                                                                                                                                                                                                                                                                                                                                                                                                                                                                                                                                                                                                                                                                                                                                                                                                                                                                                                                                                                                                                                                                                                                                                                                                                                                                                                                                                                                                                                                                                                                                                                                                                                                                                                                                                                                                                                                                                                                                                                                                                                                                                                                                                                                                                                                                                                                                                                                                                                                                                                                                                                                                                                                                                                                                                                                                                                                                                                                                                                                                                                                                                                                                                                                                                                                                                                                                                                                                                                                                                                                                                                                                                                                                                                                                                                                                                                                                                                                                                                                                                                                                                                                                                                                                                                                                                                                                                                                                                                                                                                                                                                                                                                                                                                                                                                                                                                                                                                                                                                                                                                                                                                                                                                                                                                                                                                                                                                                                                                                                                                                                                                                                                                                                                                                                                                                                                                                                                                                                                                                                                                                                                                                                                                                                                                                                                                                                                                                                                                                                                                                                                                                                                                                                                                                                                                                                                                                                                                                                                                                                                                                                                                                                                                                                                                                                                                                                                                                                                                                                                                                                                                                                                                                                                                                                                                                                                                                                                                                                                                                                                                                                                                                                                                                                                                                                                                        CHPCL  \n",
       "865  CHARAKTERYSTYKA PRODUKTU LECZNICZEGO   1. NAZWA PRODUKTU LECZNICZEGO  Ebozan, 2,5 mg, tabletki Ebozan, 5 mg, tabletki Ebozan, 10 mg, tabletki Ebozan 20 mg, tabletki  2. SKŁAD JAKOŚCIOWY I ILOŚCIOWY  Ebozan, 2,5 mg, tabletki Każda tabletka zawiera 2,5 mg torasemidu (Torasemidum). Substancja pomocnicza o znanym działaniu: Każda tabletka zawiera 48 mg laktozy (w postaci laktozy jednowodnej).    Ebozan, 5 mg, tabletki Każda tabletka zawiera 5 mg torasemidu (Torasemidum). Substancja pomocnicza o znanym działaniu: Każda tabletka zawiera 97 mg laktozy (w postaci laktozy jednowodnej).    Ebozan, 10 mg, tabletki Każda tabletka zawiera 10 mg torasemidu (Torasemidum). Substancja pomocnicza o znanym działaniu: Każda tabletka zawiera 193 mg laktozy (w postaci laktozy jednowodnej).    Ebozan, 20 mg, tabletki Każda tabletka zawiera 20 mg torasemidu (Torasemidum).  Substancja pomocnicza o znanym działaniu: Każda tabletka zawiera 386 mg laktozy (w postaci laktozy jednowodnej).    Pełny wykaz substancji pomocniczych, patrz punkt 6.1.  3. POSTAĆ FARMACEUTYCZNA  Tabletka   Ebozan, 2,5 mg, tabletki Biała do prawie białej, okrągła tabletka o średnicy ok. 5 mm.  Ebozan, 5 mg, tabletki Biała do prawie białej, podłużna tabletka o wymiarach ok. 9 × 4 mm z linią podziału po jednej stronie. Tabletkę można podzielić na równe dawki.  Ebozan, 10 mg, tabletki Biała do prawie białej, okrągła tabletka o średnicy ok. 9 mm z wytłoczoną literą \"e\" umieszczoną po jednej stronie na środku.   Ebozan, 20 mg, tabletki Biała do prawie białej, podłużna tabletka o wymiarach ok. 14 × 7 mm.  4. SZCZEGÓŁOWE DANE KLINICZNE  4.1 Wskazania do stosowania  pochodzenia nerkowego.   Ponadto produkt leczniczy Ebozan 2,5 mg i 5 mg, tabletki są wskazane w leczeniu nadciśnienia tętniczego pierwotnego.   Produkt leczniczy Ebozan jest wskazany u dorosłych i młodzieży w wieku powyżej 12 lat.  4.2 Dawkowanie i sposób podawania  Dawkowanie Dorośli i młodzież w wieku powyżej 12 lat Obrzęki w niewydolności serca i wątroby Dawkowanie indywidualne. Zazwyczaj stosowana dawka wynosi 5-10 mg na dobę, najlepiej podczas śniadania. W razie konieczności dawkę można zwiększyć do 20 mg na dobę. W rzadkich przypadkach stosowano 40 mg torasemidu na dobę.  Nadciśnienie tętnicze Zazwyczaj stosowana dawka wynosi 2,5 mg na dobę, najlepiej podczas śniadania. Dawki nie należy zwiększać przed upływem 2 miesięcy, a maksymalna dawka wynosi 5 mg raz na dobę.  Obrzęki w niewydolności nerek Indywidualne dawkowanie w zależności od stopnia zaburzenia czynności nerek. Jeśli zazwyczaj stosowana dawka 20 mg na dobę nie zapewnia wystarczającego działania, dawkę można zwiększyć do 50 mg na dobę, a następnie, jeśli to konieczne, stopniowo zwiększać do 200 mg raz na dobę, najlepiej podczas śniadania. Dawkę 200 mg należy stosować wyłącznie u pacjentów z klirensem kreatyniny <30 mL/min. Maksymalna dawka dobowa stosowana przez długi czas wynosi 200 mg.  Torasemid można podawać w skojarzeniu z lekami blokującymi receptory beta lub inhibitorami ACE, więcej informacji - patrz punkt 4.5.  Dzieci i młodzież Brak danych dotyczących stosowania u dzieci w wieku poniżej 12 lat.  Sposób podawania Produkt leczniczy Ebozan jest przeznaczony do stosowania doustnego. Tabletki należy połykać, popijając niewielką ilością płynu, bez żucia. Tabletki najlepiej przyjmować rano.  4.3 Przeciwwskazania  • Nadwrażliwość na torasemid, pochodne sulfonylomocznika lub na którąkolwiek substancję pomocniczą wymienioną w punkcie 6.1. • Zagrażająca lub jawna śpiączka wątrobowa. • Bezmocz w niewydolności nerek.  • Hipowolemia. • Niedociśnienie tętnicze.  4.4 Specjalne ostrzeżenia i środki ostrożności dotyczące stosowania  Torasemid może prowadzić do nasilonej diurezy z niedoborem soli i płynów. Pacjentów należy bardzo dokładnie kontrolować, szczególnie na początku leczenia i pacjentów w podeszłym wieku.  Przed rozpoczęciem leczenia należy wyrównać hipokaliemię, hiponatremię i hipowolemię.   Przed rozpoczęciem leczenia należy wyeliminować problemy z oddawaniem moczu (np. łagodny rozrost gruczołu krokowego), ponieważ istnieje zwiększone ryzyko ostrego zatrzymania moczu. trzeciego stopnia).  Podczas długotrwałego leczenia torasemidem należy regularnie kontrolować stężenie elektrolitów we krwi, zwłaszcza potasu (szczególnie u pacjentów leczonych jednocześnie glikozydami naparstnicy, glikokortykosteroidami, mineralokortykosteroidami lub środkami przeczyszczającymi), glukozy, kwasu moczowego, kreatyniny i lipidów we krwi.  U pacjentów z marskością wątroby i wodobrzuszem zaleca się rozpoczęcie leczenia diuretykami w szpitalu. Nadmierna diureza u tych pacjentów może wywołać ciężkie zaburzenia elektrolitowe i śpiączkę wątrobową. Należy zachować ostrożność podczas podawania torasemidu pacjentom z encefalopatią wątrobową. Zaleca się jednoczesne stosowanie antagonisty aldosteronu lub leku oszczędzającego potas, aby zapobiec hipokaliemii i zasadowicy metabolicznej.  Zaleca się bardzo dokładne kontrolowanie pacjentów z tendencją do hiperurykemii i dny moczanowej. Należy monitorować metabolizm węglowodanów u pacjentów z utajoną lub jawną cukrzycą. Szczególnie na początku leczenia i u pacjentów w podeszłym wieku należy uważnie monitorować objawy niedoboru elektrolitów i objętości krwi oraz hemokoncentracji.  Ze względu na niewystarczające doświadczenie w leczeniu torasemidem należy zachować ostrożność w przypadku: • Patologicznych zaburzeń równowagi kwasowo-zasadowej. • Jednoczesnego leczenia litem, aminoglikozydami lub cefalosporynami. • Niewydolności nerek spowodowanej stosowaniem substancji nefrotoksycznych. • Dzieci w wieku poniżej 12 lat.  Laktoza Produkt leczniczy Ebozan zawiera laktozę. Pacjenci z rzadkimi dziedzicznymi zaburzeniami związanymi z nietolerancją galaktozy, brakiem laktazy lub zespołem złego wchłaniania glukozy-galaktozy, nie powinni przyjmować tego produktu leczniczego.   4.5 Interakcje z innymi produktami leczniczymi i inne rodzaje interakcji  Wpływ innych produktów leczniczych na torasemid Probenecyd może zmniejszać działanie torasemidu poprzez hamowanie wydzielania kanalikowego.  Jednoczesne leczenie cholestyraminą może osłabiać skuteczność i biodostępność torasemidu.  Niesteroidowe leki przeciwzapalne i (lub) przeciwreumatyczne, NLPZ (np. indometacyna) mogą zmniejszać działanie moczopędne i przeciwnadciśnieniowe torasemidu, prawdopodobnie poprzez hamowanie syntezy prostaglandyn.  Wpływ torasemidu na inne produkty lecznicze U pacjentów przyjmujących duże ilości salicylanów torasemid może powodować zatrucie salicylanami poprzez hamowanie wydalania salicylanów przez nerki.  Istnieją doniesienia o zwiększonej skuteczności warfaryny i innych leków przeciwzakrzepowych z grupy kumaryny podczas jednoczesnego leczenia torasemidem. Pacjenci leczeni jednocześnie lekami przeciwzakrzepowymi i torasemidem powinni być ściśle monitorowani.  Jednoczesne leczenie może nasilać działanie leków przeciwnadciśnieniowych, zwłaszcza inhibitorów ACE. Późniejsze lub skojarzone leczenie lub rozpoczęcie nowego jednoczesnego leczenia inhibitorem ACE może powodować ciężkie niedociśnienie. Można to zminimalizować poprzez zmniejszenie dawki początkowej inhibitora ACE i (lub) zmniejszenie lub czasowe odstawienie torasemidu na 2 lub 3 dni przed rozpoczęciem leczenia inhibitorem ACE.   Działanie ototoksyczne i nefrotoksyczne aminoglikozydów (np. gentamycyny i tobramycyny), cisplatyny i cefalosporyn może być nasilane przez leczenie torasemidem w dużych dawkach.  Podczas jednoczesnego leczenia glikozydami nasercowymi hipokaliemia i (lub) niedobór magnezu mogą powodować zwiększoną wrażliwość mięśnia sercowego na te leki.  Wydalanie potasu z moczem może się zwiększyć podczas leczenia mineralokortykosteroidami, glikokortykosteroidami i środkami przeczyszczającymi.  Stężenie litu w surowicy oraz kardiotoksyczne i neurotoksyczne działanie litu mogą być zwiększone. Działanie leków zwiotczających mięśnie zawierających kurarę i teofiliny mogą być nasilone.  4.6 Wpływ na płodność, ciążę i laktację  Ciąża Brak danych lub istnieją ograniczone dane dotyczące stosowania torasemidu u kobiet w ciąży. Tiazydy, diuretyki tiazydowe i diuretyki pętlowe mogą przenikać do płodu i powodować zaburzenia elektrolitowe. Zgłaszano przypadki małopłytkowości noworodków w związku ze stosowaniem tiazydów i diuretyków tiazydowych. Ryzyko to może również występować w przypadku stosowania diuretyków pętlowych, takich jak furosemid, torasemid i bumetanid.  W okresie ciąży, do czasu uzyskania dodatkowych informacji, torasemid powinien być podawany wyłącznie po szczególnym rozważeniu i w najmniejszej odpowiedniej dawce.  Karmienie piersią Nie ma informacji, czy torasemid przenika do mleka ludzkiego. Nie można wykluczyć ryzyka dla dziecka karmionego piersią. Diuretyki pętlowe mogą zmniejszać laktację. Nie należy stosować torasemidu podczas karmienia piersią.  4.7 Wpływ na zdolność prowadzenia pojazdów i obsługiwania maszyn  Indywidualnie zróżnicowane reakcje mogą zaburzać zdolność reagowania (np. zdolność pacjentów do prowadzenia pojazdów i obsługi maszyn). Dzieje się tak zwłaszcza na początku leczenia lub w przypadku zmiany leczenia.  4.8 Działania niepożądane  Podsumowanie profilu bezpieczeństwa Ogólna częstość działań niepożądanych wynosi około 8%. Najczęstsze działania niepożądane to bóle głowy, zmęczenie i zawroty głowy.  Tabelaryczny wykaz działań niepożądanych Działania niepożądane są wymienione poniżej według klasy układu narządów i częstości występowania. Częstości są zdefiniowane jako: często (≥1/100 do <1/10), niezbyt często (≥1/1 000 do <1/100), rzadko  (≥1/10 000 do <1/1 000), częstość nieznana (nie może być określona na podstawie dostępnych danych).  Klasyfikacja układów i narządów MedDRA Kategoria częstości Działanie niepożądane Zaburzenia krwi i układu chłonnego Rzadko Leukopenia, trombocytopenia Zaburzenia układu immunologicznego Nieznana Ciężkie reakcje skórne (np. zespół Stevensa-Johnsona, toksyczna rozpływna martwica naskórka) Zaburzenia metabolizmu i Niezbyt często Hiperglikemia, hipokaliemia,    "
      ]
     },
     "execution_count": 41,
     "metadata": {},
     "output_type": "execute_result"
    }
   ],
   "source": [
    "text_df.iloc[865:866 ,:]"
   ]
  },
  {
   "cell_type": "markdown",
   "metadata": {},
   "source": [
    "# utils_info_extract.py"
   ]
  },
  {
   "cell_type": "markdown",
   "metadata": {},
   "source": [
    "Testing functions extracting information from the loaded text corpus."
   ]
  },
  {
   "cell_type": "code",
   "execution_count": 42,
   "metadata": {},
   "outputs": [],
   "source": [
    "import fitz\n",
    "import re\n",
    "import spacy\n",
    "import os\n",
    "import pandas as pd\n",
    "\n",
    "def apply_replacements(df, column):\n",
    "    \"\"\"\n",
    "    Apply replacements to the specified column in the DataFrame.\n",
    "\n",
    "    Args:\n",
    "    - df (DataFrame): The DataFrame.\n",
    "    - column (str): The name of the column to apply replacements to.\n",
    "    - replacements (dict): A dictionary where keys are old values to be replaced\n",
    "      and values are new values.\n",
    "\n",
    "    Returns:\n",
    "    - df (DataFrame): The DataFrame with replacements applied to the specified column.\n",
    "    \"\"\"\n",
    "    replacements = {\n",
    "        \"NAZWA WŁASNA\": \"NAZWA\",\n",
    "        \"LECZNICZNEGO\": \"LECZNICZEGO \",\n",
    "        \"LECZNICZEGO\": \"LECZNICZEGO \",\n",
    "        \"PODUKTU\": \"PRODUKTU\",\n",
    "        \"PRODUKU\": \"PRODUKTU\",\n",
    "        \"PODUKTU\": \"PRODUKTU\",\n",
    "        \"1.NAZWA \": \"1. NAZWA \",\n",
    "        \"1.NAZWA \": \"1. NAZWA \",\n",
    "        \"1 nazwa\" :\"1. NAZWA \",\n",
    "        \"SKLAD\": \"SKŁAD\",\n",
    "        \"2. skład\" : \"2. SKŁAD \",\n",
    "        \"2.SKŁAD \": \"2. SKŁAD \",\n",
    "        \"2 SKŁAD\" :\"2. SKŁAD \",\n",
    "        \"2 skład\": \"2. SKŁAD \",\n",
    "        \"4.1 Wskazania\": \"4.1. Wskazania\",\n",
    "        \"4.1Wskazania\": \"4.1. Wskazania\",\n",
    "        \"4.1.Wskazania\": \"4.1. Wskazania\",\n",
    "        \"2.0\\\\4-\": \"\",\n",
    "        \"\\\\\":\"\",\n",
    "        \"/\":\"\",\n",
    "        \"jest wskazany\": \"wskazania\"        \n",
    "    }\n",
    "    for old_value, new_value in replacements.items():\n",
    "        df[column] = df[column].str.upper().str.replace(old_value, new_value).str.lower()\n",
    "    return df\n",
    "\n",
    "\n",
    "def extract_columns(df, column):\n",
    "    df = apply_replacements(df, column) \n",
    "    for index, row in df.iterrows():\n",
    "        #nazwa\n",
    "        start_index_nazwa = row[column].find(\"1\")\n",
    "        end_index_nazwa = row[column].find(\"2.\") if row[column].find(\"2.\") != -1 else row[column].find(\"2\")\n",
    "        nazwa = row[column][start_index_nazwa:end_index_nazwa].strip()\n",
    "        df.at[index, 'nazwa'] = nazwa    \n",
    "        #sklad\n",
    "        start_index_sklad = row[column].find(\"2.\") if row[column].find(\"2.\") != -1 else row[column].find(\"2 skład ilościowy i jakościowy \")\n",
    "        end_index_sklad = row[column].find(\"3.\") if row[column].find(\"3.\") != -1 else row[column].find(\"4.1\")\n",
    "        sklad = row[column][start_index_sklad:end_index_sklad].strip()\n",
    "        df.at[index, 'sklad'] = sklad\n",
    "        #wskazania\n",
    "        start_index_wskazania = row[column].find(\"4.1\") if row[column].find(\"4.1\") != -1 else row[column].find(\"wskazania\") \n",
    "        end_index_wskazania = row[column].find(\"4.2\")\n",
    "        wskazania = row[column][start_index_wskazania:end_index_wskazania].strip()\n",
    "        df.at[index, 'wskazania'] = wskazania\n",
    "        \n",
    "    return df[['filename', 'nazwa', 'sklad', 'wskazania']]\n"
   ]
  },
  {
   "cell_type": "code",
   "execution_count": 43,
   "metadata": {},
   "outputs": [],
   "source": [
    "text_extracted = extract_columns(text_df, 'CHPCL') "
   ]
  },
  {
   "cell_type": "code",
   "execution_count": 44,
   "metadata": {},
   "outputs": [
    {
     "data": {
      "text/html": [
       "<div>\n",
       "<style scoped>\n",
       "    .dataframe tbody tr th:only-of-type {\n",
       "        vertical-align: middle;\n",
       "    }\n",
       "\n",
       "    .dataframe tbody tr th {\n",
       "        vertical-align: top;\n",
       "    }\n",
       "\n",
       "    .dataframe thead th {\n",
       "        text-align: right;\n",
       "    }\n",
       "</style>\n",
       "<table border=\"1\" class=\"dataframe\">\n",
       "  <thead>\n",
       "    <tr style=\"text-align: right;\">\n",
       "      <th></th>\n",
       "      <th>filename</th>\n",
       "      <th>nazwa</th>\n",
       "      <th>sklad</th>\n",
       "      <th>wskazania</th>\n",
       "    </tr>\n",
       "  </thead>\n",
       "  <tbody>\n",
       "    <tr>\n",
       "      <th>0</th>\n",
       "      <td>Charakterystyka-10025-2021-12-22-8574_N-2022-01-05.pdf</td>\n",
       "      <td>1. nazwa produktu leczniczego    metazydyna, 20 mg, tabletki powlekane</td>\n",
       "      <td>2. skład jakościowy i ilościowy   1 tabletka zawiera 20 mg trimetazydyny dichlorowodorku (trimetazidini dihydrochloridum).  substancje pomocnicze o znanym działaniu: 0,05 mg czerwieni koszenilowej. pełny wykaz substancji pomocniczych, patrz: punkt 6.1.</td>\n",
       "      <td>4.1  wskazania do stosowania   trimetazydyna jest wskazana u dorosłych w terapii skojarzonej w objawowym leczeniu pacjentów ze stabilną dławicą piersiową, u których leczenie przeciwdławicowe pierwszego rzutu jest niewystarczające lub nie jest tolerowane.</td>\n",
       "    </tr>\n",
       "    <tr>\n",
       "      <th>1</th>\n",
       "      <td>Charakterystyka-10062-2023-01-11-11269_A-2023-01-22.pdf</td>\n",
       "      <td>1. nazwa produktu leczniczego   galpent, 100 mg, tabletki</td>\n",
       "      <td>2. skład jakościowy i ilościowy  jedna tabletka zawiera 100 mg pentaerytrytylu tetraazotanu (pentaerythrityli tetranitras) w postaci 33,3% rozcierki laktozowej. substancje pomocnicze o znanym działaniu: sacharoza 3,5 mg i laktoza jednowodna 214,7 mg. pełny wykaz substancji pomocniczych, patrz punkt 6.1.</td>\n",
       "      <td>4.1 wskazania do stosowania  stabilna choroba niedokrwienna serca.</td>\n",
       "    </tr>\n",
       "    <tr>\n",
       "      <th>2</th>\n",
       "      <td>Charakterystyka-10088-20200721000000-6861_N-20200916000402.pdf</td>\n",
       "      <td>1. nazwa produktu leczniczego   teveten, 600 mg, tabletki powlekane</td>\n",
       "      <td>2. skład jakościowy i ilościowy   każda tabletka powlekana zawiera 600 mg eprosartanu (eprosartanum) w postaci eprosartanu mezylanu.  substancja pomocnicza o znanym działaniu: każda tabletka powlekana zawiera 43,3 mg laktozy jednowodnej. pełny wykaz substancji pomocniczych, patrz punkt 6.1.</td>\n",
       "      <td>4.1 wskazania do stosowania  eprosartan jest wskazany w leczeniu nadciśnienia tętniczego pierwotnego.</td>\n",
       "    </tr>\n",
       "    <tr>\n",
       "      <th>3</th>\n",
       "      <td>Charakterystyka-10174-2023-04-12-13484_A-2023-04-29.pdf</td>\n",
       "      <td>1. nazwa produktu leczniczego   0,9% sodium chloride–braun, 9 mgml, roztwór do infuzji</td>\n",
       "      <td>2. skład jakościowy i ilościowy   1 ml roztworu zawiera  sodu chlorek  9,0 mg  stężenia elektrolitów: sód    154 mmoll chlorek   154 mmoll  pełny wykaz substancji pomocniczych, patrz punkt 6.1.</td>\n",
       "      <td>4.1. wskazania do stosowania  • uzupełnianie płynów i elektrolitów w alkalozie hipochloremicznej • niedobór chlorków • krótkoterminowe uzupełnianie objętości śródnaczyniowej • odwodnienie hipotoniczne lub izotoniczne • roztwór do rozpuszczania stężonych elektrolitów i leków nie wykazujących niezgodności farmaceutycznych • zewnętrznie do płukania ran oraz nawilżania opatrunków i tamponów na ranach</td>\n",
       "    </tr>\n",
       "    <tr>\n",
       "      <th>4</th>\n",
       "      <td>Charakterystyka-10252-2022-06-17-10632_A-2022-06-24.pdf</td>\n",
       "      <td>1. nazwa produktu leczniczego   cerutin, 100 mg + 25 mg, tabletki powlekane</td>\n",
       "      <td>2. skład jakościowy i ilościowy  jedna tabletka powlekana zawiera 100 mg kwasu askorbowego (acidum ascorbicum) i 25 mg rutozydu trójwodnego (rutosidum trihydricum).  substancja pomocnicza o znanym działaniu: laktoza jednowodna, 1,90 mg w tabletce pełny wykaz substancji pomocniczych, patrz punkt 6.1.</td>\n",
       "      <td>4.1 wskazania do stosowania  − w stanach niedoboru witaminy c i rutozydu – wspomaganie odporności,  − uszczelnienie naczyń włosowatych – zapobieganie przeziębieniom i łagodzenie objawów grypy.</td>\n",
       "    </tr>\n",
       "  </tbody>\n",
       "</table>\n",
       "</div>"
      ],
      "text/plain": [
       "                                                         filename  \\\n",
       "0          Charakterystyka-10025-2021-12-22-8574_N-2022-01-05.pdf   \n",
       "1         Charakterystyka-10062-2023-01-11-11269_A-2023-01-22.pdf   \n",
       "2  Charakterystyka-10088-20200721000000-6861_N-20200916000402.pdf   \n",
       "3         Charakterystyka-10174-2023-04-12-13484_A-2023-04-29.pdf   \n",
       "4         Charakterystyka-10252-2022-06-17-10632_A-2022-06-24.pdf   \n",
       "\n",
       "                                                                                    nazwa  \\\n",
       "0                  1. nazwa produktu leczniczego    metazydyna, 20 mg, tabletki powlekane   \n",
       "1                               1. nazwa produktu leczniczego   galpent, 100 mg, tabletki   \n",
       "2                     1. nazwa produktu leczniczego   teveten, 600 mg, tabletki powlekane   \n",
       "3  1. nazwa produktu leczniczego   0,9% sodium chloride–braun, 9 mgml, roztwór do infuzji   \n",
       "4             1. nazwa produktu leczniczego   cerutin, 100 mg + 25 mg, tabletki powlekane   \n",
       "\n",
       "                                                                                                                                                                                                                                                                                                              sklad  \\\n",
       "0                                                      2. skład jakościowy i ilościowy   1 tabletka zawiera 20 mg trimetazydyny dichlorowodorku (trimetazidini dihydrochloridum).  substancje pomocnicze o znanym działaniu: 0,05 mg czerwieni koszenilowej. pełny wykaz substancji pomocniczych, patrz: punkt 6.1.   \n",
       "1  2. skład jakościowy i ilościowy  jedna tabletka zawiera 100 mg pentaerytrytylu tetraazotanu (pentaerythrityli tetranitras) w postaci 33,3% rozcierki laktozowej. substancje pomocnicze o znanym działaniu: sacharoza 3,5 mg i laktoza jednowodna 214,7 mg. pełny wykaz substancji pomocniczych, patrz punkt 6.1.   \n",
       "2               2. skład jakościowy i ilościowy   każda tabletka powlekana zawiera 600 mg eprosartanu (eprosartanum) w postaci eprosartanu mezylanu.  substancja pomocnicza o znanym działaniu: każda tabletka powlekana zawiera 43,3 mg laktozy jednowodnej. pełny wykaz substancji pomocniczych, patrz punkt 6.1.   \n",
       "3                                                                                                                 2. skład jakościowy i ilościowy   1 ml roztworu zawiera  sodu chlorek  9,0 mg  stężenia elektrolitów: sód    154 mmoll chlorek   154 mmoll  pełny wykaz substancji pomocniczych, patrz punkt 6.1.   \n",
       "4      2. skład jakościowy i ilościowy  jedna tabletka powlekana zawiera 100 mg kwasu askorbowego (acidum ascorbicum) i 25 mg rutozydu trójwodnego (rutosidum trihydricum).  substancja pomocnicza o znanym działaniu: laktoza jednowodna, 1,90 mg w tabletce pełny wykaz substancji pomocniczych, patrz punkt 6.1.   \n",
       "\n",
       "                                                                                                                                                                                                                                                                                                                                                                                                         wskazania  \n",
       "0                                                                                                                                                   4.1  wskazania do stosowania   trimetazydyna jest wskazana u dorosłych w terapii skojarzonej w objawowym leczeniu pacjentów ze stabilną dławicą piersiową, u których leczenie przeciwdławicowe pierwszego rzutu jest niewystarczające lub nie jest tolerowane.  \n",
       "1                                                                                                                                                                                                                                                                                                                                               4.1 wskazania do stosowania  stabilna choroba niedokrwienna serca.  \n",
       "2                                                                                                                                                                                                                                                                                                            4.1 wskazania do stosowania  eprosartan jest wskazany w leczeniu nadciśnienia tętniczego pierwotnego.  \n",
       "3  4.1. wskazania do stosowania  • uzupełnianie płynów i elektrolitów w alkalozie hipochloremicznej • niedobór chlorków • krótkoterminowe uzupełnianie objętości śródnaczyniowej • odwodnienie hipotoniczne lub izotoniczne • roztwór do rozpuszczania stężonych elektrolitów i leków nie wykazujących niezgodności farmaceutycznych • zewnętrznie do płukania ran oraz nawilżania opatrunków i tamponów na ranach  \n",
       "4                                                                                                                                                                                                                 4.1 wskazania do stosowania  − w stanach niedoboru witaminy c i rutozydu – wspomaganie odporności,  − uszczelnienie naczyń włosowatych – zapobieganie przeziębieniom i łagodzenie objawów grypy.  "
      ]
     },
     "execution_count": 44,
     "metadata": {},
     "output_type": "execute_result"
    }
   ],
   "source": [
    "text_extracted.head()"
   ]
  },
  {
   "cell_type": "code",
   "execution_count": 45,
   "metadata": {},
   "outputs": [],
   "source": [
    "import spacy\n",
    "import re\n",
    "import pandas as pd\n",
    "from datetime import datetime\n",
    "import os\n",
    "\n",
    "nlp = spacy.load(\"pl_core_news_lg\")\n",
    "\n",
    "\n",
    "def clean_formatting(text):\n",
    "    \"\"\"\n",
    "    Clean and preprocess the input text by removing punctuation, converting to lowercase, \n",
    "    replacing multiple spaces with a single space, and removing digits.\n",
    "    \n",
    "    Args:\n",
    "    - text (str): The input text to be cleaned.\n",
    "    \n",
    "    Returns:\n",
    "    - str: The cleaned and preprocessed text.\n",
    "    \"\"\"\n",
    "    text = re.sub(r'[^\\w\\s]', '', text)  \n",
    "    text = text.replace('\\n', ' ').strip().lower()  \n",
    "    text = re.sub(r'\\s+', ' ', text)  \n",
    "    text = re.sub(r'\\d+', '', text)  \n",
    "    return text\n",
    "\n",
    "def remove_stop_words(tokens, specified_words_to_remove):\n",
    "    \"\"\"\n",
    "    Remove specified stop words from the input text.\n",
    "    \n",
    "    Args:\n",
    "    - text (str): The input text from which stop words will be removed.\n",
    "    - specified_words_to_remove (list): A list of stop words to be removed from the text.\n",
    "    \n",
    "    Returns:\n",
    "    - str: The input text with specified stop words removed.\n",
    "    \"\"\"\n",
    "    filtered_tokens = [token for token in tokens if token not in specified_words_to_remove]\n",
    "    return ' '.join(filtered_tokens)\n",
    "\n",
    "def remove_duplicated_words(text):\n",
    "    \"\"\"\n",
    "    Remove duplicate words from the input text while maintaining the original order.\n",
    "    \n",
    "    Args:\n",
    "    - text (str): The input text from which duplicate words will be removed.\n",
    "    \n",
    "    Returns:\n",
    "    - str: The input text with duplicate words removed.\n",
    "    \"\"\"\n",
    "    words = text.split()\n",
    "    unique_words = list(dict.fromkeys(words))  # Maintain order and remove duplicates\n",
    "    return ' '.join(unique_words)\n",
    "\n",
    "def tokenize_text(text):\n",
    "    \"\"\"\n",
    "    Tokenize the input text using spaCy.\n",
    "\n",
    "    Args:\n",
    "    - text (str): The input text to be tokenized.\n",
    "\n",
    "    Returns:\n",
    "    - list: A list of tokenized words.\n",
    "    \"\"\"\n",
    "    doc = nlp(text)\n",
    "    tokens = [token.text for token in doc]\n",
    "    return tokens\n",
    "\n",
    "def lemmatize_text(text):\n",
    "    \"\"\"\n",
    "    Lemmatize the input text using a specified spaCy language model.\n",
    "    \n",
    "    Args:\n",
    "    - text (str): The input text to be lemmatized.\n",
    "    \n",
    "    Returns:\n",
    "    - str: The lemmatized text.\n",
    "    \"\"\"\n",
    "    doc = nlp(text)  \n",
    "    lemmatized_text = \" \".join(token.lemma_ for token in doc if token.pos_ == \"NOUN\" )  \n",
    "    return lemmatized_text\n",
    "\n",
    "\n",
    "def process_text_columns(df):\n",
    "    \"\"\"\n",
    "    Preprocess text data in specified DataFrame columns.\n",
    "\n",
    "    Args:\n",
    "    - df (DataFrame): The input DataFrame containing text columns to be processed.\n",
    "\n",
    "    Returns:\n",
    "    - DataFrame: The DataFrame with processed text columns.\n",
    "\n",
    "    The function iterates over specified columns ('nazwa', 'sklad', 'wskazania') in the DataFrame and performs the following preprocessing steps:\n",
    "    - For the 'nazwa' column:\n",
    "        - Clean the text formatting.\n",
    "        - Remove specified stop words.\n",
    "        - Remove duplicated words.\n",
    "    - For the 'sklad' column:\n",
    "        - Clean the text formatting.\n",
    "        - Remove specified stop words.\n",
    "        - Lemmatize the text.\n",
    "        - Remove duplicated words.\n",
    "    - For the 'wskazania' column:\n",
    "        - Clean the text formatting.\n",
    "        - Remove specified stop words.\n",
    "        - Lemmatize the text.\n",
    "        - Remove duplicated words.\n",
    "\n",
    "    The stop words and text cleaning operations are customized for each column to ensure appropriate preprocessing based on the nature of the text data in each column.\n",
    "    \"\"\"\n",
    "    columns_to_process = ['nazwa', 'sklad', 'wskazania']\n",
    "    stop_words_nazwa = ['nazwa', 'produktu', 'leczniczego', 'mg', 'ithib', 'charakterystyka', 'roztwór', 'aerozol', 'tabletka', 'kapsułka', 'tabletki', 'inhalacyjny', 'lek', 'wstrzykiwań', 'powlekana',\\\n",
    "                'powlekany', 'powlekane', 'kapsułki', 'twarde', 'twarda', 'ampułkostrzykawce','ampułkostrzykawka', 'infuzji', 'żel', 'żucia', \"proszek\", 'sporządzania','mgg', 'koncentrat', \"mgml\", \"ml\", \"jm\", \\\n",
    "                 \"summary\", \"of\" , \"product\", \"characteristics\", \"rozpuszczalnik\", \"roztworu\", \"dojelitowe\", \"przedłużonym\", \"uwalnianiu\", \"krople\", \"nos\", \"nosa\", \"dawka\", \"dawkę\", \\\n",
    "                    \"zawiesina\", \"zawiesinę\", \"mikrogramy\", \"donosową\", \"maść\"]\n",
    "    stop_words_sklad = ['skład', 'jakościowy', 'ilościowy',  \"pełny\", \"wykaz\",  \"substancji\", \"twarda\", \"twarda\", \"powlekana\",\\\n",
    "                        \"pomocniczych\", \"patrz\", \"punkt\", \"substancje\",\"substancja\", \"pomocnicze\",\" pomocnicza\", \"mg\", \"znanym\", \"każdy\", \"każda\", \\\n",
    "                        \"chlorowodorek\", \"chlorowodorku\", \"laktoza jednowodna\", \"substancja\", \"pomocnicza\" , \"kapsułka\", \"kapsułki\",\\\n",
    "                        \"tabletka\", \"tabletce\" \"powlekana\", \"tabletki\", \"powlekane\", \"sodowy\", \"sodowego\", \"otoczka\", \"otoczką\", \\\n",
    "                        \"laktozy\", \"laktoza\", \"jednowodna\", \"jednowodnej\", \"laktoza\", \"jednowodna\", \"czerwień\", \"koszelinowa\", \"czerwieni\", \"koszenilowej\", \"fiolka\", \"fiolki\", \\\n",
    "                        \"woda\", \"wody\", \"postaci\", \"sacharoza\", \"patrz\", \"punkt\",\"stężenia\", \"elektrolitów\",\\\n",
    "                        \"znanym\" ,\"działaniu\", \"zawiera\", \"działanie\", \"działaniu\", \"oraz\", \"lub\", \"gram\", \"około\", \"mililitr\", \"zawiesina\",\"zawiesiny\", \\\n",
    "                        \"mmoll\", \"roztwór\", \"roztworu\",  \"wyciąg\", \"zawiera\", \"pełny\", \"wykaz substancji pomocniczych\", \"do wstrzykiwań\", \"suchego standaryzowanego\", \"co najmniej\", \\\n",
    "                            \"dla produktu\",\\\n",
    "                        \"w ilości odpowiadającej\", \"szybko uwalnianej\", \"wolno uwalnianej\", \"ampułko-strzykawka\", \"rozgryzania\", \"żucia\" , \"dawka\", \"dawce\", \"dawkach\"\\\n",
    "                        \"odmierzona\", \"mikrogramów\", \"ustnik\", \"zawiesiny\", \"sorbitol\",\"mgml\", \"aspartam\", \"zmikronizowanej\", \"przeliczeniu\", \\\n",
    "                        \"alkohol cetostearylowy\", \"kwas sorbowy\", \"ampułka\", \"j.m.\", \"ml\", \"aktywności\", \"wody\", \"otrzymywaną\", \"wyniku\", \"tabletka dojelitowa\", \"elastyczna\", \\\n",
    "                        \"lecytyna sojowa\", \"sorbitol\", \"sorbitolu\",\\\n",
    "                        \"postać farmaceutyczna\", \"wymiary\", \"żelatynowej\", \"meql\", \"infuzji\", \"przypadku\", \"zasobnik\", \"zasobnika\", \"ilość\", \"inhalator\", \"inhalatora\"]\n",
    "    stop_words_wskazania = [ \"wskazania\", \"wskazany\" ,  \"stosowania\",\"stosowanie\", \"zapobieganie\",  \"wskazanie\",\"wskazanym\", \"wskazane\", \"wskazana\", \"wskazanego\", \"wskazanej\", \"wskazanym\", \"wskazanych\", \\\n",
    "                            \"wskazanymi\", \"wskazanemu\", \"wskazaną\", \"wskazani\", \"leczniczy\", \"leczenie\", \"leczeniu\",\"leczenia\", \" oraz \", \" kiedy \", \\\n",
    "                             \" który \", \" która \", \" które \", \" których \",  \"pacjent\", \"patrz\", \"punkty\", \"osób\", \"produkt\", \"substancja\", \"pomocniczy\", \"pomocnicza\" , \\\n",
    "                            \"metody\", \"celu\", \"mieszaną\", \"obejmującego\", \"stosowanie\", \"pacjent\", \"pacjentom\", \"pacjentowi\", \"pacjenta\", \"w celu\", \"jest\", \"są\", \"jako\", \\\n",
    "                            \"terapia\", \"dodatkowy\", \"dodatkowa\", \"dodatkowe\", \"standardowe\", \\\n",
    "                            \"wstrzykiwań\", \"suchego standaryzowanego\", \"co najmniej\", \"dla produktu\",\\\n",
    "                        \"w ilości odpowiadającej\", \"szybko uwalnianej\", \"wolno uwalnianej\", \"ampułko-strzykawka\", \"rozgryzania\", \"żucia\" , \"dawka\", \"dawce\", \"dawkach\"\\\n",
    "                        \"odmierzona\", \"mikrogramów\", \"ustnik\", \"zawiesiny\", \"sorbitol\",\"glikol propylenowy\",\"mgml\", \"benzoesan sodu\", \"aspartam\", \"zmikronizowanej\", \"w przeliczeniu\",\n",
    "                        \"alkohol cetostearylowy\", \"kwas sorbowy\", \"ampułka\", \"j.m.\", \"ml\", \"aktywności\", \"wody\", \"otrzymywaną\", \"wyniku\", \"tabletka dojelitowa\", \"elastyczna\", \"lecytyna sojowa\", \\\n",
    "                        \"postać farmaceutyczna\", \"wymiary\", \"żelatynowej\", \"meql\", \"infuzji\", \"postaci\", \"przypadku\", \"zasobnik\", \"zasobnika\", \"ilość\", \"inhalator\", \"inhalatora\"]\n",
    "    \n",
    "    for column in columns_to_process:\n",
    "        if column == 'nazwa':\n",
    "            df.loc[:, column] = df[column].apply(clean_formatting)\n",
    "            df.loc[:, column] = df[column].apply(tokenize_text)\n",
    "            df.loc[:, column] = df[column].apply(remove_stop_words, specified_words_to_remove=stop_words_nazwa)\n",
    "           \n",
    "            df.loc[:, column] = df[column].apply(remove_duplicated_words)\n",
    "\n",
    "\n",
    "        elif column == 'sklad':\n",
    "            df.loc[:, column] = df[column].apply(clean_formatting)\n",
    "            df.loc[:, column] = df[column].apply(tokenize_text)\n",
    "            df.loc[:, column] = df[column].apply(remove_stop_words, specified_words_to_remove=stop_words_sklad)\n",
    "            df.loc[:, column] = df[column].apply(lemmatize_text)\n",
    "            df.loc[:, column] = df[column].apply(remove_duplicated_words)\n",
    "            \n",
    "        \n",
    "        elif column == 'wskazania':\n",
    "            df.loc[:, column] = df[column].apply(clean_formatting)\n",
    "            df.loc[:, column] = df[column].apply(tokenize_text)\n",
    "            df.loc[:, column] = df[column].apply(remove_stop_words, specified_words_to_remove=stop_words_wskazania)\n",
    "            df.loc[:, column] = df[column].apply(lemmatize_text)\n",
    "            df.loc[:, column] = df[column].apply(remove_duplicated_words)"
   ]
  },
  {
   "cell_type": "code",
   "execution_count": 47,
   "metadata": {},
   "outputs": [],
   "source": [
    "text_cleaned= process_text_columns(text_extracted)"
   ]
  },
  {
   "cell_type": "markdown",
   "metadata": {},
   "source": [
    "Sample check specific row:"
   ]
  },
  {
   "cell_type": "code",
   "execution_count": 48,
   "metadata": {},
   "outputs": [
    {
     "data": {
      "text/html": [
       "<div>\n",
       "<style scoped>\n",
       "    .dataframe tbody tr th:only-of-type {\n",
       "        vertical-align: middle;\n",
       "    }\n",
       "\n",
       "    .dataframe tbody tr th {\n",
       "        vertical-align: top;\n",
       "    }\n",
       "\n",
       "    .dataframe thead th {\n",
       "        text-align: right;\n",
       "    }\n",
       "</style>\n",
       "<table border=\"1\" class=\"dataframe\">\n",
       "  <thead>\n",
       "    <tr style=\"text-align: right;\">\n",
       "      <th></th>\n",
       "      <th>filename</th>\n",
       "      <th>nazwa</th>\n",
       "      <th>sklad</th>\n",
       "      <th>wskazania</th>\n",
       "    </tr>\n",
       "  </thead>\n",
       "  <tbody>\n",
       "    <tr>\n",
       "      <th>865</th>\n",
       "      <td>Charakterystyka-47283-2023-10-31-15084_D-2023-11-10.pdf</td>\n",
       "      <td>ebozan</td>\n",
       "      <td>ebozan torasemidu</td>\n",
       "      <td>pochodzenie tabletka nadciśnienie młodzież wiek rok</td>\n",
       "    </tr>\n",
       "  </tbody>\n",
       "</table>\n",
       "</div>"
      ],
      "text/plain": [
       "                                                    filename   nazwa  \\\n",
       "865  Charakterystyka-47283-2023-10-31-15084_D-2023-11-10.pdf  ebozan   \n",
       "\n",
       "                 sklad                                            wskazania  \n",
       "865  ebozan torasemidu  pochodzenie tabletka nadciśnienie młodzież wiek rok  "
      ]
     },
     "execution_count": 48,
     "metadata": {},
     "output_type": "execute_result"
    }
   ],
   "source": [
    "text_extracted.iloc[865:866,:]"
   ]
  },
  {
   "cell_type": "markdown",
   "metadata": {},
   "source": [
    "Manual search for some files:\n",
    "- test \n",
    "- note: 128 rows with high blood pressure (nadcisnienie)"
   ]
  },
  {
   "cell_type": "code",
   "execution_count": 51,
   "metadata": {},
   "outputs": [
    {
     "data": {
      "text/html": [
       "<div>\n",
       "<style scoped>\n",
       "    .dataframe tbody tr th:only-of-type {\n",
       "        vertical-align: middle;\n",
       "    }\n",
       "\n",
       "    .dataframe tbody tr th {\n",
       "        vertical-align: top;\n",
       "    }\n",
       "\n",
       "    .dataframe thead th {\n",
       "        text-align: right;\n",
       "    }\n",
       "</style>\n",
       "<table border=\"1\" class=\"dataframe\">\n",
       "  <thead>\n",
       "    <tr style=\"text-align: right;\">\n",
       "      <th></th>\n",
       "      <th>filename</th>\n",
       "      <th>nazwa</th>\n",
       "      <th>sklad</th>\n",
       "      <th>wskazania</th>\n",
       "    </tr>\n",
       "  </thead>\n",
       "  <tbody>\n",
       "    <tr>\n",
       "      <th>431</th>\n",
       "      <td>Charakterystyka-33025-2023-11-09-15802_A-2023-11-14.pdf</td>\n",
       "      <td>combogesic</td>\n",
       "      <td>paracetamol</td>\n",
       "      <td>ból głowa plecy zębów mięśni objaw przeziębieć grypa gardło gorączka</td>\n",
       "    </tr>\n",
       "    <tr>\n",
       "      <th>602</th>\n",
       "      <td>Charakterystyka-38481-20190517000000-6797_B-20190616000045.pdf</td>\n",
       "      <td>enplerasa</td>\n",
       "      <td>eplerenon</td>\n",
       "      <td>eplerenon betaadrenolityka ryzyko umieralność zachorowalność przyczyna stan zaburzenie czynność komora serce ventricular ejection objaw niewydolność zawał klasa nyha punkt</td>\n",
       "    </tr>\n",
       "  </tbody>\n",
       "</table>\n",
       "</div>"
      ],
      "text/plain": [
       "                                                           filename  \\\n",
       "431         Charakterystyka-33025-2023-11-09-15802_A-2023-11-14.pdf   \n",
       "602  Charakterystyka-38481-20190517000000-6797_B-20190616000045.pdf   \n",
       "\n",
       "          nazwa        sklad  \\\n",
       "431  combogesic  paracetamol   \n",
       "602   enplerasa    eplerenon   \n",
       "\n",
       "                                                                                                                                                                       wskazania  \n",
       "431                                                                                                         ból głowa plecy zębów mięśni objaw przeziębieć grypa gardło gorączka  \n",
       "602  eplerenon betaadrenolityka ryzyko umieralność zachorowalność przyczyna stan zaburzenie czynność komora serce ventricular ejection objaw niewydolność zawał klasa nyha punkt  "
      ]
     },
     "execution_count": 51,
     "metadata": {},
     "output_type": "execute_result"
    }
   ],
   "source": [
    "#searched_file = 'Charakterystyka-36343-20170830000000-3286_A-20170921000413.pdf'\n",
    "searched_file = ['Charakterystyka-38481-20190517000000-6797_B-20190616000045.pdf', 'Charakterystyka-33025-2023-11-09-15802_A-2023-11-14.pdf']\n",
    "kolumna = 'filename'\n",
    "#filtered_df = text_extracted[text_extracted[kolumna].str.contains(wyszukiwanie)]\n",
    "filtered_df = text_extracted[text_extracted[kolumna].str.contains('|'.join(searched_file))]\n",
    "filtered_df\n"
   ]
  },
  {
   "cell_type": "code",
   "execution_count": 53,
   "metadata": {},
   "outputs": [
    {
     "name": "stdout",
     "output_type": "stream",
     "text": [
      "Found 2 for searched term: ['Charakterystyka-38481-20190517000000-6797_B-20190616000045.pdf', 'Charakterystyka-33025-2023-11-09-15802_A-2023-11-14.pdf'].\n"
     ]
    }
   ],
   "source": [
    "print(f\"Found {filtered_df.shape[0]} for searched term in : {searched_file}.\")"
   ]
  },
  {
   "cell_type": "markdown",
   "metadata": {},
   "source": [
    "# utils_data_cleaning.py - changes"
   ]
  },
  {
   "cell_type": "markdown",
   "metadata": {},
   "source": [
    "testing the functions"
   ]
  },
  {
   "cell_type": "code",
   "execution_count": 54,
   "metadata": {},
   "outputs": [],
   "source": [
    "import spacy\n",
    "import re\n",
    "import pandas as pd\n",
    "from datetime import datetime\n",
    "\n",
    "nlp = spacy.load(\"pl_core_news_lg\")\n",
    "\n",
    "\n",
    "def clean_formatting(text):\n",
    "    text = re.sub(r'[^\\w\\s]', '', text)  # Remove punctuation\n",
    "    text = text.replace('\\n', ' ').strip().lower()  # Normalize text (convert to lowercase)\n",
    "    text = re.sub(r'\\s+', ' ', text)  # Replace multiple spaces with a single space\n",
    "    text = re.sub(r'\\d+', '', text)  # Remove digits\n",
    "    return text\n",
    "\n",
    "def remove_stop_words(text, specified_words_to_remove):\n",
    "    words = text.split()\n",
    "    filtered_words = [word for word in words if word not in specified_words_to_remove]\n",
    "    return ' '.join(filtered_words)\n",
    "\n",
    "def remove_duplicated_words(text):\n",
    "    words = text.split()\n",
    "    unique_words = list(dict.fromkeys(words))  # Maintain order and remove duplicates\n",
    "    return ' '.join(unique_words)\n",
    "\n",
    "\n",
    "def lemmatize_text(text):\n",
    "    doc = nlp(text)  \n",
    "    lemmatized_text = \" \".join(token.lemma_ for token in doc if token.pos_ == \"NOUN\" or token.pos_ == \"PROPN\")  \n",
    "    return lemmatized_text\n",
    "\n",
    "def process_text_columns(df):\n",
    "    columns_to_process = ['nazwa', 'sklad', 'wskazania']\n",
    "    stop_words_nazwa = ['nazwa', 'produktu', 'leczniczego', 'mg']\n",
    "    stop_words_sklad = ['skład', 'jakościowy', 'ilościowy',  \"pełny\", \"wykaz\",  \"substancji\", \\\n",
    "                         \"pomocniczych\", \"patrz\", \"punkt\", \"substancje\", \"pomocnicze\", \"mg\", \"znanym\", \"każdy\", \"każda\"]\n",
    "    stop_words_wskazania = [ \"wskazania\", \" do \", \"stosowania\", \"zapobieganie\", \"stosowania\", \"wskazany\", \"wskazanie\",\\\n",
    "                            \"leczniczy\", \"leczenie\", \"leczeniu\", \" i \", \"i \", \" e \" \" o \", \" u \", \" z \", \" przy \", \" od \", \" do \", \" na \", \" w \", \" oraz \", \" kiedy \", \" który \", \" która \", \" które \", \" których \",  \"pacjent\", \"patrz\", \"punkty\", \"osób\", \"produkt\", \"substancja\", \"pomocniczy\", \"pomocnicza\" , \\\n",
    "                                \"metody\", \"celu\", \"mieszaną\"]\n",
    "    \n",
    "    for column in columns_to_process:\n",
    "        if column == 'nazwa':\n",
    "            df.loc[:, column] = df[column].apply(clean_formatting)\n",
    "            df.loc[:, column] = df[column].apply(remove_stop_words, specified_words_to_remove=stop_words_nazwa)\n",
    "        #    df.loc[:, column] = df[column].apply(lemmatize_text)\n",
    "            df.loc[:, column] = df[column].apply(remove_duplicated_words)\n",
    "\n",
    "\n",
    "        elif column == 'sklad':\n",
    "            df.loc[:, column] = df[column].apply(clean_formatting)\n",
    "            df.loc[:, column] = df[column].apply(remove_stop_words, specified_words_to_remove=stop_words_sklad)\n",
    "            df.loc[:, column] = df[column].apply(lemmatize_text)\n",
    "            df.loc[:, column] = df[column].apply(remove_duplicated_words)\n",
    "            \n",
    "        \n",
    "        elif column == 'wskazania':\n",
    "            df.loc[:, column] = df[column].apply(clean_formatting)\n",
    "            df.loc[:, column] = df[column].apply(remove_stop_words, specified_words_to_remove=stop_words_wskazania)\n",
    "            df.loc[:, column] = df[column].apply(lemmatize_text)\n",
    "            df.loc[:, column] = df[column].apply(remove_duplicated_words)\n",
    "    \n",
    "    return df\n"
   ]
  },
  {
   "cell_type": "code",
   "execution_count": 55,
   "metadata": {},
   "outputs": [],
   "source": [
    "text_cleaned= process_text_columns(text_extracted)"
   ]
  },
  {
   "cell_type": "code",
   "execution_count": 56,
   "metadata": {},
   "outputs": [
    {
     "data": {
      "text/plain": [
       "pandas.core.frame.DataFrame"
      ]
     },
     "execution_count": 56,
     "metadata": {},
     "output_type": "execute_result"
    }
   ],
   "source": [
    "type(text_cleaned)"
   ]
  },
  {
   "cell_type": "code",
   "execution_count": 57,
   "metadata": {},
   "outputs": [
    {
     "data": {
      "text/html": [
       "<div>\n",
       "<style scoped>\n",
       "    .dataframe tbody tr th:only-of-type {\n",
       "        vertical-align: middle;\n",
       "    }\n",
       "\n",
       "    .dataframe tbody tr th {\n",
       "        vertical-align: top;\n",
       "    }\n",
       "\n",
       "    .dataframe thead th {\n",
       "        text-align: right;\n",
       "    }\n",
       "</style>\n",
       "<table border=\"1\" class=\"dataframe\">\n",
       "  <thead>\n",
       "    <tr style=\"text-align: right;\">\n",
       "      <th></th>\n",
       "      <th>filename</th>\n",
       "      <th>nazwa</th>\n",
       "      <th>sklad</th>\n",
       "      <th>wskazania</th>\n",
       "    </tr>\n",
       "  </thead>\n",
       "  <tbody>\n",
       "    <tr>\n",
       "      <th>695</th>\n",
       "      <td>Charakterystyka-42003-2023-11-17-16860_B-2024-02-21.pdf</td>\n",
       "      <td>mantreda</td>\n",
       "      <td>rywaroksaban</td>\n",
       "      <td>profilaktyka choroba staw zatorowość punkt</td>\n",
       "    </tr>\n",
       "  </tbody>\n",
       "</table>\n",
       "</div>"
      ],
      "text/plain": [
       "                                                    filename     nazwa  \\\n",
       "695  Charakterystyka-42003-2023-11-17-16860_B-2024-02-21.pdf  mantreda   \n",
       "\n",
       "            sklad                                   wskazania  \n",
       "695  rywaroksaban  profilaktyka choroba staw zatorowość punkt  "
      ]
     },
     "execution_count": 57,
     "metadata": {},
     "output_type": "execute_result"
    }
   ],
   "source": [
    "text_cleaned.iloc[695:696,:]"
   ]
  },
  {
   "cell_type": "code",
   "execution_count": 58,
   "metadata": {},
   "outputs": [
    {
     "data": {
      "text/html": [
       "<div>\n",
       "<style scoped>\n",
       "    .dataframe tbody tr th:only-of-type {\n",
       "        vertical-align: middle;\n",
       "    }\n",
       "\n",
       "    .dataframe tbody tr th {\n",
       "        vertical-align: top;\n",
       "    }\n",
       "\n",
       "    .dataframe thead th {\n",
       "        text-align: right;\n",
       "    }\n",
       "</style>\n",
       "<table border=\"1\" class=\"dataframe\">\n",
       "  <thead>\n",
       "    <tr style=\"text-align: right;\">\n",
       "      <th></th>\n",
       "      <th>filename</th>\n",
       "      <th>nazwa</th>\n",
       "      <th>sklad</th>\n",
       "      <th>wskazania</th>\n",
       "    </tr>\n",
       "  </thead>\n",
       "  <tbody>\n",
       "    <tr>\n",
       "      <th>431</th>\n",
       "      <td>Charakterystyka-33025-2023-11-09-15802_A-2023-11-14.pdf</td>\n",
       "      <td>combogesic</td>\n",
       "      <td>paracetamol</td>\n",
       "      <td>ból głowa plecy ząb mięśni objaw przeziębieć grypa gardło gorączka</td>\n",
       "    </tr>\n",
       "    <tr>\n",
       "      <th>602</th>\n",
       "      <td>Charakterystyka-38481-20190517000000-6797_B-20190616000045.pdf</td>\n",
       "      <td>enplerasa</td>\n",
       "      <td>eplerenon</td>\n",
       "      <td>eplerenon betaadrenolityk ryzyko umieralność zachorowalność przyczyna stan zaburzenie czynność komora serce ventricular ejection objaw niewydolność zawał klasa nyha punkt</td>\n",
       "    </tr>\n",
       "  </tbody>\n",
       "</table>\n",
       "</div>"
      ],
      "text/plain": [
       "                                                           filename  \\\n",
       "431         Charakterystyka-33025-2023-11-09-15802_A-2023-11-14.pdf   \n",
       "602  Charakterystyka-38481-20190517000000-6797_B-20190616000045.pdf   \n",
       "\n",
       "          nazwa        sklad  \\\n",
       "431  combogesic  paracetamol   \n",
       "602   enplerasa    eplerenon   \n",
       "\n",
       "                                                                                                                                                                      wskazania  \n",
       "431                                                                                                          ból głowa plecy ząb mięśni objaw przeziębieć grypa gardło gorączka  \n",
       "602  eplerenon betaadrenolityk ryzyko umieralność zachorowalność przyczyna stan zaburzenie czynność komora serce ventricular ejection objaw niewydolność zawał klasa nyha punkt  "
      ]
     },
     "execution_count": 58,
     "metadata": {},
     "output_type": "execute_result"
    }
   ],
   "source": [
    "#testing search after column split - 128 rows with high blood pressure -  nadcisnienie\n",
    "\n",
    "#wyszukiwanie = 'Charakterystyka-36343-20170830000000-3286_A-20170921000413.pdf'\n",
    "wyszukiwanie = ['Charakterystyka-38481-20190517000000-6797_B-20190616000045.pdf', 'Charakterystyka-33025-2023-11-09-15802_A-2023-11-14.pdf']\n",
    "kolumna = 'filename'\n",
    "#filtered_df = text_extracted[text_extracted[kolumna].str.contains(wyszukiwanie)]\n",
    "filtered_clean = text_cleaned[text_cleaned[kolumna].str.contains('|'.join(wyszukiwanie))]\n",
    "filtered_clean\n"
   ]
  },
  {
   "cell_type": "code",
   "execution_count": 59,
   "metadata": {},
   "outputs": [],
   "source": [
    "def convert_to_dict(df):\n",
    "    list_of_docs = []  \n",
    "    for index, row in df.iterrows():\n",
    "        doc = {\n",
    "            \"title\": row[\"nazwa\"],  \n",
    "            \"text\": row[\"sklad\"] + \" \" + row[\"wskazania\"],  \n",
    "            \"filename\": row[\"filename\"],  \n",
    "            \"timestamp\": datetime.now()  \n",
    "        }\n",
    "        list_of_docs.append(doc)\n",
    "    return list_of_docs"
   ]
  },
  {
   "cell_type": "code",
   "execution_count": 60,
   "metadata": {},
   "outputs": [],
   "source": [
    "list_of_docs = convert_to_dict(text_cleaned)"
   ]
  },
  {
   "cell_type": "markdown",
   "metadata": {},
   "source": [
    "# utils_search_engine.py"
   ]
  },
  {
   "cell_type": "markdown",
   "metadata": {},
   "source": [
    "Testing search engine --QUERY (first one)"
   ]
  },
  {
   "cell_type": "code",
   "execution_count": 61,
   "metadata": {},
   "outputs": [],
   "source": [
    "from sklearn.feature_extraction.text import TfidfVectorizer\n",
    "from sklearn.metrics.pairwise import cosine_similarity\n",
    "\n",
    "def prepare_tfidf_representation(documents):\n",
    "    corpus = [doc['text'] for doc in documents]\n",
    "    vectorizer = TfidfVectorizer()\n",
    "    tfidf_matrix = vectorizer.fit_transform(corpus)\n",
    "    return vectorizer, tfidf_matrix"
   ]
  },
  {
   "cell_type": "code",
   "execution_count": 62,
   "metadata": {},
   "outputs": [],
   "source": [
    "# BRANCH 11\n",
    "def search_product_by_indication(wskazania_pattern, products, vectorizer, tfidf_matrix):\n",
    "    if not products:\n",
    "        return []\n",
    "    lemmatized_wskazania = lemmatize_text(wskazania_pattern)\n",
    "    query_tfidf = vectorizer.transform([lemmatized_wskazania])\n",
    "    cosine_similarities = cosine_similarity(query_tfidf, tfidf_matrix)\n",
    "    scores = list(enumerate(cosine_similarities[0]))\n",
    "    rounded_scores = [(index, round(score, 3)) for index, score in scores]\n",
    "    sorted_rounded_scores = sorted(rounded_scores, key=lambda x: x[1], reverse=True)\n",
    "    matching_products = [{'product_name': products[idx]['title'], 'filename': products[idx]['filename'], 'score': score} for idx, score in sorted_rounded_scores]\n",
    "    return matching_products\n"
   ]
  },
  {
   "cell_type": "code",
   "execution_count": 63,
   "metadata": {},
   "outputs": [],
   "source": [
    "tfidf_vectorizer, tfidf_matrix = prepare_tfidf_representation(list_of_docs)"
   ]
  },
  {
   "cell_type": "code",
   "execution_count": 64,
   "metadata": {},
   "outputs": [],
   "source": [
    "q_input = 'cukrzyca'"
   ]
  },
  {
   "cell_type": "code",
   "execution_count": 65,
   "metadata": {},
   "outputs": [
    {
     "name": "stdout",
     "output_type": "stream",
     "text": [
      "Charakterystyka-43642-2022-09-23-12032_B-2022-10-05.pdf,\"Telmisartan aurovitas\",0.305\n",
      "Charakterystyka-43643-2022-09-23-12032_B-2022-10-05.pdf,\"Telmisartan aurovitas\",0.305\n",
      "Charakterystyka-38066-20210108000000-9169_B-20210123000830.pdf,\"Telmisartan orion\",0.281\n",
      "Charakterystyka-46194-2023-06-26-12511_D-2023-07-14.pdf,\"Lisinopril grindeks\",0.267\n",
      "Charakterystyka-45664-2023-06-19-14384_B-2023-07-18.pdf,\"Dabigatran etexilate pharma\",0.258\n",
      "Charakterystyka-44797-2022-06-30-11620_B-2022-07-08.pdf,\"Telmisartan medical valley\",0.256\n",
      "Charakterystyka-44155-2023-11-15-14691_D-2023-12-10.pdf,\"Gribero\",0.255\n",
      "Charakterystyka-46619-2023-12-20-15605_D-2024-01-08.pdf,\"Danengo\",0.255\n",
      "Charakterystyka-44292-2024-02-19-15518_D-2024-03-10.pdf,\"Dabigatran etexilate orion\",0.248\n",
      "Charakterystyka-41664-2022-01-27-1748_D-2022-02-21.pdf,\"Lisinopril aurovitas\",0.244\n",
      "Charakterystyka-43822-2023-08-04-15331_B-2023-10-10.pdf,\"Ib wasedoc\",0.244\n",
      "Charakterystyka-45217-2023-02-02-2040_D-2023-03-22.pdf,\"Mirexan\",0.244\n",
      "Charakterystyka-45663-2023-06-19-14384_B-2023-07-18.pdf,\"Dabigatran etexilate pharma\",0.244\n",
      "Charakterystyka-43956-2024-02-02-15399_D-2024-03-10.pdf,\"Tuxanuva\",0.235\n",
      "Charakterystyka-45077-2023-06-15-14098_B-2023-06-22.pdf,\"Zali\",0.231\n",
      "Charakterystyka-8069-20200930000000-8568_A-20201014000922.pdf,\"Venoruton forte\",0.214\n",
      "Charakterystyka-44537-2023-05-11-13783_B-2023-05-23.pdf,\"Acebis\",0.208\n",
      "Charakterystyka-44549-2023-11-15-16050_B-2023-12-05.pdf,\"Ramiprilbisoprolol fumarate sandoz\",0.198\n",
      "Charakterystyka-44555-2023-07-03-14398_B-2023-07-19.pdf,\"Ramipril bisoprolol fumarate aristo\",0.184\n",
      "Charakterystyka-44543-2023-11-15-16049_B-2023-12-05.pdf,\"Piramil biso\",0.177\n",
      "Charakterystyka-29912-20180105000000-4460_B-20180907000303.pdf,\"Awerpil\",0.091\n"
     ]
    }
   ],
   "source": [
    "def capitalize_first_letter(text):\n",
    "    \"\"\"\n",
    "    Capitalize the first letter of the text.\n",
    "    If the text is empty, return it as is.\n",
    "    \"\"\"\n",
    "    if text:\n",
    "        return text[0].upper() + text[1:]\n",
    "    else:\n",
    "        return text\n",
    "\n",
    "wskazania_pattern = (q_input) \n",
    "matching_products = search_product_by_indication(wskazania_pattern, list_of_docs, tfidf_vectorizer, tfidf_matrix)\n",
    "threashold = 0.0\n",
    "filtered_products = [product for product in matching_products if product['score'] > threashold]\n",
    "for product in filtered_products:\n",
    "    \n",
    "    product_name_capitalized = capitalize_first_letter(product[\"product_name\"])\n",
    "    print(f'{product[\"filename\"]},\"{product_name_capitalized}\",{product[\"score\"]:.3f}')"
   ]
  },
  {
   "cell_type": "code",
   "execution_count": 29,
   "metadata": {},
   "outputs": [
    {
     "name": "stdout",
     "output_type": "stream",
     "text": [
      "Number of outputs found: 26\n"
     ]
    }
   ],
   "source": [
    "print(f\"Number of outputs found: {len(filtered_products)}\")"
   ]
  },
  {
   "cell_type": "markdown",
   "metadata": {},
   "source": [
    "## utils_search_similar.py"
   ]
  },
  {
   "cell_type": "markdown",
   "metadata": {},
   "source": [
    "1. user provides name of the file or path to it\n",
    "2. file is read by function read_documents\n",
    "3. file is split for columns and cleaned\n",
    "4. file i lematized\n",
    "5. file is compared with the other indications from list_docs as for ingredients and indication, NOT name\n",
    "6. product list output is formattes in the same way as the query."
   ]
  },
  {
   "cell_type": "code",
   "execution_count": 66,
   "metadata": {},
   "outputs": [],
   "source": [
    "new_folder_path = \"/Users/LILI/Projects_studia/_PORTFOLIO/REMOTE/nlp-group2/docs/search_data\"\n",
    "new_file = load_to_pd(new_folder_path)\n",
    "new_file_extracted = extract_columns(new_file, 'CHPCL') \n",
    "new_file_cleaned = process_text_columns(new_file_extracted)\n",
    "\n",
    "def convert_to_dict_new_file(df):\n",
    "    list_of_docs = []  \n",
    "    for index, row in df.iterrows():\n",
    "        doc = {\n",
    "            \"filename\": row[\"filename\"], \n",
    "            \"nazwa\": row[\"nazwa\"],  \n",
    "            \"sklad\": row[\"sklad\"],\n",
    "            \"wskazania\":  row[\"wskazania\"]\n",
    "        }\n",
    "        list_of_docs.append(doc)\n",
    "    return list_of_docs\n",
    "new_file_list_of_docs = convert_to_dict_new_file(new_file_extracted)\n",
    "new_file_sklad = [doc['sklad'] for doc in new_file_list_of_docs]\n",
    "new_file_wskazania = [doc['wskazania'] for doc in new_file_list_of_docs]"
   ]
  },
  {
   "cell_type": "code",
   "execution_count": 67,
   "metadata": {},
   "outputs": [],
   "source": [
    "text_df = load_to_pd(input_path)\n",
    "text_extracted = extract_columns(text_df, 'CHPCL') \n",
    "text_cleaned= process_text_columns(text_extracted)\n",
    "text_dict= convert_to_dict_new_file(text_cleaned)\n",
    "text_dict_sklad = [doc['sklad'] for doc in text_dict]\n",
    "text_dict_wskazania = [doc['wskazania'] for doc in text_dict]"
   ]
  },
  {
   "cell_type": "code",
   "execution_count": 68,
   "metadata": {},
   "outputs": [
    {
     "data": {
      "text/plain": [
       "[{'filename': 'Charakterystyka-173-2023-06-15-13773_N-2023-06-29.pdf',\n",
       "  'nazwa': 'nicergolin tabletki',\n",
       "  'sklad': 'tabletka nicergoliny nicergolinum substancja działać produkt laktoza',\n",
       "  'wskazania': 'otępienie nicergolina dorosły'}]"
      ]
     },
     "execution_count": 68,
     "metadata": {},
     "output_type": "execute_result"
    }
   ],
   "source": [
    "new_file_list_of_docs"
   ]
  },
  {
   "cell_type": "code",
   "execution_count": 70,
   "metadata": {},
   "outputs": [],
   "source": [
    "from sentence_transformers import SentenceTransformer\n",
    "import numpy as np\n",
    "import faiss\n",
    "\n",
    "def run_similarity_model(list_of_docs):\n",
    "\n",
    "    model = SentenceTransformer('LaBSE')\n",
    "    doc_embeddings = model.encode([doc['text'] for doc in list_of_docs])\n",
    "\n",
    "    index = faiss.IndexFlatL2(doc_embeddings[0].shape[0])  # Initialize the index\n",
    "    index.add(np.array(doc_embeddings)) \n",
    "\n",
    "    while True:\n",
    "        query = input(\"Enter the file name to list similar products (top 5 outputs): \")\n",
    "        query_embedding = model.encode([query])[0]\n",
    "        _, indices = index.search(np.array([query_embedding]), 5)\n",
    "\n",
    "        top_documents = [(list_of_docs[idx], 1.0) for idx in indices[0]]\n",
    "\n",
    "        for i, (doc, similarity) in enumerate(top_documents, start=1):\n",
    "            print(f\"Document {i}:\")\n",
    "            print(f\"Similarity Score: {similarity}\")\n",
    "            print(f\"Title: {doc['title']}\")\n",
    "            print(f\"Text: {doc['text']}\")\n",
    "            print(f\"Filename: {doc['filename']}\")\n",
    "            print()"
   ]
  },
  {
   "cell_type": "markdown",
   "metadata": {},
   "source": [
    "# Check versions\n"
   ]
  },
  {
   "cell_type": "code",
   "execution_count": 71,
   "metadata": {},
   "outputs": [
    {
     "data": {
      "text/plain": [
       "'2.2.1'"
      ]
     },
     "execution_count": 71,
     "metadata": {},
     "output_type": "execute_result"
    }
   ],
   "source": [
    "import pandas as pd \n",
    "pd.__version__"
   ]
  },
  {
   "cell_type": "code",
   "execution_count": 72,
   "metadata": {},
   "outputs": [
    {
     "name": "stderr",
     "output_type": "stream",
     "text": [
      "huggingface/tokenizers: The current process just got forked, after parallelism has already been used. Disabling parallelism to avoid deadlocks...\n",
      "To disable this warning, you can either:\n",
      "\t- Avoid using `tokenizers` before the fork if possible\n",
      "\t- Explicitly set the environment variable TOKENIZERS_PARALLELISM=(true | false)\n"
     ]
    },
    {
     "name": "stdout",
     "output_type": "stream",
     "text": [
      "nltk is installed: Version: 3.8.1\n",
      "PyMuPDF is installed: Version: 1.24.2\n"
     ]
    },
    {
     "name": "stderr",
     "output_type": "stream",
     "text": [
      "huggingface/tokenizers: The current process just got forked, after parallelism has already been used. Disabling parallelism to avoid deadlocks...\n",
      "To disable this warning, you can either:\n",
      "\t- Avoid using `tokenizers` before the fork if possible\n",
      "\t- Explicitly set the environment variable TOKENIZERS_PARALLELISM=(true | false)\n",
      "huggingface/tokenizers: The current process just got forked, after parallelism has already been used. Disabling parallelism to avoid deadlocks...\n",
      "To disable this warning, you can either:\n",
      "\t- Avoid using `tokenizers` before the fork if possible\n",
      "\t- Explicitly set the environment variable TOKENIZERS_PARALLELISM=(true | false)\n"
     ]
    },
    {
     "name": "stdout",
     "output_type": "stream",
     "text": [
      "scikit-learn is installed: Version: 1.4.1.post1\n",
      "sentence-transformers is installed: Version: 2.5.1\n"
     ]
    },
    {
     "name": "stderr",
     "output_type": "stream",
     "text": [
      "huggingface/tokenizers: The current process just got forked, after parallelism has already been used. Disabling parallelism to avoid deadlocks...\n",
      "To disable this warning, you can either:\n",
      "\t- Avoid using `tokenizers` before the fork if possible\n",
      "\t- Explicitly set the environment variable TOKENIZERS_PARALLELISM=(true | false)\n",
      "huggingface/tokenizers: The current process just got forked, after parallelism has already been used. Disabling parallelism to avoid deadlocks...\n",
      "To disable this warning, you can either:\n",
      "\t- Avoid using `tokenizers` before the fork if possible\n",
      "\t- Explicitly set the environment variable TOKENIZERS_PARALLELISM=(true | false)\n"
     ]
    },
    {
     "name": "stdout",
     "output_type": "stream",
     "text": [
      "spacy is installed: Version: 3.7.4\n"
     ]
    },
    {
     "name": "stderr",
     "output_type": "stream",
     "text": [
      "huggingface/tokenizers: The current process just got forked, after parallelism has already been used. Disabling parallelism to avoid deadlocks...\n",
      "To disable this warning, you can either:\n",
      "\t- Avoid using `tokenizers` before the fork if possible\n",
      "\t- Explicitly set the environment variable TOKENIZERS_PARALLELISM=(true | false)\n"
     ]
    },
    {
     "name": "stdout",
     "output_type": "stream",
     "text": [
      "torch is installed: Version: 2.4.0\n"
     ]
    },
    {
     "name": "stderr",
     "output_type": "stream",
     "text": [
      "huggingface/tokenizers: The current process just got forked, after parallelism has already been used. Disabling parallelism to avoid deadlocks...\n",
      "To disable this warning, you can either:\n",
      "\t- Avoid using `tokenizers` before the fork if possible\n",
      "\t- Explicitly set the environment variable TOKENIZERS_PARALLELISM=(true | false)\n"
     ]
    },
    {
     "name": "stdout",
     "output_type": "stream",
     "text": [
      "transformers is installed: Version: 4.38.2\n"
     ]
    },
    {
     "name": "stderr",
     "output_type": "stream",
     "text": [
      "huggingface/tokenizers: The current process just got forked, after parallelism has already been used. Disabling parallelism to avoid deadlocks...\n",
      "To disable this warning, you can either:\n",
      "\t- Avoid using `tokenizers` before the fork if possible\n",
      "\t- Explicitly set the environment variable TOKENIZERS_PARALLELISM=(true | false)\n"
     ]
    },
    {
     "name": "stdout",
     "output_type": "stream",
     "text": [
      "faiss-cpu is installed: Version: 1.8.0\n"
     ]
    },
    {
     "name": "stderr",
     "output_type": "stream",
     "text": [
      "huggingface/tokenizers: The current process just got forked, after parallelism has already been used. Disabling parallelism to avoid deadlocks...\n",
      "To disable this warning, you can either:\n",
      "\t- Avoid using `tokenizers` before the fork if possible\n",
      "\t- Explicitly set the environment variable TOKENIZERS_PARALLELISM=(true | false)\n"
     ]
    },
    {
     "name": "stdout",
     "output_type": "stream",
     "text": [
      "pandas is installed: Version: 2.2.1\n"
     ]
    }
   ],
   "source": [
    "import subprocess\n",
    "\n",
    "packages = [\n",
    "    \"nltk==3.8.1\",\n",
    "    \"PyMuPDF==1.24.2\",\n",
    "    \"scikit-learn==1.4.1.post1\",\n",
    "    \"sentence-transformers==2.5.1\",\n",
    "    \"spacy==3.7.4\",\n",
    "    \"torch==2.2.1\",\n",
    "    \"transformers==4.38.2\",\n",
    "    \"faiss-cpu==1.8.0\",\n",
    "    \"pandas==2.2.1\"\n",
    "]\n",
    "\n",
    "for package in packages:\n",
    "    package_name = package.split('==')[0]\n",
    "    try:\n",
    "        result = subprocess.run([\"pip\", \"show\", package_name], capture_output=True, text=True)\n",
    "        if result.returncode == 0:\n",
    "            version_info = [line for line in result.stdout.split('\\n') if \"Version\" in line]\n",
    "            if version_info:\n",
    "                print(f\"{package_name} is installed: {version_info[0]}\")\n",
    "            else:\n",
    "                print(f\"{package_name} is installed but version information is not available.\")\n",
    "        else:\n",
    "            print(f\"{package_name} is not installed.\")\n",
    "    except Exception as e:\n",
    "        print(f\"An error occurred while checking {package_name}: {str(e)}\")\n"
   ]
  }
 ],
 "metadata": {
  "kernelspec": {
   "display_name": "nlp",
   "language": "python",
   "name": "python3"
  },
  "language_info": {
   "codemirror_mode": {
    "name": "ipython",
    "version": 3
   },
   "file_extension": ".py",
   "mimetype": "text/x-python",
   "name": "python",
   "nbconvert_exporter": "python",
   "pygments_lexer": "ipython3",
   "version": "3.11.9"
  }
 },
 "nbformat": 4,
 "nbformat_minor": 2
}
